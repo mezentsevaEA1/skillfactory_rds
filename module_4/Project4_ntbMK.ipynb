{
 "cells": [
  {
   "cell_type": "code",
   "execution_count": 1,
   "metadata": {},
   "outputs": [],
   "source": [
    "from pandas import Series\n",
    "import pandas as pd\n",
    "import numpy as np\n",
    "from datetime import datetime, timedelta\n",
    "\n",
    "import matplotlib.pyplot as plt\n",
    "import seaborn as sns\n",
    "\n",
    "from sklearn.feature_selection import f_classif, mutual_info_classif\n",
    "from sklearn.preprocessing import LabelEncoder, OneHotEncoder, StandardScaler\n",
    "\n",
    "from sklearn.model_selection import train_test_split\n",
    "from sklearn.linear_model import LogisticRegression\n",
    "\n",
    "\n",
    "from sklearn.metrics import confusion_matrix\n",
    "from sklearn.metrics import auc, roc_auc_score, roc_curve, f1_score, accuracy_score, recall_score, precision_score, confusion_matrix"
   ]
  },
  {
   "cell_type": "code",
   "execution_count": 2,
   "metadata": {},
   "outputs": [],
   "source": [
    "# прогружаем данные:\n",
    "df_train = pd.read_csv(\"./train.csv\", encoding='ISO-8859-1', low_memory=False)\n",
    "df_test = pd.read_csv(\"./test.csv\", encoding='ISO-8859-1', low_memory=False)\n",
    "sample_submission = pd.read_csv(\n",
    "    './sample_submission.csv', encoding='ISO-8859-1', low_memory=False)"
   ]
  },
  {
   "cell_type": "code",
   "execution_count": 3,
   "metadata": {},
   "outputs": [
    {
     "name": "stdout",
     "output_type": "stream",
     "text": [
      "<class 'pandas.core.frame.DataFrame'>\n",
      "RangeIndex: 73799 entries, 0 to 73798\n",
      "Data columns (total 19 columns):\n",
      " #   Column            Non-Null Count  Dtype  \n",
      "---  ------            --------------  -----  \n",
      " 0   client_id         73799 non-null  int64  \n",
      " 1   app_date          73799 non-null  object \n",
      " 2   education         73492 non-null  object \n",
      " 3   sex               73799 non-null  object \n",
      " 4   age               73799 non-null  int64  \n",
      " 5   car               73799 non-null  object \n",
      " 6   car_type          73799 non-null  object \n",
      " 7   decline_app_cnt   73799 non-null  int64  \n",
      " 8   good_work         73799 non-null  int64  \n",
      " 9   score_bki         73799 non-null  float64\n",
      " 10  bki_request_cnt   73799 non-null  int64  \n",
      " 11  region_rating     73799 non-null  int64  \n",
      " 12  home_address      73799 non-null  int64  \n",
      " 13  work_address      73799 non-null  int64  \n",
      " 14  income            73799 non-null  int64  \n",
      " 15  sna               73799 non-null  int64  \n",
      " 16  first_time        73799 non-null  int64  \n",
      " 17  foreign_passport  73799 non-null  object \n",
      " 18  default           73799 non-null  int64  \n",
      "dtypes: float64(1), int64(12), object(6)\n",
      "memory usage: 10.7+ MB\n"
     ]
    }
   ],
   "source": [
    "df_train.info()"
   ]
  },
  {
   "cell_type": "code",
   "execution_count": 4,
   "metadata": {},
   "outputs": [],
   "source": [
    "# для корректной обработки признаков объединяем трейн и тест в один датасет\n",
    "df_train['sample'] = 1  # помечаем где у нас трейн\n",
    "df_test['sample'] = 0  # помечаем где у нас тест"
   ]
  },
  {
   "cell_type": "code",
   "execution_count": 5,
   "metadata": {},
   "outputs": [],
   "source": [
    "# в тесте у нас нет значения default, мы его должны предсказать, по этому пока просто заполняем нулями\n",
    "df_test['default'] = 0\n",
    "\n",
    "data = df_test.append(df_train, sort=False).reset_index(\n",
    "    drop=True)  # объединяем"
   ]
  },
  {
   "cell_type": "code",
   "execution_count": 6,
   "metadata": {},
   "outputs": [
    {
     "data": {
      "text/html": [
       "<div>\n",
       "<style scoped>\n",
       "    .dataframe tbody tr th:only-of-type {\n",
       "        vertical-align: middle;\n",
       "    }\n",
       "\n",
       "    .dataframe tbody tr th {\n",
       "        vertical-align: top;\n",
       "    }\n",
       "\n",
       "    .dataframe thead th {\n",
       "        text-align: right;\n",
       "    }\n",
       "</style>\n",
       "<table border=\"1\" class=\"dataframe\">\n",
       "  <thead>\n",
       "    <tr style=\"text-align: right;\">\n",
       "      <th></th>\n",
       "      <th>client_id</th>\n",
       "      <th>app_date</th>\n",
       "      <th>education</th>\n",
       "      <th>sex</th>\n",
       "      <th>age</th>\n",
       "      <th>car</th>\n",
       "      <th>car_type</th>\n",
       "      <th>decline_app_cnt</th>\n",
       "      <th>good_work</th>\n",
       "      <th>score_bki</th>\n",
       "      <th>bki_request_cnt</th>\n",
       "      <th>region_rating</th>\n",
       "      <th>home_address</th>\n",
       "      <th>work_address</th>\n",
       "      <th>income</th>\n",
       "      <th>sna</th>\n",
       "      <th>first_time</th>\n",
       "      <th>foreign_passport</th>\n",
       "      <th>sample</th>\n",
       "      <th>default</th>\n",
       "    </tr>\n",
       "  </thead>\n",
       "  <tbody>\n",
       "    <tr>\n",
       "      <th>0</th>\n",
       "      <td>74835</td>\n",
       "      <td>22MAR2014</td>\n",
       "      <td>GRD</td>\n",
       "      <td>M</td>\n",
       "      <td>29</td>\n",
       "      <td>Y</td>\n",
       "      <td>Y</td>\n",
       "      <td>0</td>\n",
       "      <td>0</td>\n",
       "      <td>-2.271884</td>\n",
       "      <td>3</td>\n",
       "      <td>50</td>\n",
       "      <td>1</td>\n",
       "      <td>2</td>\n",
       "      <td>50000</td>\n",
       "      <td>1</td>\n",
       "      <td>4</td>\n",
       "      <td>N</td>\n",
       "      <td>0</td>\n",
       "      <td>0</td>\n",
       "    </tr>\n",
       "    <tr>\n",
       "      <th>1</th>\n",
       "      <td>17527</td>\n",
       "      <td>24JAN2014</td>\n",
       "      <td>SCH</td>\n",
       "      <td>F</td>\n",
       "      <td>39</td>\n",
       "      <td>N</td>\n",
       "      <td>N</td>\n",
       "      <td>5</td>\n",
       "      <td>0</td>\n",
       "      <td>-1.504999</td>\n",
       "      <td>2</td>\n",
       "      <td>50</td>\n",
       "      <td>1</td>\n",
       "      <td>2</td>\n",
       "      <td>5000</td>\n",
       "      <td>4</td>\n",
       "      <td>3</td>\n",
       "      <td>N</td>\n",
       "      <td>0</td>\n",
       "      <td>0</td>\n",
       "    </tr>\n",
       "    <tr>\n",
       "      <th>2</th>\n",
       "      <td>75683</td>\n",
       "      <td>23MAR2014</td>\n",
       "      <td>UGR</td>\n",
       "      <td>M</td>\n",
       "      <td>50</td>\n",
       "      <td>Y</td>\n",
       "      <td>Y</td>\n",
       "      <td>0</td>\n",
       "      <td>0</td>\n",
       "      <td>-1.691339</td>\n",
       "      <td>1</td>\n",
       "      <td>50</td>\n",
       "      <td>1</td>\n",
       "      <td>2</td>\n",
       "      <td>30000</td>\n",
       "      <td>1</td>\n",
       "      <td>3</td>\n",
       "      <td>Y</td>\n",
       "      <td>0</td>\n",
       "      <td>0</td>\n",
       "    </tr>\n",
       "    <tr>\n",
       "      <th>3</th>\n",
       "      <td>26883</td>\n",
       "      <td>03FEB2014</td>\n",
       "      <td>SCH</td>\n",
       "      <td>M</td>\n",
       "      <td>56</td>\n",
       "      <td>N</td>\n",
       "      <td>N</td>\n",
       "      <td>0</td>\n",
       "      <td>0</td>\n",
       "      <td>-2.374182</td>\n",
       "      <td>1</td>\n",
       "      <td>40</td>\n",
       "      <td>1</td>\n",
       "      <td>2</td>\n",
       "      <td>17000</td>\n",
       "      <td>1</td>\n",
       "      <td>3</td>\n",
       "      <td>N</td>\n",
       "      <td>0</td>\n",
       "      <td>0</td>\n",
       "    </tr>\n",
       "    <tr>\n",
       "      <th>4</th>\n",
       "      <td>28862</td>\n",
       "      <td>04FEB2014</td>\n",
       "      <td>GRD</td>\n",
       "      <td>F</td>\n",
       "      <td>38</td>\n",
       "      <td>N</td>\n",
       "      <td>N</td>\n",
       "      <td>0</td>\n",
       "      <td>0</td>\n",
       "      <td>-2.487502</td>\n",
       "      <td>0</td>\n",
       "      <td>80</td>\n",
       "      <td>2</td>\n",
       "      <td>3</td>\n",
       "      <td>120000</td>\n",
       "      <td>1</td>\n",
       "      <td>3</td>\n",
       "      <td>N</td>\n",
       "      <td>0</td>\n",
       "      <td>0</td>\n",
       "    </tr>\n",
       "    <tr>\n",
       "      <th>...</th>\n",
       "      <td>...</td>\n",
       "      <td>...</td>\n",
       "      <td>...</td>\n",
       "      <td>...</td>\n",
       "      <td>...</td>\n",
       "      <td>...</td>\n",
       "      <td>...</td>\n",
       "      <td>...</td>\n",
       "      <td>...</td>\n",
       "      <td>...</td>\n",
       "      <td>...</td>\n",
       "      <td>...</td>\n",
       "      <td>...</td>\n",
       "      <td>...</td>\n",
       "      <td>...</td>\n",
       "      <td>...</td>\n",
       "      <td>...</td>\n",
       "      <td>...</td>\n",
       "      <td>...</td>\n",
       "      <td>...</td>\n",
       "    </tr>\n",
       "    <tr>\n",
       "      <th>110143</th>\n",
       "      <td>54887</td>\n",
       "      <td>04MAR2014</td>\n",
       "      <td>GRD</td>\n",
       "      <td>F</td>\n",
       "      <td>45</td>\n",
       "      <td>N</td>\n",
       "      <td>N</td>\n",
       "      <td>0</td>\n",
       "      <td>0</td>\n",
       "      <td>-1.792064</td>\n",
       "      <td>3</td>\n",
       "      <td>50</td>\n",
       "      <td>1</td>\n",
       "      <td>2</td>\n",
       "      <td>17000</td>\n",
       "      <td>4</td>\n",
       "      <td>4</td>\n",
       "      <td>N</td>\n",
       "      <td>1</td>\n",
       "      <td>0</td>\n",
       "    </tr>\n",
       "    <tr>\n",
       "      <th>110144</th>\n",
       "      <td>76821</td>\n",
       "      <td>24MAR2014</td>\n",
       "      <td>SCH</td>\n",
       "      <td>M</td>\n",
       "      <td>41</td>\n",
       "      <td>Y</td>\n",
       "      <td>Y</td>\n",
       "      <td>0</td>\n",
       "      <td>0</td>\n",
       "      <td>-2.058029</td>\n",
       "      <td>1</td>\n",
       "      <td>50</td>\n",
       "      <td>2</td>\n",
       "      <td>2</td>\n",
       "      <td>70000</td>\n",
       "      <td>1</td>\n",
       "      <td>4</td>\n",
       "      <td>N</td>\n",
       "      <td>1</td>\n",
       "      <td>0</td>\n",
       "    </tr>\n",
       "    <tr>\n",
       "      <th>110145</th>\n",
       "      <td>103695</td>\n",
       "      <td>22APR2014</td>\n",
       "      <td>SCH</td>\n",
       "      <td>M</td>\n",
       "      <td>31</td>\n",
       "      <td>N</td>\n",
       "      <td>N</td>\n",
       "      <td>0</td>\n",
       "      <td>0</td>\n",
       "      <td>-1.512635</td>\n",
       "      <td>4</td>\n",
       "      <td>80</td>\n",
       "      <td>2</td>\n",
       "      <td>3</td>\n",
       "      <td>45000</td>\n",
       "      <td>2</td>\n",
       "      <td>2</td>\n",
       "      <td>N</td>\n",
       "      <td>1</td>\n",
       "      <td>0</td>\n",
       "    </tr>\n",
       "    <tr>\n",
       "      <th>110146</th>\n",
       "      <td>861</td>\n",
       "      <td>04JAN2014</td>\n",
       "      <td>SCH</td>\n",
       "      <td>F</td>\n",
       "      <td>29</td>\n",
       "      <td>N</td>\n",
       "      <td>N</td>\n",
       "      <td>0</td>\n",
       "      <td>1</td>\n",
       "      <td>-1.479334</td>\n",
       "      <td>3</td>\n",
       "      <td>50</td>\n",
       "      <td>1</td>\n",
       "      <td>3</td>\n",
       "      <td>13000</td>\n",
       "      <td>2</td>\n",
       "      <td>3</td>\n",
       "      <td>N</td>\n",
       "      <td>1</td>\n",
       "      <td>1</td>\n",
       "    </tr>\n",
       "    <tr>\n",
       "      <th>110147</th>\n",
       "      <td>15796</td>\n",
       "      <td>23JAN2014</td>\n",
       "      <td>GRD</td>\n",
       "      <td>M</td>\n",
       "      <td>34</td>\n",
       "      <td>N</td>\n",
       "      <td>N</td>\n",
       "      <td>0</td>\n",
       "      <td>0</td>\n",
       "      <td>-1.764711</td>\n",
       "      <td>2</td>\n",
       "      <td>50</td>\n",
       "      <td>2</td>\n",
       "      <td>3</td>\n",
       "      <td>25000</td>\n",
       "      <td>1</td>\n",
       "      <td>3</td>\n",
       "      <td>N</td>\n",
       "      <td>1</td>\n",
       "      <td>0</td>\n",
       "    </tr>\n",
       "  </tbody>\n",
       "</table>\n",
       "<p>110148 rows × 20 columns</p>\n",
       "</div>"
      ],
      "text/plain": [
       "        client_id   app_date education sex  age car car_type  decline_app_cnt  \\\n",
       "0           74835  22MAR2014       GRD   M   29   Y        Y                0   \n",
       "1           17527  24JAN2014       SCH   F   39   N        N                5   \n",
       "2           75683  23MAR2014       UGR   M   50   Y        Y                0   \n",
       "3           26883  03FEB2014       SCH   M   56   N        N                0   \n",
       "4           28862  04FEB2014       GRD   F   38   N        N                0   \n",
       "...           ...        ...       ...  ..  ...  ..      ...              ...   \n",
       "110143      54887  04MAR2014       GRD   F   45   N        N                0   \n",
       "110144      76821  24MAR2014       SCH   M   41   Y        Y                0   \n",
       "110145     103695  22APR2014       SCH   M   31   N        N                0   \n",
       "110146        861  04JAN2014       SCH   F   29   N        N                0   \n",
       "110147      15796  23JAN2014       GRD   M   34   N        N                0   \n",
       "\n",
       "        good_work  score_bki  bki_request_cnt  region_rating  home_address  \\\n",
       "0               0  -2.271884                3             50             1   \n",
       "1               0  -1.504999                2             50             1   \n",
       "2               0  -1.691339                1             50             1   \n",
       "3               0  -2.374182                1             40             1   \n",
       "4               0  -2.487502                0             80             2   \n",
       "...           ...        ...              ...            ...           ...   \n",
       "110143          0  -1.792064                3             50             1   \n",
       "110144          0  -2.058029                1             50             2   \n",
       "110145          0  -1.512635                4             80             2   \n",
       "110146          1  -1.479334                3             50             1   \n",
       "110147          0  -1.764711                2             50             2   \n",
       "\n",
       "        work_address  income  sna  first_time foreign_passport  sample  \\\n",
       "0                  2   50000    1           4                N       0   \n",
       "1                  2    5000    4           3                N       0   \n",
       "2                  2   30000    1           3                Y       0   \n",
       "3                  2   17000    1           3                N       0   \n",
       "4                  3  120000    1           3                N       0   \n",
       "...              ...     ...  ...         ...              ...     ...   \n",
       "110143             2   17000    4           4                N       1   \n",
       "110144             2   70000    1           4                N       1   \n",
       "110145             3   45000    2           2                N       1   \n",
       "110146             3   13000    2           3                N       1   \n",
       "110147             3   25000    1           3                N       1   \n",
       "\n",
       "        default  \n",
       "0             0  \n",
       "1             0  \n",
       "2             0  \n",
       "3             0  \n",
       "4             0  \n",
       "...         ...  \n",
       "110143        0  \n",
       "110144        0  \n",
       "110145        0  \n",
       "110146        1  \n",
       "110147        0  \n",
       "\n",
       "[110148 rows x 20 columns]"
      ]
     },
     "execution_count": 6,
     "metadata": {},
     "output_type": "execute_result"
    }
   ],
   "source": [
    "data"
   ]
  },
  {
   "cell_type": "code",
   "execution_count": 8,
   "metadata": {},
   "outputs": [
    {
     "data": {
      "text/plain": [
       "<matplotlib.axes._subplots.AxesSubplot at 0x1ea2ee20550>"
      ]
     },
     "execution_count": 8,
     "metadata": {},
     "output_type": "execute_result"
    },
    {
     "data": {
      "image/png": "[encoded data removed]",
      "text/plain": [
       "<Figure size 432x288 with 1 Axes>"
      ]
     },
     "metadata": {
      "needs_background": "light"
     },
     "output_type": "display_data"
    }
   ],
   "source": [
    "# посмотрим на распределение для переменной default:\n",
    "df_train.default.value_counts()\n",
    "df_train.default.hist(bins=df_train.default.nunique())\n",
    "# у банка по-прежнему больше клиентов без дефолта"
   ]
  },
  {
   "cell_type": "code",
   "execution_count": 10,
   "metadata": {},
   "outputs": [
    {
     "name": "stdout",
     "output_type": "stream",
     "text": [
      "<class 'pandas.core.frame.DataFrame'>\n",
      "RangeIndex: 110148 entries, 0 to 110147\n",
      "Data columns (total 20 columns):\n",
      " #   Column            Non-Null Count   Dtype  \n",
      "---  ------            --------------   -----  \n",
      " 0   client_id         110148 non-null  int64  \n",
      " 1   app_date          110148 non-null  object \n",
      " 2   education         109670 non-null  object \n",
      " 3   sex               110148 non-null  object \n",
      " 4   age               110148 non-null  int64  \n",
      " 5   car               110148 non-null  object \n",
      " 6   car_type          110148 non-null  object \n",
      " 7   decline_app_cnt   110148 non-null  int64  \n",
      " 8   good_work         110148 non-null  int64  \n",
      " 9   score_bki         110148 non-null  float64\n",
      " 10  bki_request_cnt   110148 non-null  int64  \n",
      " 11  region_rating     110148 non-null  int64  \n",
      " 12  home_address      110148 non-null  int64  \n",
      " 13  work_address      110148 non-null  int64  \n",
      " 14  income            110148 non-null  int64  \n",
      " 15  sna               110148 non-null  int64  \n",
      " 16  first_time        110148 non-null  int64  \n",
      " 17  foreign_passport  110148 non-null  object \n",
      " 18  sample            110148 non-null  int64  \n",
      " 19  default           110148 non-null  int64  \n",
      "dtypes: float64(1), int64(13), object(6)\n",
      "memory usage: 16.8+ MB\n"
     ]
    }
   ],
   "source": [
    "# Посмотрим на тип данных и наличие пропусков\n",
    "data.info()"
   ]
  },
  {
   "cell_type": "code",
   "execution_count": 12,
   "metadata": {},
   "outputs": [
    {
     "data": {
      "text/plain": [
       "<matplotlib.axes._subplots.AxesSubplot at 0x1ea30954b80>"
      ]
     },
     "execution_count": 12,
     "metadata": {},
     "output_type": "execute_result"
    },
    {
     "data": {
      "image/png": "[encoded data removed]",
      "text/plain": [
       "<Figure size 432x288 with 1 Axes>"
      ]
     },
     "metadata": {
      "needs_background": "light"
     },
     "output_type": "display_data"
    }
   ],
   "source": [
    "# В данных о клиентах присутствуют переменные всех типов, не все имеют числовую запись, а также есть пропущенные значения. Значит, нам необходима предварительная очистка данных.\n",
    "# Как мы видим, пропуски встречаются только в информации об образовании клиентов. Посмотрим на признак ближе\n",
    "data.education.value_counts().plot.barh()"
   ]
  },
  {
   "cell_type": "code",
   "execution_count": 13,
   "metadata": {},
   "outputs": [],
   "source": [
    "# заполним пропуски в данных в поле education наиболее часлым значением (SCH) (значение \"по умолчанию\" как минимальный уровень образования)\n",
    "data.education = data.education.fillna('SCH')"
   ]
  },
  {
   "cell_type": "code",
   "execution_count": 14,
   "metadata": {},
   "outputs": [
    {
     "data": {
      "text/plain": [
       "count     110148\n",
       "unique         5\n",
       "top          SCH\n",
       "freq       58476\n",
       "Name: education, dtype: object"
      ]
     },
     "execution_count": 14,
     "metadata": {},
     "output_type": "execute_result"
    }
   ],
   "source": [
    "data.education.describe()"
   ]
  },
  {
   "cell_type": "code",
   "execution_count": 15,
   "metadata": {},
   "outputs": [
    {
     "data": {
      "text/html": [
       "<div>\n",
       "<style scoped>\n",
       "    .dataframe tbody tr th:only-of-type {\n",
       "        vertical-align: middle;\n",
       "    }\n",
       "\n",
       "    .dataframe tbody tr th {\n",
       "        vertical-align: top;\n",
       "    }\n",
       "\n",
       "    .dataframe thead th {\n",
       "        text-align: right;\n",
       "    }\n",
       "</style>\n",
       "<table border=\"1\" class=\"dataframe\">\n",
       "  <thead>\n",
       "    <tr style=\"text-align: right;\">\n",
       "      <th></th>\n",
       "      <th>client_id</th>\n",
       "      <th>app_date</th>\n",
       "      <th>education</th>\n",
       "      <th>sex</th>\n",
       "      <th>age</th>\n",
       "      <th>car</th>\n",
       "      <th>car_type</th>\n",
       "      <th>decline_app_cnt</th>\n",
       "      <th>good_work</th>\n",
       "      <th>score_bki</th>\n",
       "      <th>bki_request_cnt</th>\n",
       "      <th>region_rating</th>\n",
       "      <th>home_address</th>\n",
       "      <th>work_address</th>\n",
       "      <th>income</th>\n",
       "      <th>sna</th>\n",
       "      <th>first_time</th>\n",
       "      <th>foreign_passport</th>\n",
       "      <th>sample</th>\n",
       "      <th>default</th>\n",
       "    </tr>\n",
       "  </thead>\n",
       "  <tbody>\n",
       "    <tr>\n",
       "      <th>0</th>\n",
       "      <td>74835</td>\n",
       "      <td>22MAR2014</td>\n",
       "      <td>GRD</td>\n",
       "      <td>M</td>\n",
       "      <td>29</td>\n",
       "      <td>Y</td>\n",
       "      <td>Y</td>\n",
       "      <td>0</td>\n",
       "      <td>0</td>\n",
       "      <td>-2.271884</td>\n",
       "      <td>3</td>\n",
       "      <td>50</td>\n",
       "      <td>1</td>\n",
       "      <td>2</td>\n",
       "      <td>50000</td>\n",
       "      <td>1</td>\n",
       "      <td>4</td>\n",
       "      <td>N</td>\n",
       "      <td>0</td>\n",
       "      <td>0</td>\n",
       "    </tr>\n",
       "    <tr>\n",
       "      <th>1</th>\n",
       "      <td>17527</td>\n",
       "      <td>24JAN2014</td>\n",
       "      <td>SCH</td>\n",
       "      <td>F</td>\n",
       "      <td>39</td>\n",
       "      <td>N</td>\n",
       "      <td>N</td>\n",
       "      <td>5</td>\n",
       "      <td>0</td>\n",
       "      <td>-1.504999</td>\n",
       "      <td>2</td>\n",
       "      <td>50</td>\n",
       "      <td>1</td>\n",
       "      <td>2</td>\n",
       "      <td>5000</td>\n",
       "      <td>4</td>\n",
       "      <td>3</td>\n",
       "      <td>N</td>\n",
       "      <td>0</td>\n",
       "      <td>0</td>\n",
       "    </tr>\n",
       "    <tr>\n",
       "      <th>2</th>\n",
       "      <td>75683</td>\n",
       "      <td>23MAR2014</td>\n",
       "      <td>UGR</td>\n",
       "      <td>M</td>\n",
       "      <td>50</td>\n",
       "      <td>Y</td>\n",
       "      <td>Y</td>\n",
       "      <td>0</td>\n",
       "      <td>0</td>\n",
       "      <td>-1.691339</td>\n",
       "      <td>1</td>\n",
       "      <td>50</td>\n",
       "      <td>1</td>\n",
       "      <td>2</td>\n",
       "      <td>30000</td>\n",
       "      <td>1</td>\n",
       "      <td>3</td>\n",
       "      <td>Y</td>\n",
       "      <td>0</td>\n",
       "      <td>0</td>\n",
       "    </tr>\n",
       "    <tr>\n",
       "      <th>3</th>\n",
       "      <td>26883</td>\n",
       "      <td>03FEB2014</td>\n",
       "      <td>SCH</td>\n",
       "      <td>M</td>\n",
       "      <td>56</td>\n",
       "      <td>N</td>\n",
       "      <td>N</td>\n",
       "      <td>0</td>\n",
       "      <td>0</td>\n",
       "      <td>-2.374182</td>\n",
       "      <td>1</td>\n",
       "      <td>40</td>\n",
       "      <td>1</td>\n",
       "      <td>2</td>\n",
       "      <td>17000</td>\n",
       "      <td>1</td>\n",
       "      <td>3</td>\n",
       "      <td>N</td>\n",
       "      <td>0</td>\n",
       "      <td>0</td>\n",
       "    </tr>\n",
       "    <tr>\n",
       "      <th>4</th>\n",
       "      <td>28862</td>\n",
       "      <td>04FEB2014</td>\n",
       "      <td>GRD</td>\n",
       "      <td>F</td>\n",
       "      <td>38</td>\n",
       "      <td>N</td>\n",
       "      <td>N</td>\n",
       "      <td>0</td>\n",
       "      <td>0</td>\n",
       "      <td>-2.487502</td>\n",
       "      <td>0</td>\n",
       "      <td>80</td>\n",
       "      <td>2</td>\n",
       "      <td>3</td>\n",
       "      <td>120000</td>\n",
       "      <td>1</td>\n",
       "      <td>3</td>\n",
       "      <td>N</td>\n",
       "      <td>0</td>\n",
       "      <td>0</td>\n",
       "    </tr>\n",
       "    <tr>\n",
       "      <th>...</th>\n",
       "      <td>...</td>\n",
       "      <td>...</td>\n",
       "      <td>...</td>\n",
       "      <td>...</td>\n",
       "      <td>...</td>\n",
       "      <td>...</td>\n",
       "      <td>...</td>\n",
       "      <td>...</td>\n",
       "      <td>...</td>\n",
       "      <td>...</td>\n",
       "      <td>...</td>\n",
       "      <td>...</td>\n",
       "      <td>...</td>\n",
       "      <td>...</td>\n",
       "      <td>...</td>\n",
       "      <td>...</td>\n",
       "      <td>...</td>\n",
       "      <td>...</td>\n",
       "      <td>...</td>\n",
       "      <td>...</td>\n",
       "    </tr>\n",
       "    <tr>\n",
       "      <th>110143</th>\n",
       "      <td>54887</td>\n",
       "      <td>04MAR2014</td>\n",
       "      <td>GRD</td>\n",
       "      <td>F</td>\n",
       "      <td>45</td>\n",
       "      <td>N</td>\n",
       "      <td>N</td>\n",
       "      <td>0</td>\n",
       "      <td>0</td>\n",
       "      <td>-1.792064</td>\n",
       "      <td>3</td>\n",
       "      <td>50</td>\n",
       "      <td>1</td>\n",
       "      <td>2</td>\n",
       "      <td>17000</td>\n",
       "      <td>4</td>\n",
       "      <td>4</td>\n",
       "      <td>N</td>\n",
       "      <td>1</td>\n",
       "      <td>0</td>\n",
       "    </tr>\n",
       "    <tr>\n",
       "      <th>110144</th>\n",
       "      <td>76821</td>\n",
       "      <td>24MAR2014</td>\n",
       "      <td>SCH</td>\n",
       "      <td>M</td>\n",
       "      <td>41</td>\n",
       "      <td>Y</td>\n",
       "      <td>Y</td>\n",
       "      <td>0</td>\n",
       "      <td>0</td>\n",
       "      <td>-2.058029</td>\n",
       "      <td>1</td>\n",
       "      <td>50</td>\n",
       "      <td>2</td>\n",
       "      <td>2</td>\n",
       "      <td>70000</td>\n",
       "      <td>1</td>\n",
       "      <td>4</td>\n",
       "      <td>N</td>\n",
       "      <td>1</td>\n",
       "      <td>0</td>\n",
       "    </tr>\n",
       "    <tr>\n",
       "      <th>110145</th>\n",
       "      <td>103695</td>\n",
       "      <td>22APR2014</td>\n",
       "      <td>SCH</td>\n",
       "      <td>M</td>\n",
       "      <td>31</td>\n",
       "      <td>N</td>\n",
       "      <td>N</td>\n",
       "      <td>0</td>\n",
       "      <td>0</td>\n",
       "      <td>-1.512635</td>\n",
       "      <td>4</td>\n",
       "      <td>80</td>\n",
       "      <td>2</td>\n",
       "      <td>3</td>\n",
       "      <td>45000</td>\n",
       "      <td>2</td>\n",
       "      <td>2</td>\n",
       "      <td>N</td>\n",
       "      <td>1</td>\n",
       "      <td>0</td>\n",
       "    </tr>\n",
       "    <tr>\n",
       "      <th>110146</th>\n",
       "      <td>861</td>\n",
       "      <td>04JAN2014</td>\n",
       "      <td>SCH</td>\n",
       "      <td>F</td>\n",
       "      <td>29</td>\n",
       "      <td>N</td>\n",
       "      <td>N</td>\n",
       "      <td>0</td>\n",
       "      <td>1</td>\n",
       "      <td>-1.479334</td>\n",
       "      <td>3</td>\n",
       "      <td>50</td>\n",
       "      <td>1</td>\n",
       "      <td>3</td>\n",
       "      <td>13000</td>\n",
       "      <td>2</td>\n",
       "      <td>3</td>\n",
       "      <td>N</td>\n",
       "      <td>1</td>\n",
       "      <td>1</td>\n",
       "    </tr>\n",
       "    <tr>\n",
       "      <th>110147</th>\n",
       "      <td>15796</td>\n",
       "      <td>23JAN2014</td>\n",
       "      <td>GRD</td>\n",
       "      <td>M</td>\n",
       "      <td>34</td>\n",
       "      <td>N</td>\n",
       "      <td>N</td>\n",
       "      <td>0</td>\n",
       "      <td>0</td>\n",
       "      <td>-1.764711</td>\n",
       "      <td>2</td>\n",
       "      <td>50</td>\n",
       "      <td>2</td>\n",
       "      <td>3</td>\n",
       "      <td>25000</td>\n",
       "      <td>1</td>\n",
       "      <td>3</td>\n",
       "      <td>N</td>\n",
       "      <td>1</td>\n",
       "      <td>0</td>\n",
       "    </tr>\n",
       "  </tbody>\n",
       "</table>\n",
       "<p>110148 rows × 20 columns</p>\n",
       "</div>"
      ],
      "text/plain": [
       "        client_id   app_date education sex  age car car_type  decline_app_cnt  \\\n",
       "0           74835  22MAR2014       GRD   M   29   Y        Y                0   \n",
       "1           17527  24JAN2014       SCH   F   39   N        N                5   \n",
       "2           75683  23MAR2014       UGR   M   50   Y        Y                0   \n",
       "3           26883  03FEB2014       SCH   M   56   N        N                0   \n",
       "4           28862  04FEB2014       GRD   F   38   N        N                0   \n",
       "...           ...        ...       ...  ..  ...  ..      ...              ...   \n",
       "110143      54887  04MAR2014       GRD   F   45   N        N                0   \n",
       "110144      76821  24MAR2014       SCH   M   41   Y        Y                0   \n",
       "110145     103695  22APR2014       SCH   M   31   N        N                0   \n",
       "110146        861  04JAN2014       SCH   F   29   N        N                0   \n",
       "110147      15796  23JAN2014       GRD   M   34   N        N                0   \n",
       "\n",
       "        good_work  score_bki  bki_request_cnt  region_rating  home_address  \\\n",
       "0               0  -2.271884                3             50             1   \n",
       "1               0  -1.504999                2             50             1   \n",
       "2               0  -1.691339                1             50             1   \n",
       "3               0  -2.374182                1             40             1   \n",
       "4               0  -2.487502                0             80             2   \n",
       "...           ...        ...              ...            ...           ...   \n",
       "110143          0  -1.792064                3             50             1   \n",
       "110144          0  -2.058029                1             50             2   \n",
       "110145          0  -1.512635                4             80             2   \n",
       "110146          1  -1.479334                3             50             1   \n",
       "110147          0  -1.764711                2             50             2   \n",
       "\n",
       "        work_address  income  sna  first_time foreign_passport  sample  \\\n",
       "0                  2   50000    1           4                N       0   \n",
       "1                  2    5000    4           3                N       0   \n",
       "2                  2   30000    1           3                Y       0   \n",
       "3                  2   17000    1           3                N       0   \n",
       "4                  3  120000    1           3                N       0   \n",
       "...              ...     ...  ...         ...              ...     ...   \n",
       "110143             2   17000    4           4                N       1   \n",
       "110144             2   70000    1           4                N       1   \n",
       "110145             3   45000    2           2                N       1   \n",
       "110146             3   13000    2           3                N       1   \n",
       "110147             3   25000    1           3                N       1   \n",
       "\n",
       "        default  \n",
       "0             0  \n",
       "1             0  \n",
       "2             0  \n",
       "3             0  \n",
       "4             0  \n",
       "...         ...  \n",
       "110143        0  \n",
       "110144        0  \n",
       "110145        0  \n",
       "110146        1  \n",
       "110147        0  \n",
       "\n",
       "[110148 rows x 20 columns]"
      ]
     },
     "execution_count": 15,
     "metadata": {},
     "output_type": "execute_result"
    }
   ],
   "source": [
    "data"
   ]
  },
  {
   "cell_type": "code",
   "execution_count": 16,
   "metadata": {},
   "outputs": [
    {
     "data": {
      "text/plain": [
       "110148"
      ]
     },
     "execution_count": 16,
     "metadata": {},
     "output_type": "execute_result"
    }
   ],
   "source": [
    "# Рассмотрим имеющиеся признаки:\n",
    "# client_id\n",
    "data.client_id.nunique()\n",
    "# столбец с уникальными значениями id клиентов (в единой базе может отражать порядок добавления клиентов в базу(как давно они добавлены), так как возрастает)"
   ]
  },
  {
   "cell_type": "code",
   "execution_count": 17,
   "metadata": {},
   "outputs": [],
   "source": [
    "# app_date - дата обновления,преобразуем к datetime для удобства последующего future engenering\n",
    "data.app_date = pd.to_datetime(data.app_date, format='%d%b%Y')"
   ]
  },
  {
   "cell_type": "code",
   "execution_count": 18,
   "metadata": {},
   "outputs": [
    {
     "data": {
      "text/plain": [
       "0        2014-03-22\n",
       "1        2014-01-24\n",
       "2        2014-03-23\n",
       "3        2014-02-03\n",
       "4        2014-02-04\n",
       "            ...    \n",
       "110143   2014-03-04\n",
       "110144   2014-03-24\n",
       "110145   2014-04-22\n",
       "110146   2014-01-04\n",
       "110147   2014-01-23\n",
       "Name: app_date, Length: 110148, dtype: datetime64[ns]"
      ]
     },
     "execution_count": 18,
     "metadata": {},
     "output_type": "execute_result"
    }
   ],
   "source": [
    "data.app_date"
   ]
  },
  {
   "cell_type": "code",
   "execution_count": 19,
   "metadata": {},
   "outputs": [],
   "source": [
    "# Оставшиеся признаки сгруппируем в три категории по типу их обработки (категориальные, бинарные и числовые) для дальнейшего удобного анализа.\n",
    "# бинарные переменные:\n",
    "bin_cols = ['sex', 'car', 'car_type', 'good_work', 'foreign_passport']\n",
    "# категориальные\n",
    "cat_cols = ['education', 'home_address', 'work_address',\n",
    "            'sna', 'first_time', 'region_rating']\n",
    "# числовые переменные\n",
    "num_cols = ['age', 'decline_app_cnt', 'score_bki', 'income', 'bki_request_cnt']"
   ]
  },
  {
   "cell_type": "code",
   "execution_count": 20,
   "metadata": {},
   "outputs": [
    {
     "data": {
      "image/png": "[encoded data removed]",
      "text/plain": [
       "<Figure size 432x288 with 1 Axes>"
      ]
     },
     "metadata": {
      "needs_background": "light"
     },
     "output_type": "display_data"
    },
    {
     "data": {
      "image/png": "[encoded data removed]",
      "text/plain": [
       "<Figure size 432x288 with 1 Axes>"
      ]
     },
     "metadata": {
      "needs_background": "light"
     },
     "output_type": "display_data"
    },
    {
     "data": {
      "image/png": "[encoded data removed]",
      "text/plain": [
       "<Figure size 432x288 with 1 Axes>"
      ]
     },
     "metadata": {
      "needs_background": "light"
     },
     "output_type": "display_data"
    },
    {
     "data": {
      "image/png": "[encoded data removed]",
      "text/plain": [
       "<Figure size 432x288 with 1 Axes>"
      ]
     },
     "metadata": {
      "needs_background": "light"
     },
     "output_type": "display_data"
    },
    {
     "data": {
      "image/png": "[encoded data removed]",
      "text/plain": [
       "<Figure size 432x288 with 1 Axes>"
      ]
     },
     "metadata": {
      "needs_background": "light"
     },
     "output_type": "display_data"
    }
   ],
   "source": [
    "# Посмотрим на распределение числовых данных:\n",
    "for i in num_cols:\n",
    "    plt.figure()\n",
    "    sns.distplot(data[i], kde=False, rug=False)\n",
    "    plt.title(i)\n",
    "    plt.show()"
   ]
  },
  {
   "cell_type": "code",
   "execution_count": 21,
   "metadata": {},
   "outputs": [],
   "source": [
    "# После построения гистограмм стало очевидно, что распределения всех числовых переменных, кроме score_bki, имеют тяжёлый правый хвост.\n",
    "# для того чтобы сделать распределение данных переменных более нормальным, попробуем логарифмировать величины этих переменных:\n",
    "logdata = pd.DataFrame()\n",
    "for i in num_cols:\n",
    "    if i != 'score_bki':\n",
    "        logdata[i] = data[i].apply(lambda x: np.log(x+1))"
   ]
  },
  {
   "cell_type": "code",
   "execution_count": 22,
   "metadata": {},
   "outputs": [
    {
     "data": {
      "image/png": "[encoded data removed]",
      "text/plain": [
       "<Figure size 432x288 with 1 Axes>"
      ]
     },
     "metadata": {
      "needs_background": "light"
     },
     "output_type": "display_data"
    },
    {
     "data": {
      "image/png": "[encoded data removed]",
      "text/plain": [
       "<Figure size 432x288 with 1 Axes>"
      ]
     },
     "metadata": {
      "needs_background": "light"
     },
     "output_type": "display_data"
    },
    {
     "data": {
      "image/png": "[encoded data removed]",
      "text/plain": [
       "<Figure size 432x288 with 1 Axes>"
      ]
     },
     "metadata": {
      "needs_background": "light"
     },
     "output_type": "display_data"
    },
    {
     "data": {
      "image/png": "[encoded data removed]",
      "text/plain": [
       "<Figure size 432x288 with 1 Axes>"
      ]
     },
     "metadata": {
      "needs_background": "light"
     },
     "output_type": "display_data"
    }
   ],
   "source": [
    "#Построим графики распределения логарифмированных переменных.\n",
    "for i in logdata.columns:\n",
    "    plt.figure()\n",
    "    sns.distplot(logdata[i], kde = False, rug=False)\n",
    "    plt.title(i)\n",
    "    plt.show()"
   ]
  },
  {
   "cell_type": "code",
   "execution_count": 23,
   "metadata": {},
   "outputs": [],
   "source": [
    "#как видим, переменная Income стала менее смещенной, оставим логарифмирование для данной переменной: \n",
    "data['income'] = data['income'].apply(lambda x: np.log(x))"
   ]
  },
  {
   "cell_type": "code",
   "execution_count": 24,
   "metadata": {},
   "outputs": [
    {
     "data": {
      "image/png": "[encoded data removed]",
      "text/plain": [
       "<Figure size 432x288 with 1 Axes>"
      ]
     },
     "metadata": {
      "needs_background": "light"
     },
     "output_type": "display_data"
    },
    {
     "data": {
      "image/png": "[encoded data removed]",
      "text/plain": [
       "<Figure size 432x288 with 1 Axes>"
      ]
     },
     "metadata": {
      "needs_background": "light"
     },
     "output_type": "display_data"
    },
    {
     "data": {
      "image/png": "[encoded data removed]",
      "text/plain": [
       "<Figure size 432x288 with 1 Axes>"
      ]
     },
     "metadata": {
      "needs_background": "light"
     },
     "output_type": "display_data"
    },
    {
     "data": {
      "image/png": "[encoded data removed]",
      "text/plain": [
       "<Figure size 432x288 with 1 Axes>"
      ]
     },
     "metadata": {
      "needs_background": "light"
     },
     "output_type": "display_data"
    },
    {
     "data": {
      "image/png": "[encoded data removed]",
      "text/plain": [
       "<Figure size 432x288 with 1 Axes>"
      ]
     },
     "metadata": {
      "needs_background": "light"
     },
     "output_type": "display_data"
    }
   ],
   "source": [
    "#Построим boxplot’ы для численных переменных:\n",
    "for i in num_cols:\n",
    "    ax = sns.boxplot(x=\"default\", y=i, data=data)\n",
    "    plt.title(i)\n",
    "    plt.show()    "
   ]
  },
  {
   "cell_type": "code",
   "execution_count": 25,
   "metadata": {},
   "outputs": [],
   "source": [
    "# Дефолтные клиенты в среднем младше\n",
    "# Дефолтные клиенты в среднем имеют большeе количество отмененных заявок\n",
    "# Дефолтные клиенты в среднем имеют больше запросов в БКИ\n",
    "# Дефолтные клиенты в среднем имеют более низкий доход"
   ]
  },
  {
   "cell_type": "code",
   "execution_count": 26,
   "metadata": {},
   "outputs": [],
   "source": [
    "# Проверим значения числовых переменных age, decline_app_cnt,bki_request_cnt на наличие выбросов:\n",
    "def iqrdef(s):\n",
    "    # определение границ выбровсов для числовых переменных:\n",
    "    print('Значения находятся в диапазоне от', s.min(), 'до', s.max())\n",
    "    perc25 = s.quantile(0.25)\n",
    "    perc75 = s.quantile(0.75)\n",
    "    IQR = perc75 - perc25\n",
    "    l = perc75 + 1.5*IQR\n",
    "    f = perc25 - 1.5*IQR\n",
    "    print('Большая часть значений лежит между', perc25, 'и', perc75,\n",
    "          '(25-й перцентиль: {},'.format(perc25), '75-й перцентиль: {})'.format(perc75))\n",
    "    print('IQR: {}, '.format(IQR), 'Границы выбросов: [{}, {}].'.format(f, l))\n",
    "    return l"
   ]
  },
  {
   "cell_type": "code",
   "execution_count": 27,
   "metadata": {},
   "outputs": [
    {
     "name": "stdout",
     "output_type": "stream",
     "text": [
      "Значения находятся в диапазоне от 21 до 72\n",
      "Большая часть значений лежит между 30.0 и 48.0 (25-й перцентиль: 30.0, 75-й перцентиль: 48.0)\n",
      "IQR: 18.0,  Границы выбросов: [3.0, 75.0].\n"
     ]
    },
    {
     "data": {
      "text/plain": [
       "75.0"
      ]
     },
     "execution_count": 27,
     "metadata": {},
     "output_type": "execute_result"
    }
   ],
   "source": [
    "# для переменной age нет аномалий и выбросов, сотавим ее без изменения\n",
    "iqrdef(data['age'])"
   ]
  },
  {
   "cell_type": "code",
   "execution_count": 28,
   "metadata": {},
   "outputs": [
    {
     "name": "stdout",
     "output_type": "stream",
     "text": [
      "Значения находятся в диапазоне от 0 до 33\n",
      "Большая часть значений лежит между 0.0 и 0.0 (25-й перцентиль: 0.0, 75-й перцентиль: 0.0)\n",
      "IQR: 0.0,  Границы выбросов: [0.0, 0.0].\n"
     ]
    },
    {
     "data": {
      "text/plain": [
       "0.0"
      ]
     },
     "execution_count": 28,
     "metadata": {},
     "output_type": "execute_result"
    }
   ],
   "source": [
    "# decline_app_cnt\n",
    "iqrdef(data['decline_app_cnt'])"
   ]
  },
  {
   "cell_type": "code",
   "execution_count": 29,
   "metadata": {},
   "outputs": [
    {
     "data": {
      "text/plain": [
       "0.943920906416821"
      ]
     },
     "execution_count": 29,
     "metadata": {},
     "output_type": "execute_result"
    }
   ],
   "source": [
    "# для основной доли наблюдений число отказов в прошлых заявках принимает значений 0 и 1 (94%),остальные 6% - 2 и более\n",
    "data.decline_app_cnt.value_counts()[:2].sum()/data.decline_app_cnt.count()"
   ]
  },
  {
   "cell_type": "code",
   "execution_count": 30,
   "metadata": {},
   "outputs": [],
   "source": [
    "# переведем переменную в разряд категориальных, обозначив 0 - не было отказов, 1 - был один отказ, 2 - было 2 и более отказов.\n",
    "data.decline_app_cnt = data.decline_app_cnt.apply(lambda x: 2 if x >= 2 else x)"
   ]
  },
  {
   "cell_type": "code",
   "execution_count": 31,
   "metadata": {},
   "outputs": [
    {
     "name": "stdout",
     "output_type": "stream",
     "text": [
      "Значения находятся в диапазоне от 0 до 53\n",
      "Большая часть значений лежит между 0.0 и 3.0 (25-й перцентиль: 0.0, 75-й перцентиль: 3.0)\n",
      "IQR: 3.0,  Границы выбросов: [-4.5, 7.5].\n"
     ]
    },
    {
     "data": {
      "text/plain": [
       "7.5"
      ]
     },
     "execution_count": 31,
     "metadata": {},
     "output_type": "execute_result"
    }
   ],
   "source": [
    "# bki_request_cnt\n",
    "iqrdef(data['bki_request_cnt'])"
   ]
  },
  {
   "cell_type": "code",
   "execution_count": 32,
   "metadata": {},
   "outputs": [
    {
     "data": {
      "text/plain": [
       "0.8202963285760976"
      ]
     },
     "execution_count": 32,
     "metadata": {},
     "output_type": "execute_result"
    }
   ],
   "source": [
    "# для основной доли наблюдений число запросов в БКИ принимает значения от  0 до 3 (82%),остальные - 4 и более\n",
    "data.bki_request_cnt.value_counts()[:4].sum()/data.bki_request_cnt.count()"
   ]
  },
  {
   "cell_type": "code",
   "execution_count": 33,
   "metadata": {},
   "outputs": [],
   "source": [
    "# переведем переменную в разряд категориальных, обозначив 4 количество обращений от 4 и более\n",
    "data.bki_request_cnt = data.bki_request_cnt.apply(lambda x: 4 if x >= 4 else x)"
   ]
  },
  {
   "cell_type": "code",
   "execution_count": 34,
   "metadata": {},
   "outputs": [],
   "source": [
    "# на основе данных о дате подачи заявки data.app_date вычислим значение кол-во дней со дня подачи: app_date_day\n",
    "now = datetime.now()\n",
    "data['app_date_day'] = data.app_date.apply(lambda x: (now-x).days)"
   ]
  },
  {
   "cell_type": "code",
   "execution_count": 35,
   "metadata": {},
   "outputs": [
    {
     "data": {
      "text/html": [
       "<div>\n",
       "<style scoped>\n",
       "    .dataframe tbody tr th:only-of-type {\n",
       "        vertical-align: middle;\n",
       "    }\n",
       "\n",
       "    .dataframe tbody tr th {\n",
       "        vertical-align: top;\n",
       "    }\n",
       "\n",
       "    .dataframe thead th {\n",
       "        text-align: right;\n",
       "    }\n",
       "</style>\n",
       "<table border=\"1\" class=\"dataframe\">\n",
       "  <thead>\n",
       "    <tr style=\"text-align: right;\">\n",
       "      <th></th>\n",
       "      <th>client_id</th>\n",
       "      <th>app_date</th>\n",
       "      <th>education</th>\n",
       "      <th>sex</th>\n",
       "      <th>age</th>\n",
       "      <th>car</th>\n",
       "      <th>car_type</th>\n",
       "      <th>decline_app_cnt</th>\n",
       "      <th>good_work</th>\n",
       "      <th>score_bki</th>\n",
       "      <th>...</th>\n",
       "      <th>region_rating</th>\n",
       "      <th>home_address</th>\n",
       "      <th>work_address</th>\n",
       "      <th>income</th>\n",
       "      <th>sna</th>\n",
       "      <th>first_time</th>\n",
       "      <th>foreign_passport</th>\n",
       "      <th>sample</th>\n",
       "      <th>default</th>\n",
       "      <th>app_date_day</th>\n",
       "    </tr>\n",
       "  </thead>\n",
       "  <tbody>\n",
       "    <tr>\n",
       "      <th>0</th>\n",
       "      <td>74835</td>\n",
       "      <td>2014-03-22</td>\n",
       "      <td>GRD</td>\n",
       "      <td>M</td>\n",
       "      <td>29</td>\n",
       "      <td>Y</td>\n",
       "      <td>Y</td>\n",
       "      <td>0</td>\n",
       "      <td>0</td>\n",
       "      <td>-2.271884</td>\n",
       "      <td>...</td>\n",
       "      <td>50</td>\n",
       "      <td>1</td>\n",
       "      <td>2</td>\n",
       "      <td>10.819778</td>\n",
       "      <td>1</td>\n",
       "      <td>4</td>\n",
       "      <td>N</td>\n",
       "      <td>0</td>\n",
       "      <td>0</td>\n",
       "      <td>2544</td>\n",
       "    </tr>\n",
       "    <tr>\n",
       "      <th>1</th>\n",
       "      <td>17527</td>\n",
       "      <td>2014-01-24</td>\n",
       "      <td>SCH</td>\n",
       "      <td>F</td>\n",
       "      <td>39</td>\n",
       "      <td>N</td>\n",
       "      <td>N</td>\n",
       "      <td>2</td>\n",
       "      <td>0</td>\n",
       "      <td>-1.504999</td>\n",
       "      <td>...</td>\n",
       "      <td>50</td>\n",
       "      <td>1</td>\n",
       "      <td>2</td>\n",
       "      <td>8.517193</td>\n",
       "      <td>4</td>\n",
       "      <td>3</td>\n",
       "      <td>N</td>\n",
       "      <td>0</td>\n",
       "      <td>0</td>\n",
       "      <td>2601</td>\n",
       "    </tr>\n",
       "    <tr>\n",
       "      <th>2</th>\n",
       "      <td>75683</td>\n",
       "      <td>2014-03-23</td>\n",
       "      <td>UGR</td>\n",
       "      <td>M</td>\n",
       "      <td>50</td>\n",
       "      <td>Y</td>\n",
       "      <td>Y</td>\n",
       "      <td>0</td>\n",
       "      <td>0</td>\n",
       "      <td>-1.691339</td>\n",
       "      <td>...</td>\n",
       "      <td>50</td>\n",
       "      <td>1</td>\n",
       "      <td>2</td>\n",
       "      <td>10.308953</td>\n",
       "      <td>1</td>\n",
       "      <td>3</td>\n",
       "      <td>Y</td>\n",
       "      <td>0</td>\n",
       "      <td>0</td>\n",
       "      <td>2543</td>\n",
       "    </tr>\n",
       "    <tr>\n",
       "      <th>3</th>\n",
       "      <td>26883</td>\n",
       "      <td>2014-02-03</td>\n",
       "      <td>SCH</td>\n",
       "      <td>M</td>\n",
       "      <td>56</td>\n",
       "      <td>N</td>\n",
       "      <td>N</td>\n",
       "      <td>0</td>\n",
       "      <td>0</td>\n",
       "      <td>-2.374182</td>\n",
       "      <td>...</td>\n",
       "      <td>40</td>\n",
       "      <td>1</td>\n",
       "      <td>2</td>\n",
       "      <td>9.740969</td>\n",
       "      <td>1</td>\n",
       "      <td>3</td>\n",
       "      <td>N</td>\n",
       "      <td>0</td>\n",
       "      <td>0</td>\n",
       "      <td>2591</td>\n",
       "    </tr>\n",
       "    <tr>\n",
       "      <th>4</th>\n",
       "      <td>28862</td>\n",
       "      <td>2014-02-04</td>\n",
       "      <td>GRD</td>\n",
       "      <td>F</td>\n",
       "      <td>38</td>\n",
       "      <td>N</td>\n",
       "      <td>N</td>\n",
       "      <td>0</td>\n",
       "      <td>0</td>\n",
       "      <td>-2.487502</td>\n",
       "      <td>...</td>\n",
       "      <td>80</td>\n",
       "      <td>2</td>\n",
       "      <td>3</td>\n",
       "      <td>11.695247</td>\n",
       "      <td>1</td>\n",
       "      <td>3</td>\n",
       "      <td>N</td>\n",
       "      <td>0</td>\n",
       "      <td>0</td>\n",
       "      <td>2590</td>\n",
       "    </tr>\n",
       "    <tr>\n",
       "      <th>...</th>\n",
       "      <td>...</td>\n",
       "      <td>...</td>\n",
       "      <td>...</td>\n",
       "      <td>...</td>\n",
       "      <td>...</td>\n",
       "      <td>...</td>\n",
       "      <td>...</td>\n",
       "      <td>...</td>\n",
       "      <td>...</td>\n",
       "      <td>...</td>\n",
       "      <td>...</td>\n",
       "      <td>...</td>\n",
       "      <td>...</td>\n",
       "      <td>...</td>\n",
       "      <td>...</td>\n",
       "      <td>...</td>\n",
       "      <td>...</td>\n",
       "      <td>...</td>\n",
       "      <td>...</td>\n",
       "      <td>...</td>\n",
       "      <td>...</td>\n",
       "    </tr>\n",
       "    <tr>\n",
       "      <th>110143</th>\n",
       "      <td>54887</td>\n",
       "      <td>2014-03-04</td>\n",
       "      <td>GRD</td>\n",
       "      <td>F</td>\n",
       "      <td>45</td>\n",
       "      <td>N</td>\n",
       "      <td>N</td>\n",
       "      <td>0</td>\n",
       "      <td>0</td>\n",
       "      <td>-1.792064</td>\n",
       "      <td>...</td>\n",
       "      <td>50</td>\n",
       "      <td>1</td>\n",
       "      <td>2</td>\n",
       "      <td>9.740969</td>\n",
       "      <td>4</td>\n",
       "      <td>4</td>\n",
       "      <td>N</td>\n",
       "      <td>1</td>\n",
       "      <td>0</td>\n",
       "      <td>2562</td>\n",
       "    </tr>\n",
       "    <tr>\n",
       "      <th>110144</th>\n",
       "      <td>76821</td>\n",
       "      <td>2014-03-24</td>\n",
       "      <td>SCH</td>\n",
       "      <td>M</td>\n",
       "      <td>41</td>\n",
       "      <td>Y</td>\n",
       "      <td>Y</td>\n",
       "      <td>0</td>\n",
       "      <td>0</td>\n",
       "      <td>-2.058029</td>\n",
       "      <td>...</td>\n",
       "      <td>50</td>\n",
       "      <td>2</td>\n",
       "      <td>2</td>\n",
       "      <td>11.156251</td>\n",
       "      <td>1</td>\n",
       "      <td>4</td>\n",
       "      <td>N</td>\n",
       "      <td>1</td>\n",
       "      <td>0</td>\n",
       "      <td>2542</td>\n",
       "    </tr>\n",
       "    <tr>\n",
       "      <th>110145</th>\n",
       "      <td>103695</td>\n",
       "      <td>2014-04-22</td>\n",
       "      <td>SCH</td>\n",
       "      <td>M</td>\n",
       "      <td>31</td>\n",
       "      <td>N</td>\n",
       "      <td>N</td>\n",
       "      <td>0</td>\n",
       "      <td>0</td>\n",
       "      <td>-1.512635</td>\n",
       "      <td>...</td>\n",
       "      <td>80</td>\n",
       "      <td>2</td>\n",
       "      <td>3</td>\n",
       "      <td>10.714418</td>\n",
       "      <td>2</td>\n",
       "      <td>2</td>\n",
       "      <td>N</td>\n",
       "      <td>1</td>\n",
       "      <td>0</td>\n",
       "      <td>2513</td>\n",
       "    </tr>\n",
       "    <tr>\n",
       "      <th>110146</th>\n",
       "      <td>861</td>\n",
       "      <td>2014-01-04</td>\n",
       "      <td>SCH</td>\n",
       "      <td>F</td>\n",
       "      <td>29</td>\n",
       "      <td>N</td>\n",
       "      <td>N</td>\n",
       "      <td>0</td>\n",
       "      <td>1</td>\n",
       "      <td>-1.479334</td>\n",
       "      <td>...</td>\n",
       "      <td>50</td>\n",
       "      <td>1</td>\n",
       "      <td>3</td>\n",
       "      <td>9.472705</td>\n",
       "      <td>2</td>\n",
       "      <td>3</td>\n",
       "      <td>N</td>\n",
       "      <td>1</td>\n",
       "      <td>1</td>\n",
       "      <td>2621</td>\n",
       "    </tr>\n",
       "    <tr>\n",
       "      <th>110147</th>\n",
       "      <td>15796</td>\n",
       "      <td>2014-01-23</td>\n",
       "      <td>GRD</td>\n",
       "      <td>M</td>\n",
       "      <td>34</td>\n",
       "      <td>N</td>\n",
       "      <td>N</td>\n",
       "      <td>0</td>\n",
       "      <td>0</td>\n",
       "      <td>-1.764711</td>\n",
       "      <td>...</td>\n",
       "      <td>50</td>\n",
       "      <td>2</td>\n",
       "      <td>3</td>\n",
       "      <td>10.126631</td>\n",
       "      <td>1</td>\n",
       "      <td>3</td>\n",
       "      <td>N</td>\n",
       "      <td>1</td>\n",
       "      <td>0</td>\n",
       "      <td>2602</td>\n",
       "    </tr>\n",
       "  </tbody>\n",
       "</table>\n",
       "<p>110148 rows × 21 columns</p>\n",
       "</div>"
      ],
      "text/plain": [
       "        client_id   app_date education sex  age car car_type  decline_app_cnt  \\\n",
       "0           74835 2014-03-22       GRD   M   29   Y        Y                0   \n",
       "1           17527 2014-01-24       SCH   F   39   N        N                2   \n",
       "2           75683 2014-03-23       UGR   M   50   Y        Y                0   \n",
       "3           26883 2014-02-03       SCH   M   56   N        N                0   \n",
       "4           28862 2014-02-04       GRD   F   38   N        N                0   \n",
       "...           ...        ...       ...  ..  ...  ..      ...              ...   \n",
       "110143      54887 2014-03-04       GRD   F   45   N        N                0   \n",
       "110144      76821 2014-03-24       SCH   M   41   Y        Y                0   \n",
       "110145     103695 2014-04-22       SCH   M   31   N        N                0   \n",
       "110146        861 2014-01-04       SCH   F   29   N        N                0   \n",
       "110147      15796 2014-01-23       GRD   M   34   N        N                0   \n",
       "\n",
       "        good_work  score_bki  ...  region_rating  home_address  work_address  \\\n",
       "0               0  -2.271884  ...             50             1             2   \n",
       "1               0  -1.504999  ...             50             1             2   \n",
       "2               0  -1.691339  ...             50             1             2   \n",
       "3               0  -2.374182  ...             40             1             2   \n",
       "4               0  -2.487502  ...             80             2             3   \n",
       "...           ...        ...  ...            ...           ...           ...   \n",
       "110143          0  -1.792064  ...             50             1             2   \n",
       "110144          0  -2.058029  ...             50             2             2   \n",
       "110145          0  -1.512635  ...             80             2             3   \n",
       "110146          1  -1.479334  ...             50             1             3   \n",
       "110147          0  -1.764711  ...             50             2             3   \n",
       "\n",
       "           income  sna  first_time  foreign_passport sample  default  \\\n",
       "0       10.819778    1           4                 N      0        0   \n",
       "1        8.517193    4           3                 N      0        0   \n",
       "2       10.308953    1           3                 Y      0        0   \n",
       "3        9.740969    1           3                 N      0        0   \n",
       "4       11.695247    1           3                 N      0        0   \n",
       "...           ...  ...         ...               ...    ...      ...   \n",
       "110143   9.740969    4           4                 N      1        0   \n",
       "110144  11.156251    1           4                 N      1        0   \n",
       "110145  10.714418    2           2                 N      1        0   \n",
       "110146   9.472705    2           3                 N      1        1   \n",
       "110147  10.126631    1           3                 N      1        0   \n",
       "\n",
       "        app_date_day  \n",
       "0               2544  \n",
       "1               2601  \n",
       "2               2543  \n",
       "3               2591  \n",
       "4               2590  \n",
       "...              ...  \n",
       "110143          2562  \n",
       "110144          2542  \n",
       "110145          2513  \n",
       "110146          2621  \n",
       "110147          2602  \n",
       "\n",
       "[110148 rows x 21 columns]"
      ]
     },
     "execution_count": 35,
     "metadata": {},
     "output_type": "execute_result"
    }
   ],
   "source": [
    "data"
   ]
  },
  {
   "cell_type": "code",
   "execution_count": 36,
   "metadata": {},
   "outputs": [],
   "source": [
    "# переместим признаки bki_request_cnt, decline_app_cnt из количественных в категориальные, добавим к количественным признак client_id, вычисленный признак - количество дней с подачи заявки app_date_day, не добавляем, тк. он ухудшает модель\n",
    "num_cols = ['age', 'score_bki', 'income', 'client_id']  # ,'app_date_day']\n",
    "cat_cols = ['education', 'home_address', 'work_address', 'sna',\n",
    "            'first_time', 'region_rating', 'bki_request_cnt', 'decline_app_cnt']"
   ]
  },
  {
   "cell_type": "code",
   "execution_count": 37,
   "metadata": {},
   "outputs": [
    {
     "data": {
      "text/plain": [
       "<matplotlib.axes._subplots.AxesSubplot at 0x1ea30819610>"
      ]
     },
     "execution_count": 37,
     "metadata": {},
     "output_type": "execute_result"
    },
    {
     "data": {
      "image/png": "[encoded data removed]",
      "text/plain": [
       "<Figure size 432x288 with 2 Axes>"
      ]
     },
     "metadata": {
      "needs_background": "light"
     },
     "output_type": "display_data"
    }
   ],
   "source": [
    "# Оценим корреляцию Пирсона\n",
    "sns.heatmap(data[num_cols].corr().abs(), vmin=0, vmax=1)"
   ]
  },
  {
   "cell_type": "code",
   "execution_count": 38,
   "metadata": {},
   "outputs": [],
   "source": [
    "# по построенной матрице корреляций, мы видим, что все числовые признаки слабо скоррелированы, т.е. среди них нет сильной линейной зависимости"
   ]
  },
  {
   "cell_type": "code",
   "execution_count": 39,
   "metadata": {},
   "outputs": [
    {
     "data": {
      "text/plain": [
       "<matplotlib.axes._subplots.AxesSubplot at 0x1ea30ae90a0>"
      ]
     },
     "execution_count": 39,
     "metadata": {},
     "output_type": "execute_result"
    },
    {
     "data": {
      "image/png": "[encoded data removed]",
      "text/plain": [
       "<Figure size 432x288 with 1 Axes>"
      ]
     },
     "metadata": {
      "needs_background": "light"
     },
     "output_type": "display_data"
    }
   ],
   "source": [
    "# Для оценки значимости числовых переменных будем использовать функцию f_classif из библиотеки sklearn.\n",
    "# В качестве меры значимости мы будем использовать значение f-статистики. Чем значение статистики выше, тем меньше вероятность того, что средние значения не отличаются, и тем важнее данный признак для нашей линейной модели.\n",
    "imp_num = Series(f_classif(data[num_cols], data['default'])[0], index=num_cols)\n",
    "imp_num.sort_values(inplace=True)\n",
    "imp_num.plot(kind='barh')"
   ]
  },
  {
   "cell_type": "code",
   "execution_count": 40,
   "metadata": {},
   "outputs": [],
   "source": [
    "# по визуализации ститистки выидим, что наиболее значимый признак из числовых -score_bki, а наименее значимый - возраст"
   ]
  },
  {
   "cell_type": "code",
   "execution_count": 41,
   "metadata": {},
   "outputs": [],
   "source": [
    "# обработаем категориальные переменные. Применим LabelEncoder ко всему набору бинарных переменных.\n",
    "label_encoder = LabelEncoder()\n",
    "for column in bin_cols:\n",
    "    data[column] = label_encoder.fit_transform(data[column])"
   ]
  },
  {
   "cell_type": "code",
   "execution_count": 42,
   "metadata": {},
   "outputs": [
    {
     "data": {
      "text/html": [
       "<div>\n",
       "<style scoped>\n",
       "    .dataframe tbody tr th:only-of-type {\n",
       "        vertical-align: middle;\n",
       "    }\n",
       "\n",
       "    .dataframe tbody tr th {\n",
       "        vertical-align: top;\n",
       "    }\n",
       "\n",
       "    .dataframe thead th {\n",
       "        text-align: right;\n",
       "    }\n",
       "</style>\n",
       "<table border=\"1\" class=\"dataframe\">\n",
       "  <thead>\n",
       "    <tr style=\"text-align: right;\">\n",
       "      <th></th>\n",
       "      <th>client_id</th>\n",
       "      <th>app_date</th>\n",
       "      <th>education</th>\n",
       "      <th>sex</th>\n",
       "      <th>age</th>\n",
       "      <th>car</th>\n",
       "      <th>car_type</th>\n",
       "      <th>decline_app_cnt</th>\n",
       "      <th>good_work</th>\n",
       "      <th>score_bki</th>\n",
       "      <th>...</th>\n",
       "      <th>region_rating</th>\n",
       "      <th>home_address</th>\n",
       "      <th>work_address</th>\n",
       "      <th>income</th>\n",
       "      <th>sna</th>\n",
       "      <th>first_time</th>\n",
       "      <th>foreign_passport</th>\n",
       "      <th>sample</th>\n",
       "      <th>default</th>\n",
       "      <th>app_date_day</th>\n",
       "    </tr>\n",
       "  </thead>\n",
       "  <tbody>\n",
       "    <tr>\n",
       "      <th>0</th>\n",
       "      <td>74835</td>\n",
       "      <td>2014-03-22</td>\n",
       "      <td>GRD</td>\n",
       "      <td>1</td>\n",
       "      <td>29</td>\n",
       "      <td>1</td>\n",
       "      <td>1</td>\n",
       "      <td>0</td>\n",
       "      <td>0</td>\n",
       "      <td>-2.271884</td>\n",
       "      <td>...</td>\n",
       "      <td>50</td>\n",
       "      <td>1</td>\n",
       "      <td>2</td>\n",
       "      <td>10.819778</td>\n",
       "      <td>1</td>\n",
       "      <td>4</td>\n",
       "      <td>0</td>\n",
       "      <td>0</td>\n",
       "      <td>0</td>\n",
       "      <td>2544</td>\n",
       "    </tr>\n",
       "    <tr>\n",
       "      <th>1</th>\n",
       "      <td>17527</td>\n",
       "      <td>2014-01-24</td>\n",
       "      <td>SCH</td>\n",
       "      <td>0</td>\n",
       "      <td>39</td>\n",
       "      <td>0</td>\n",
       "      <td>0</td>\n",
       "      <td>2</td>\n",
       "      <td>0</td>\n",
       "      <td>-1.504999</td>\n",
       "      <td>...</td>\n",
       "      <td>50</td>\n",
       "      <td>1</td>\n",
       "      <td>2</td>\n",
       "      <td>8.517193</td>\n",
       "      <td>4</td>\n",
       "      <td>3</td>\n",
       "      <td>0</td>\n",
       "      <td>0</td>\n",
       "      <td>0</td>\n",
       "      <td>2601</td>\n",
       "    </tr>\n",
       "    <tr>\n",
       "      <th>2</th>\n",
       "      <td>75683</td>\n",
       "      <td>2014-03-23</td>\n",
       "      <td>UGR</td>\n",
       "      <td>1</td>\n",
       "      <td>50</td>\n",
       "      <td>1</td>\n",
       "      <td>1</td>\n",
       "      <td>0</td>\n",
       "      <td>0</td>\n",
       "      <td>-1.691339</td>\n",
       "      <td>...</td>\n",
       "      <td>50</td>\n",
       "      <td>1</td>\n",
       "      <td>2</td>\n",
       "      <td>10.308953</td>\n",
       "      <td>1</td>\n",
       "      <td>3</td>\n",
       "      <td>1</td>\n",
       "      <td>0</td>\n",
       "      <td>0</td>\n",
       "      <td>2543</td>\n",
       "    </tr>\n",
       "    <tr>\n",
       "      <th>3</th>\n",
       "      <td>26883</td>\n",
       "      <td>2014-02-03</td>\n",
       "      <td>SCH</td>\n",
       "      <td>1</td>\n",
       "      <td>56</td>\n",
       "      <td>0</td>\n",
       "      <td>0</td>\n",
       "      <td>0</td>\n",
       "      <td>0</td>\n",
       "      <td>-2.374182</td>\n",
       "      <td>...</td>\n",
       "      <td>40</td>\n",
       "      <td>1</td>\n",
       "      <td>2</td>\n",
       "      <td>9.740969</td>\n",
       "      <td>1</td>\n",
       "      <td>3</td>\n",
       "      <td>0</td>\n",
       "      <td>0</td>\n",
       "      <td>0</td>\n",
       "      <td>2591</td>\n",
       "    </tr>\n",
       "    <tr>\n",
       "      <th>4</th>\n",
       "      <td>28862</td>\n",
       "      <td>2014-02-04</td>\n",
       "      <td>GRD</td>\n",
       "      <td>0</td>\n",
       "      <td>38</td>\n",
       "      <td>0</td>\n",
       "      <td>0</td>\n",
       "      <td>0</td>\n",
       "      <td>0</td>\n",
       "      <td>-2.487502</td>\n",
       "      <td>...</td>\n",
       "      <td>80</td>\n",
       "      <td>2</td>\n",
       "      <td>3</td>\n",
       "      <td>11.695247</td>\n",
       "      <td>1</td>\n",
       "      <td>3</td>\n",
       "      <td>0</td>\n",
       "      <td>0</td>\n",
       "      <td>0</td>\n",
       "      <td>2590</td>\n",
       "    </tr>\n",
       "  </tbody>\n",
       "</table>\n",
       "<p>5 rows × 21 columns</p>\n",
       "</div>"
      ],
      "text/plain": [
       "   client_id   app_date education  sex  age  car  car_type  decline_app_cnt  \\\n",
       "0      74835 2014-03-22       GRD    1   29    1         1                0   \n",
       "1      17527 2014-01-24       SCH    0   39    0         0                2   \n",
       "2      75683 2014-03-23       UGR    1   50    1         1                0   \n",
       "3      26883 2014-02-03       SCH    1   56    0         0                0   \n",
       "4      28862 2014-02-04       GRD    0   38    0         0                0   \n",
       "\n",
       "   good_work  score_bki  ...  region_rating  home_address  work_address  \\\n",
       "0          0  -2.271884  ...             50             1             2   \n",
       "1          0  -1.504999  ...             50             1             2   \n",
       "2          0  -1.691339  ...             50             1             2   \n",
       "3          0  -2.374182  ...             40             1             2   \n",
       "4          0  -2.487502  ...             80             2             3   \n",
       "\n",
       "      income  sna  first_time  foreign_passport  sample  default  app_date_day  \n",
       "0  10.819778    1           4                 0       0        0          2544  \n",
       "1   8.517193    4           3                 0       0        0          2601  \n",
       "2  10.308953    1           3                 1       0        0          2543  \n",
       "3   9.740969    1           3                 0       0        0          2591  \n",
       "4  11.695247    1           3                 0       0        0          2590  \n",
       "\n",
       "[5 rows x 21 columns]"
      ]
     },
     "execution_count": 42,
     "metadata": {},
     "output_type": "execute_result"
    }
   ],
   "source": [
    "# убедимся в преобразовании\n",
    "data.head()"
   ]
  },
  {
   "cell_type": "code",
   "execution_count": 43,
   "metadata": {},
   "outputs": [],
   "source": [
    "# Для оценки значимости категориальных и бинарных переменных будем использовать функцию mutual_info_classif из библиотеки sklearn. Данная функция опирается на непараметрические методы, основанные на оценке энтропии в группах категориальных переменных.\n",
    "# Перед применением функции пердобразуем переменную education в числовой формат как уровень образования (не dummy-переменная):\n",
    "# SCH - 1, GRD -2, UGR - 3, PGR -4, ACD-5\n",
    "data.education.value_counts()\n",
    "data['education'] = data['education'].apply(\n",
    "    lambda x: 1 if x == 'SCH' else 2 if x == 'GRD' else 3 if x == 'UGR' else 4 if x == 'PGR' else 5)"
   ]
  },
  {
   "cell_type": "code",
   "execution_count": 44,
   "metadata": {},
   "outputs": [
    {
     "data": {
      "text/plain": [
       "1    58476\n",
       "2    34768\n",
       "3    14748\n",
       "4     1865\n",
       "5      291\n",
       "Name: education, dtype: int64"
      ]
     },
     "execution_count": 44,
     "metadata": {},
     "output_type": "execute_result"
    }
   ],
   "source": [
    "data['education'].value_counts()"
   ]
  },
  {
   "cell_type": "code",
   "execution_count": 45,
   "metadata": {},
   "outputs": [
    {
     "data": {
      "text/plain": [
       "<matplotlib.axes._subplots.AxesSubplot at 0x1ea3095f400>"
      ]
     },
     "execution_count": 45,
     "metadata": {},
     "output_type": "execute_result"
    },
    {
     "data": {
      "image/png": "[encoded data removed]",
      "text/plain": [
       "<Figure size 432x288 with 1 Axes>"
      ]
     },
     "metadata": {
      "needs_background": "light"
     },
     "output_type": "display_data"
    }
   ],
   "source": [
    "imp_cat = Series(mutual_info_classif(data[bin_cols + cat_cols], data['default'],\n",
    "                                     discrete_features =True), index = bin_cols + cat_cols)\n",
    "imp_cat.sort_values(inplace = True)\n",
    "imp_cat.plot(kind = 'barh')"
   ]
  },
  {
   "cell_type": "code",
   "execution_count": 46,
   "metadata": {},
   "outputs": [],
   "source": [
    "# из категориальных признаков самым важным является sna,decline_app_cnt а наименее важным - sex"
   ]
  },
  {
   "cell_type": "code",
   "execution_count": 47,
   "metadata": {},
   "outputs": [],
   "source": [
    "# добавим к бинарным переменным sample\n",
    "bin_cols.append('sample')"
   ]
  },
  {
   "cell_type": "code",
   "execution_count": 48,
   "metadata": {},
   "outputs": [],
   "source": [
    "# Перед обучением регрессии нам следует стандартизировать числовые признаки, а также воспользоваться dummy-кодированием для категориальных переменных, то есть создать отдельную бинарную переменную для каждой категории.\n",
    "# Эта техника реализована в sklearn.preprocessing в классе OneHotEncoder. По умолчанию OneHotEncoder преобразует данные в разреженную матрицу, чтобы не расходовать память на хранение многочисленных нулей.\n",
    "X_cat = OneHotEncoder(sparse=False).fit_transform(data[cat_cols].values)"
   ]
  },
  {
   "cell_type": "code",
   "execution_count": 49,
   "metadata": {},
   "outputs": [
    {
     "data": {
      "text/plain": [
       "34"
      ]
     },
     "execution_count": 49,
     "metadata": {},
     "output_type": "execute_result"
    }
   ],
   "source": [
    "len(X_cat[0])"
   ]
  },
  {
   "cell_type": "code",
   "execution_count": 50,
   "metadata": {},
   "outputs": [],
   "source": [
    "# Стандартизируем числовые переменные:\n",
    "X_num = StandardScaler().fit_transform(data[num_cols].values)"
   ]
  },
  {
   "cell_type": "code",
   "execution_count": 51,
   "metadata": {},
   "outputs": [
    {
     "name": "stdout",
     "output_type": "stream",
     "text": [
      "4\n",
      "6\n"
     ]
    }
   ],
   "source": [
    "print(len(X_num[0]))\n",
    "print(len(bin_cols))"
   ]
  },
  {
   "cell_type": "code",
   "execution_count": 52,
   "metadata": {},
   "outputs": [],
   "source": [
    "# И объединим стандартизованные числовые, бинарные и закодированные категориальные переменные в одно признаковое пространство, разделив при этом признаки и целевую переменную.\n",
    "X = np.hstack([X_num, X_cat, data[bin_cols].values])\n",
    "Y = data[data['sample'] == 1].default.values"
   ]
  },
  {
   "cell_type": "code",
   "execution_count": 53,
   "metadata": {},
   "outputs": [],
   "source": [
    "# разделим выбоку по признаку sample, для этого предобразуем полуяенные данные в датафрейм:\n",
    "df = pd.DataFrame(X)"
   ]
  },
  {
   "cell_type": "code",
   "execution_count": 54,
   "metadata": {},
   "outputs": [
    {
     "data": {
      "text/html": [
       "<div>\n",
       "<style scoped>\n",
       "    .dataframe tbody tr th:only-of-type {\n",
       "        vertical-align: middle;\n",
       "    }\n",
       "\n",
       "    .dataframe tbody tr th {\n",
       "        vertical-align: top;\n",
       "    }\n",
       "\n",
       "    .dataframe thead th {\n",
       "        text-align: right;\n",
       "    }\n",
       "</style>\n",
       "<table border=\"1\" class=\"dataframe\">\n",
       "  <thead>\n",
       "    <tr style=\"text-align: right;\">\n",
       "      <th></th>\n",
       "      <th>0</th>\n",
       "      <th>1</th>\n",
       "      <th>2</th>\n",
       "      <th>3</th>\n",
       "      <th>4</th>\n",
       "      <th>5</th>\n",
       "      <th>6</th>\n",
       "      <th>7</th>\n",
       "      <th>8</th>\n",
       "      <th>9</th>\n",
       "      <th>...</th>\n",
       "      <th>34</th>\n",
       "      <th>35</th>\n",
       "      <th>36</th>\n",
       "      <th>37</th>\n",
       "      <th>38</th>\n",
       "      <th>39</th>\n",
       "      <th>40</th>\n",
       "      <th>41</th>\n",
       "      <th>42</th>\n",
       "      <th>43</th>\n",
       "    </tr>\n",
       "  </thead>\n",
       "  <tbody>\n",
       "    <tr>\n",
       "      <th>0</th>\n",
       "      <td>-0.889859</td>\n",
       "      <td>-0.735587</td>\n",
       "      <td>0.680428</td>\n",
       "      <td>0.621458</td>\n",
       "      <td>0.0</td>\n",
       "      <td>1.0</td>\n",
       "      <td>0.0</td>\n",
       "      <td>0.0</td>\n",
       "      <td>0.0</td>\n",
       "      <td>1.0</td>\n",
       "      <td>...</td>\n",
       "      <td>0.0</td>\n",
       "      <td>1.0</td>\n",
       "      <td>0.0</td>\n",
       "      <td>0.0</td>\n",
       "      <td>1.0</td>\n",
       "      <td>1.0</td>\n",
       "      <td>1.0</td>\n",
       "      <td>0.0</td>\n",
       "      <td>0.0</td>\n",
       "      <td>0.0</td>\n",
       "    </tr>\n",
       "    <tr>\n",
       "      <th>1</th>\n",
       "      <td>-0.021654</td>\n",
       "      <td>0.800039</td>\n",
       "      <td>-2.624752</td>\n",
       "      <td>-1.180851</td>\n",
       "      <td>1.0</td>\n",
       "      <td>0.0</td>\n",
       "      <td>0.0</td>\n",
       "      <td>0.0</td>\n",
       "      <td>0.0</td>\n",
       "      <td>1.0</td>\n",
       "      <td>...</td>\n",
       "      <td>0.0</td>\n",
       "      <td>0.0</td>\n",
       "      <td>0.0</td>\n",
       "      <td>1.0</td>\n",
       "      <td>0.0</td>\n",
       "      <td>0.0</td>\n",
       "      <td>0.0</td>\n",
       "      <td>0.0</td>\n",
       "      <td>0.0</td>\n",
       "      <td>0.0</td>\n",
       "    </tr>\n",
       "    <tr>\n",
       "      <th>2</th>\n",
       "      <td>0.933372</td>\n",
       "      <td>0.426908</td>\n",
       "      <td>-0.052822</td>\n",
       "      <td>0.648127</td>\n",
       "      <td>0.0</td>\n",
       "      <td>0.0</td>\n",
       "      <td>1.0</td>\n",
       "      <td>0.0</td>\n",
       "      <td>0.0</td>\n",
       "      <td>1.0</td>\n",
       "      <td>...</td>\n",
       "      <td>0.0</td>\n",
       "      <td>1.0</td>\n",
       "      <td>0.0</td>\n",
       "      <td>0.0</td>\n",
       "      <td>1.0</td>\n",
       "      <td>1.0</td>\n",
       "      <td>1.0</td>\n",
       "      <td>0.0</td>\n",
       "      <td>1.0</td>\n",
       "      <td>0.0</td>\n",
       "    </tr>\n",
       "    <tr>\n",
       "      <th>3</th>\n",
       "      <td>1.454295</td>\n",
       "      <td>-0.940432</td>\n",
       "      <td>-0.868118</td>\n",
       "      <td>-0.886609</td>\n",
       "      <td>1.0</td>\n",
       "      <td>0.0</td>\n",
       "      <td>0.0</td>\n",
       "      <td>0.0</td>\n",
       "      <td>0.0</td>\n",
       "      <td>1.0</td>\n",
       "      <td>...</td>\n",
       "      <td>0.0</td>\n",
       "      <td>1.0</td>\n",
       "      <td>0.0</td>\n",
       "      <td>0.0</td>\n",
       "      <td>1.0</td>\n",
       "      <td>0.0</td>\n",
       "      <td>0.0</td>\n",
       "      <td>0.0</td>\n",
       "      <td>0.0</td>\n",
       "      <td>0.0</td>\n",
       "    </tr>\n",
       "    <tr>\n",
       "      <th>4</th>\n",
       "      <td>-0.108474</td>\n",
       "      <td>-1.167347</td>\n",
       "      <td>1.937095</td>\n",
       "      <td>-0.824371</td>\n",
       "      <td>0.0</td>\n",
       "      <td>1.0</td>\n",
       "      <td>0.0</td>\n",
       "      <td>0.0</td>\n",
       "      <td>0.0</td>\n",
       "      <td>0.0</td>\n",
       "      <td>...</td>\n",
       "      <td>0.0</td>\n",
       "      <td>1.0</td>\n",
       "      <td>0.0</td>\n",
       "      <td>0.0</td>\n",
       "      <td>0.0</td>\n",
       "      <td>0.0</td>\n",
       "      <td>0.0</td>\n",
       "      <td>0.0</td>\n",
       "      <td>0.0</td>\n",
       "      <td>0.0</td>\n",
       "    </tr>\n",
       "    <tr>\n",
       "      <th>...</th>\n",
       "      <td>...</td>\n",
       "      <td>...</td>\n",
       "      <td>...</td>\n",
       "      <td>...</td>\n",
       "      <td>...</td>\n",
       "      <td>...</td>\n",
       "      <td>...</td>\n",
       "      <td>...</td>\n",
       "      <td>...</td>\n",
       "      <td>...</td>\n",
       "      <td>...</td>\n",
       "      <td>...</td>\n",
       "      <td>...</td>\n",
       "      <td>...</td>\n",
       "      <td>...</td>\n",
       "      <td>...</td>\n",
       "      <td>...</td>\n",
       "      <td>...</td>\n",
       "      <td>...</td>\n",
       "      <td>...</td>\n",
       "      <td>...</td>\n",
       "    </tr>\n",
       "    <tr>\n",
       "      <th>110143</th>\n",
       "      <td>0.499269</td>\n",
       "      <td>0.225214</td>\n",
       "      <td>-0.868118</td>\n",
       "      <td>-0.005897</td>\n",
       "      <td>0.0</td>\n",
       "      <td>1.0</td>\n",
       "      <td>0.0</td>\n",
       "      <td>0.0</td>\n",
       "      <td>0.0</td>\n",
       "      <td>1.0</td>\n",
       "      <td>...</td>\n",
       "      <td>0.0</td>\n",
       "      <td>1.0</td>\n",
       "      <td>0.0</td>\n",
       "      <td>0.0</td>\n",
       "      <td>0.0</td>\n",
       "      <td>0.0</td>\n",
       "      <td>0.0</td>\n",
       "      <td>0.0</td>\n",
       "      <td>0.0</td>\n",
       "      <td>1.0</td>\n",
       "    </tr>\n",
       "    <tr>\n",
       "      <th>110144</th>\n",
       "      <td>0.151987</td>\n",
       "      <td>-0.307360</td>\n",
       "      <td>1.163408</td>\n",
       "      <td>0.683917</td>\n",
       "      <td>1.0</td>\n",
       "      <td>0.0</td>\n",
       "      <td>0.0</td>\n",
       "      <td>0.0</td>\n",
       "      <td>0.0</td>\n",
       "      <td>0.0</td>\n",
       "      <td>...</td>\n",
       "      <td>0.0</td>\n",
       "      <td>1.0</td>\n",
       "      <td>0.0</td>\n",
       "      <td>0.0</td>\n",
       "      <td>1.0</td>\n",
       "      <td>1.0</td>\n",
       "      <td>1.0</td>\n",
       "      <td>0.0</td>\n",
       "      <td>0.0</td>\n",
       "      <td>1.0</td>\n",
       "    </tr>\n",
       "    <tr>\n",
       "      <th>110145</th>\n",
       "      <td>-0.716218</td>\n",
       "      <td>0.784750</td>\n",
       "      <td>0.529192</td>\n",
       "      <td>1.529091</td>\n",
       "      <td>1.0</td>\n",
       "      <td>0.0</td>\n",
       "      <td>0.0</td>\n",
       "      <td>0.0</td>\n",
       "      <td>0.0</td>\n",
       "      <td>0.0</td>\n",
       "      <td>...</td>\n",
       "      <td>1.0</td>\n",
       "      <td>1.0</td>\n",
       "      <td>0.0</td>\n",
       "      <td>0.0</td>\n",
       "      <td>1.0</td>\n",
       "      <td>0.0</td>\n",
       "      <td>0.0</td>\n",
       "      <td>0.0</td>\n",
       "      <td>0.0</td>\n",
       "      <td>1.0</td>\n",
       "    </tr>\n",
       "    <tr>\n",
       "      <th>110146</th>\n",
       "      <td>-0.889859</td>\n",
       "      <td>0.851432</td>\n",
       "      <td>-1.253190</td>\n",
       "      <td>-1.704988</td>\n",
       "      <td>1.0</td>\n",
       "      <td>0.0</td>\n",
       "      <td>0.0</td>\n",
       "      <td>0.0</td>\n",
       "      <td>0.0</td>\n",
       "      <td>1.0</td>\n",
       "      <td>...</td>\n",
       "      <td>0.0</td>\n",
       "      <td>1.0</td>\n",
       "      <td>0.0</td>\n",
       "      <td>0.0</td>\n",
       "      <td>0.0</td>\n",
       "      <td>0.0</td>\n",
       "      <td>0.0</td>\n",
       "      <td>1.0</td>\n",
       "      <td>0.0</td>\n",
       "      <td>1.0</td>\n",
       "    </tr>\n",
       "    <tr>\n",
       "      <th>110147</th>\n",
       "      <td>-0.455757</td>\n",
       "      <td>0.279986</td>\n",
       "      <td>-0.314530</td>\n",
       "      <td>-1.235290</td>\n",
       "      <td>0.0</td>\n",
       "      <td>1.0</td>\n",
       "      <td>0.0</td>\n",
       "      <td>0.0</td>\n",
       "      <td>0.0</td>\n",
       "      <td>0.0</td>\n",
       "      <td>...</td>\n",
       "      <td>0.0</td>\n",
       "      <td>1.0</td>\n",
       "      <td>0.0</td>\n",
       "      <td>0.0</td>\n",
       "      <td>1.0</td>\n",
       "      <td>0.0</td>\n",
       "      <td>0.0</td>\n",
       "      <td>0.0</td>\n",
       "      <td>0.0</td>\n",
       "      <td>1.0</td>\n",
       "    </tr>\n",
       "  </tbody>\n",
       "</table>\n",
       "<p>110148 rows × 44 columns</p>\n",
       "</div>"
      ],
      "text/plain": [
       "              0         1         2         3    4    5    6    7    8    9   \\\n",
       "0      -0.889859 -0.735587  0.680428  0.621458  0.0  1.0  0.0  0.0  0.0  1.0   \n",
       "1      -0.021654  0.800039 -2.624752 -1.180851  1.0  0.0  0.0  0.0  0.0  1.0   \n",
       "2       0.933372  0.426908 -0.052822  0.648127  0.0  0.0  1.0  0.0  0.0  1.0   \n",
       "3       1.454295 -0.940432 -0.868118 -0.886609  1.0  0.0  0.0  0.0  0.0  1.0   \n",
       "4      -0.108474 -1.167347  1.937095 -0.824371  0.0  1.0  0.0  0.0  0.0  0.0   \n",
       "...          ...       ...       ...       ...  ...  ...  ...  ...  ...  ...   \n",
       "110143  0.499269  0.225214 -0.868118 -0.005897  0.0  1.0  0.0  0.0  0.0  1.0   \n",
       "110144  0.151987 -0.307360  1.163408  0.683917  1.0  0.0  0.0  0.0  0.0  0.0   \n",
       "110145 -0.716218  0.784750  0.529192  1.529091  1.0  0.0  0.0  0.0  0.0  0.0   \n",
       "110146 -0.889859  0.851432 -1.253190 -1.704988  1.0  0.0  0.0  0.0  0.0  1.0   \n",
       "110147 -0.455757  0.279986 -0.314530 -1.235290  0.0  1.0  0.0  0.0  0.0  0.0   \n",
       "\n",
       "        ...   34   35   36   37   38   39   40   41   42   43  \n",
       "0       ...  0.0  1.0  0.0  0.0  1.0  1.0  1.0  0.0  0.0  0.0  \n",
       "1       ...  0.0  0.0  0.0  1.0  0.0  0.0  0.0  0.0  0.0  0.0  \n",
       "2       ...  0.0  1.0  0.0  0.0  1.0  1.0  1.0  0.0  1.0  0.0  \n",
       "3       ...  0.0  1.0  0.0  0.0  1.0  0.0  0.0  0.0  0.0  0.0  \n",
       "4       ...  0.0  1.0  0.0  0.0  0.0  0.0  0.0  0.0  0.0  0.0  \n",
       "...     ...  ...  ...  ...  ...  ...  ...  ...  ...  ...  ...  \n",
       "110143  ...  0.0  1.0  0.0  0.0  0.0  0.0  0.0  0.0  0.0  1.0  \n",
       "110144  ...  0.0  1.0  0.0  0.0  1.0  1.0  1.0  0.0  0.0  1.0  \n",
       "110145  ...  1.0  1.0  0.0  0.0  1.0  0.0  0.0  0.0  0.0  1.0  \n",
       "110146  ...  0.0  1.0  0.0  0.0  0.0  0.0  0.0  1.0  0.0  1.0  \n",
       "110147  ...  0.0  1.0  0.0  0.0  1.0  0.0  0.0  0.0  0.0  1.0  \n",
       "\n",
       "[110148 rows x 44 columns]"
      ]
     },
     "execution_count": 54,
     "metadata": {},
     "output_type": "execute_result"
    }
   ],
   "source": [
    "df"
   ]
  },
  {
   "cell_type": "code",
   "execution_count": 55,
   "metadata": {},
   "outputs": [],
   "source": [
    "df = df.rename(columns={43: 'sample'})"
   ]
  },
  {
   "cell_type": "code",
   "execution_count": 56,
   "metadata": {},
   "outputs": [],
   "source": [
    "# Перед дальнейшим предобразованием разделим нашу выборку по признаку sample\n",
    "# Теперь выделим тестовую часть\n",
    "train_data = df[df['sample'] == 1].drop(['sample'], axis=1)\n",
    "test_data = df[df['sample'] == 0].drop(['sample'], axis=1)"
   ]
  },
  {
   "cell_type": "code",
   "execution_count": 57,
   "metadata": {},
   "outputs": [
    {
     "data": {
      "text/html": [
       "<div>\n",
       "<style scoped>\n",
       "    .dataframe tbody tr th:only-of-type {\n",
       "        vertical-align: middle;\n",
       "    }\n",
       "\n",
       "    .dataframe tbody tr th {\n",
       "        vertical-align: top;\n",
       "    }\n",
       "\n",
       "    .dataframe thead th {\n",
       "        text-align: right;\n",
       "    }\n",
       "</style>\n",
       "<table border=\"1\" class=\"dataframe\">\n",
       "  <thead>\n",
       "    <tr style=\"text-align: right;\">\n",
       "      <th></th>\n",
       "      <th>0</th>\n",
       "      <th>1</th>\n",
       "      <th>2</th>\n",
       "      <th>3</th>\n",
       "      <th>4</th>\n",
       "      <th>5</th>\n",
       "      <th>6</th>\n",
       "      <th>7</th>\n",
       "      <th>8</th>\n",
       "      <th>9</th>\n",
       "      <th>...</th>\n",
       "      <th>33</th>\n",
       "      <th>34</th>\n",
       "      <th>35</th>\n",
       "      <th>36</th>\n",
       "      <th>37</th>\n",
       "      <th>38</th>\n",
       "      <th>39</th>\n",
       "      <th>40</th>\n",
       "      <th>41</th>\n",
       "      <th>42</th>\n",
       "    </tr>\n",
       "  </thead>\n",
       "  <tbody>\n",
       "    <tr>\n",
       "      <th>0</th>\n",
       "      <td>-0.889859</td>\n",
       "      <td>-0.735587</td>\n",
       "      <td>0.680428</td>\n",
       "      <td>0.621458</td>\n",
       "      <td>0.0</td>\n",
       "      <td>1.0</td>\n",
       "      <td>0.0</td>\n",
       "      <td>0.0</td>\n",
       "      <td>0.0</td>\n",
       "      <td>1.0</td>\n",
       "      <td>...</td>\n",
       "      <td>1.0</td>\n",
       "      <td>0.0</td>\n",
       "      <td>1.0</td>\n",
       "      <td>0.0</td>\n",
       "      <td>0.0</td>\n",
       "      <td>1.0</td>\n",
       "      <td>1.0</td>\n",
       "      <td>1.0</td>\n",
       "      <td>0.0</td>\n",
       "      <td>0.0</td>\n",
       "    </tr>\n",
       "    <tr>\n",
       "      <th>1</th>\n",
       "      <td>-0.021654</td>\n",
       "      <td>0.800039</td>\n",
       "      <td>-2.624752</td>\n",
       "      <td>-1.180851</td>\n",
       "      <td>1.0</td>\n",
       "      <td>0.0</td>\n",
       "      <td>0.0</td>\n",
       "      <td>0.0</td>\n",
       "      <td>0.0</td>\n",
       "      <td>1.0</td>\n",
       "      <td>...</td>\n",
       "      <td>0.0</td>\n",
       "      <td>0.0</td>\n",
       "      <td>0.0</td>\n",
       "      <td>0.0</td>\n",
       "      <td>1.0</td>\n",
       "      <td>0.0</td>\n",
       "      <td>0.0</td>\n",
       "      <td>0.0</td>\n",
       "      <td>0.0</td>\n",
       "      <td>0.0</td>\n",
       "    </tr>\n",
       "    <tr>\n",
       "      <th>2</th>\n",
       "      <td>0.933372</td>\n",
       "      <td>0.426908</td>\n",
       "      <td>-0.052822</td>\n",
       "      <td>0.648127</td>\n",
       "      <td>0.0</td>\n",
       "      <td>0.0</td>\n",
       "      <td>1.0</td>\n",
       "      <td>0.0</td>\n",
       "      <td>0.0</td>\n",
       "      <td>1.0</td>\n",
       "      <td>...</td>\n",
       "      <td>0.0</td>\n",
       "      <td>0.0</td>\n",
       "      <td>1.0</td>\n",
       "      <td>0.0</td>\n",
       "      <td>0.0</td>\n",
       "      <td>1.0</td>\n",
       "      <td>1.0</td>\n",
       "      <td>1.0</td>\n",
       "      <td>0.0</td>\n",
       "      <td>1.0</td>\n",
       "    </tr>\n",
       "    <tr>\n",
       "      <th>3</th>\n",
       "      <td>1.454295</td>\n",
       "      <td>-0.940432</td>\n",
       "      <td>-0.868118</td>\n",
       "      <td>-0.886609</td>\n",
       "      <td>1.0</td>\n",
       "      <td>0.0</td>\n",
       "      <td>0.0</td>\n",
       "      <td>0.0</td>\n",
       "      <td>0.0</td>\n",
       "      <td>1.0</td>\n",
       "      <td>...</td>\n",
       "      <td>0.0</td>\n",
       "      <td>0.0</td>\n",
       "      <td>1.0</td>\n",
       "      <td>0.0</td>\n",
       "      <td>0.0</td>\n",
       "      <td>1.0</td>\n",
       "      <td>0.0</td>\n",
       "      <td>0.0</td>\n",
       "      <td>0.0</td>\n",
       "      <td>0.0</td>\n",
       "    </tr>\n",
       "    <tr>\n",
       "      <th>4</th>\n",
       "      <td>-0.108474</td>\n",
       "      <td>-1.167347</td>\n",
       "      <td>1.937095</td>\n",
       "      <td>-0.824371</td>\n",
       "      <td>0.0</td>\n",
       "      <td>1.0</td>\n",
       "      <td>0.0</td>\n",
       "      <td>0.0</td>\n",
       "      <td>0.0</td>\n",
       "      <td>0.0</td>\n",
       "      <td>...</td>\n",
       "      <td>0.0</td>\n",
       "      <td>0.0</td>\n",
       "      <td>1.0</td>\n",
       "      <td>0.0</td>\n",
       "      <td>0.0</td>\n",
       "      <td>0.0</td>\n",
       "      <td>0.0</td>\n",
       "      <td>0.0</td>\n",
       "      <td>0.0</td>\n",
       "      <td>0.0</td>\n",
       "    </tr>\n",
       "    <tr>\n",
       "      <th>...</th>\n",
       "      <td>...</td>\n",
       "      <td>...</td>\n",
       "      <td>...</td>\n",
       "      <td>...</td>\n",
       "      <td>...</td>\n",
       "      <td>...</td>\n",
       "      <td>...</td>\n",
       "      <td>...</td>\n",
       "      <td>...</td>\n",
       "      <td>...</td>\n",
       "      <td>...</td>\n",
       "      <td>...</td>\n",
       "      <td>...</td>\n",
       "      <td>...</td>\n",
       "      <td>...</td>\n",
       "      <td>...</td>\n",
       "      <td>...</td>\n",
       "      <td>...</td>\n",
       "      <td>...</td>\n",
       "      <td>...</td>\n",
       "      <td>...</td>\n",
       "    </tr>\n",
       "    <tr>\n",
       "      <th>36344</th>\n",
       "      <td>-0.195295</td>\n",
       "      <td>0.319505</td>\n",
       "      <td>-1.047780</td>\n",
       "      <td>0.902617</td>\n",
       "      <td>1.0</td>\n",
       "      <td>0.0</td>\n",
       "      <td>0.0</td>\n",
       "      <td>0.0</td>\n",
       "      <td>0.0</td>\n",
       "      <td>0.0</td>\n",
       "      <td>...</td>\n",
       "      <td>1.0</td>\n",
       "      <td>0.0</td>\n",
       "      <td>0.0</td>\n",
       "      <td>1.0</td>\n",
       "      <td>0.0</td>\n",
       "      <td>0.0</td>\n",
       "      <td>0.0</td>\n",
       "      <td>0.0</td>\n",
       "      <td>0.0</td>\n",
       "      <td>0.0</td>\n",
       "    </tr>\n",
       "    <tr>\n",
       "      <th>36345</th>\n",
       "      <td>2.148860</td>\n",
       "      <td>-0.779436</td>\n",
       "      <td>2.670346</td>\n",
       "      <td>1.609571</td>\n",
       "      <td>0.0</td>\n",
       "      <td>1.0</td>\n",
       "      <td>0.0</td>\n",
       "      <td>0.0</td>\n",
       "      <td>0.0</td>\n",
       "      <td>1.0</td>\n",
       "      <td>...</td>\n",
       "      <td>1.0</td>\n",
       "      <td>0.0</td>\n",
       "      <td>1.0</td>\n",
       "      <td>0.0</td>\n",
       "      <td>0.0</td>\n",
       "      <td>0.0</td>\n",
       "      <td>1.0</td>\n",
       "      <td>1.0</td>\n",
       "      <td>0.0</td>\n",
       "      <td>0.0</td>\n",
       "    </tr>\n",
       "    <tr>\n",
       "      <th>36346</th>\n",
       "      <td>-0.716218</td>\n",
       "      <td>1.929901</td>\n",
       "      <td>0.942137</td>\n",
       "      <td>0.842139</td>\n",
       "      <td>0.0</td>\n",
       "      <td>1.0</td>\n",
       "      <td>0.0</td>\n",
       "      <td>0.0</td>\n",
       "      <td>0.0</td>\n",
       "      <td>1.0</td>\n",
       "      <td>...</td>\n",
       "      <td>0.0</td>\n",
       "      <td>0.0</td>\n",
       "      <td>0.0</td>\n",
       "      <td>0.0</td>\n",
       "      <td>1.0</td>\n",
       "      <td>1.0</td>\n",
       "      <td>0.0</td>\n",
       "      <td>0.0</td>\n",
       "      <td>0.0</td>\n",
       "      <td>0.0</td>\n",
       "    </tr>\n",
       "    <tr>\n",
       "      <th>36347</th>\n",
       "      <td>-1.063501</td>\n",
       "      <td>1.325890</td>\n",
       "      <td>-0.052822</td>\n",
       "      <td>-1.670080</td>\n",
       "      <td>0.0</td>\n",
       "      <td>0.0</td>\n",
       "      <td>1.0</td>\n",
       "      <td>0.0</td>\n",
       "      <td>0.0</td>\n",
       "      <td>0.0</td>\n",
       "      <td>...</td>\n",
       "      <td>0.0</td>\n",
       "      <td>0.0</td>\n",
       "      <td>0.0</td>\n",
       "      <td>1.0</td>\n",
       "      <td>0.0</td>\n",
       "      <td>0.0</td>\n",
       "      <td>0.0</td>\n",
       "      <td>0.0</td>\n",
       "      <td>0.0</td>\n",
       "      <td>0.0</td>\n",
       "    </tr>\n",
       "    <tr>\n",
       "      <th>36348</th>\n",
       "      <td>-0.108474</td>\n",
       "      <td>0.794933</td>\n",
       "      <td>-1.047780</td>\n",
       "      <td>0.439334</td>\n",
       "      <td>1.0</td>\n",
       "      <td>0.0</td>\n",
       "      <td>0.0</td>\n",
       "      <td>0.0</td>\n",
       "      <td>0.0</td>\n",
       "      <td>1.0</td>\n",
       "      <td>...</td>\n",
       "      <td>0.0</td>\n",
       "      <td>0.0</td>\n",
       "      <td>1.0</td>\n",
       "      <td>0.0</td>\n",
       "      <td>0.0</td>\n",
       "      <td>1.0</td>\n",
       "      <td>0.0</td>\n",
       "      <td>0.0</td>\n",
       "      <td>0.0</td>\n",
       "      <td>0.0</td>\n",
       "    </tr>\n",
       "  </tbody>\n",
       "</table>\n",
       "<p>36349 rows × 43 columns</p>\n",
       "</div>"
      ],
      "text/plain": [
       "             0         1         2         3    4    5    6    7    8    9   \\\n",
       "0     -0.889859 -0.735587  0.680428  0.621458  0.0  1.0  0.0  0.0  0.0  1.0   \n",
       "1     -0.021654  0.800039 -2.624752 -1.180851  1.0  0.0  0.0  0.0  0.0  1.0   \n",
       "2      0.933372  0.426908 -0.052822  0.648127  0.0  0.0  1.0  0.0  0.0  1.0   \n",
       "3      1.454295 -0.940432 -0.868118 -0.886609  1.0  0.0  0.0  0.0  0.0  1.0   \n",
       "4     -0.108474 -1.167347  1.937095 -0.824371  0.0  1.0  0.0  0.0  0.0  0.0   \n",
       "...         ...       ...       ...       ...  ...  ...  ...  ...  ...  ...   \n",
       "36344 -0.195295  0.319505 -1.047780  0.902617  1.0  0.0  0.0  0.0  0.0  0.0   \n",
       "36345  2.148860 -0.779436  2.670346  1.609571  0.0  1.0  0.0  0.0  0.0  1.0   \n",
       "36346 -0.716218  1.929901  0.942137  0.842139  0.0  1.0  0.0  0.0  0.0  1.0   \n",
       "36347 -1.063501  1.325890 -0.052822 -1.670080  0.0  0.0  1.0  0.0  0.0  0.0   \n",
       "36348 -0.108474  0.794933 -1.047780  0.439334  1.0  0.0  0.0  0.0  0.0  1.0   \n",
       "\n",
       "       ...   33   34   35   36   37   38   39   40   41   42  \n",
       "0      ...  1.0  0.0  1.0  0.0  0.0  1.0  1.0  1.0  0.0  0.0  \n",
       "1      ...  0.0  0.0  0.0  0.0  1.0  0.0  0.0  0.0  0.0  0.0  \n",
       "2      ...  0.0  0.0  1.0  0.0  0.0  1.0  1.0  1.0  0.0  1.0  \n",
       "3      ...  0.0  0.0  1.0  0.0  0.0  1.0  0.0  0.0  0.0  0.0  \n",
       "4      ...  0.0  0.0  1.0  0.0  0.0  0.0  0.0  0.0  0.0  0.0  \n",
       "...    ...  ...  ...  ...  ...  ...  ...  ...  ...  ...  ...  \n",
       "36344  ...  1.0  0.0  0.0  1.0  0.0  0.0  0.0  0.0  0.0  0.0  \n",
       "36345  ...  1.0  0.0  1.0  0.0  0.0  0.0  1.0  1.0  0.0  0.0  \n",
       "36346  ...  0.0  0.0  0.0  0.0  1.0  1.0  0.0  0.0  0.0  0.0  \n",
       "36347  ...  0.0  0.0  0.0  1.0  0.0  0.0  0.0  0.0  0.0  0.0  \n",
       "36348  ...  0.0  0.0  1.0  0.0  0.0  1.0  0.0  0.0  0.0  0.0  \n",
       "\n",
       "[36349 rows x 43 columns]"
      ]
     },
     "execution_count": 57,
     "metadata": {},
     "output_type": "execute_result"
    }
   ],
   "source": [
    "test_data"
   ]
  },
  {
   "cell_type": "code",
   "execution_count": 58,
   "metadata": {},
   "outputs": [],
   "source": [
    "train_data = train_data.values\n",
    "test_data = test_data.values"
   ]
  },
  {
   "cell_type": "code",
   "execution_count": 60,
   "metadata": {},
   "outputs": [
    {
     "name": "stderr",
     "output_type": "stream",
     "text": [
      "C:\\Anaconda3\\lib\\site-packages\\sklearn\\linear_model\\_logistic.py:763: ConvergenceWarning: lbfgs failed to converge (status=1):\n",
      "STOP: TOTAL NO. of ITERATIONS REACHED LIMIT.\n",
      "\n",
      "Increase the number of iterations (max_iter) or scale the data as shown in:\n",
      "    https://scikit-learn.org/stable/modules/preprocessing.html\n",
      "Please also refer to the documentation for alternative solver options:\n",
      "    https://scikit-learn.org/stable/modules/linear_model.html#logistic-regression\n",
      "  n_iter_i = _check_optimize_result(\n"
     ]
    },
    {
     "data": {
      "image/png": "[encoded data removed]",
      "text/plain": [
       "<Figure size 432x288 with 1 Axes>"
      ]
     },
     "metadata": {
      "needs_background": "light"
     },
     "output_type": "display_data"
    }
   ],
   "source": [
    "# Разделим данные для обучения следующим образом:\n",
    "X_train, X_test, y_train, y_test = train_test_split(\n",
    "    train_data, Y, test_size=0.20, random_state=42)\n",
    "\n",
    "# Обучим модель на стандартных настройках логистической регрессии.\n",
    "model = LogisticRegression()\n",
    "model.fit(X_train, y_train)\n",
    "\n",
    "# предскажем значения\n",
    "Y_pred = model.predict(X_test)\n",
    "\n",
    "# В качестве методов оценки прогностической способности модели будем использовать ROC-анализ. Написав код для построения ROC AUС\n",
    "probs = model.predict_proba(X_test)\n",
    "probs = probs[:, 1]\n",
    "fpr, tpr, threshold = roc_curve(y_test, probs)\n",
    "roc_auc = roc_auc_score(y_test, probs)\n",
    "plt.figure()\n",
    "plt.plot([0, 1], label='Baseline', linestyle='--')\n",
    "plt.plot(fpr, tpr, label='Regression')\n",
    "plt.title('Logistic Regression ROC AUC = %0.3f' % roc_auc)\n",
    "plt.ylabel('True Positive Rate')\n",
    "plt.xlabel('False Positive Rate')\n",
    "plt.legend(loc='lower right')\n",
    "plt.show()"
   ]
  },
  {
   "cell_type": "code",
   "execution_count": 61,
   "metadata": {},
   "outputs": [
    {
     "data": {
      "image/png": "[encoded data removed]",
      "text/plain": [
       "<Figure size 432x288 with 2 Axes>"
      ]
     },
     "metadata": {
      "needs_background": "light"
     },
     "output_type": "display_data"
    }
   ],
   "source": [
    "# вычислим также дополнительные показатели качества модели и confusion_matrix\n",
    "from sklearn.metrics import plot_confusion_matrix\n",
    "plot_confusion_matrix(model, X_test, y_test)\n",
    "plt.show()"
   ]
  },
  {
   "cell_type": "code",
   "execution_count": 62,
   "metadata": {},
   "outputs": [
    {
     "name": "stdout",
     "output_type": "stream",
     "text": [
      "0.8750677506775068\n",
      "0.02079912424740011\n",
      "0.03958333333333333\n"
     ]
    }
   ],
   "source": [
    "print(accuracy_score(y_test,Y_pred))\n",
    "print(recall_score(y_test,Y_pred))\n",
    "print(f1_score(y_test,Y_pred))"
   ]
  },
  {
   "cell_type": "code",
   "execution_count": 1172,
   "metadata": {},
   "outputs": [],
   "source": [
    "# по полученным данным видим, что модель плохо предсказывает дефолтных заемщиков\n",
    "# как отмечалось ранее, признаков, принадлежащих недефолтным заемщикам больше, выборка не сбалансирована.Так как обектов класса-меньшинств значительно меньше\n",
    "# мы не можем сократить количество объектов превалирующего класса до этих объемов, поэтому прибегнем к oversampling — увеличение количества объектов классов-меньшинств.\n",
    "# производить oversampling будем путем применения готового метода SMOTE библиотеки imbalanced-learn"
   ]
  },
  {
   "cell_type": "code",
   "execution_count": 63,
   "metadata": {},
   "outputs": [
    {
     "name": "stdout",
     "output_type": "stream",
     "text": [
      "Requirement already satisfied: imbalanced-learn in c:\\anaconda3\\lib\\site-packages (0.8.0)\n",
      "Requirement already satisfied: scikit-learn>=0.24 in c:\\anaconda3\\lib\\site-packages (from imbalanced-learn) (0.24.1)\n",
      "Requirement already satisfied: scipy>=0.19.1 in c:\\anaconda3\\lib\\site-packages (from imbalanced-learn) (1.5.0)\n",
      "Requirement already satisfied: numpy>=1.13.3 in c:\\anaconda3\\lib\\site-packages (from imbalanced-learn) (1.18.5)\n",
      "Requirement already satisfied: joblib>=0.11 in c:\\anaconda3\\lib\\site-packages (from imbalanced-learn) (0.16.0)\n",
      "Requirement already satisfied: threadpoolctl>=2.0.0 in c:\\anaconda3\\lib\\site-packages (from scikit-learn>=0.24->imbalanced-learn) (2.1.0)\n"
     ]
    }
   ],
   "source": [
    "# установим библиотеку\n",
    "!pip install imbalanced-learn"
   ]
  },
  {
   "cell_type": "code",
   "execution_count": 64,
   "metadata": {},
   "outputs": [],
   "source": [
    "from collections import Counter\n",
    "from sklearn.datasets import make_classification\n",
    "from imblearn.over_sampling import SMOTE\n",
    "from matplotlib import pyplot\n",
    "from numpy import where"
   ]
  },
  {
   "cell_type": "code",
   "execution_count": 65,
   "metadata": {},
   "outputs": [
    {
     "name": "stdout",
     "output_type": "stream",
     "text": [
      "Counter({0: 64427, 1: 9372})\n"
     ]
    }
   ],
   "source": [
    "# еще раз посмотрим на распределение Y\n",
    "counter = Counter(Y)\n",
    "print(counter)"
   ]
  },
  {
   "cell_type": "code",
   "execution_count": 66,
   "metadata": {},
   "outputs": [
    {
     "data": {
      "image/png": "[encoded data removed]",
      "text/plain": [
       "<Figure size 432x288 with 1 Axes>"
      ]
     },
     "metadata": {
      "needs_background": "light"
     },
     "output_type": "display_data"
    }
   ],
   "source": [
    "# отрисуем график распределения по классам\n",
    "for label, _ in counter.items():\n",
    "    row_ix = where(Y == label)[0]\n",
    "    pyplot.scatter(train_data[row_ix, 0],\n",
    "                   train_data[row_ix, 1], label=str(label))\n",
    "pyplot.legend()\n",
    "pyplot.show()"
   ]
  },
  {
   "cell_type": "code",
   "execution_count": 67,
   "metadata": {},
   "outputs": [],
   "source": [
    "# трансформируем датасет\n",
    "oversample = SMOTE()\n",
    "train_data, Y = oversample.fit_resample(train_data, Y)"
   ]
  },
  {
   "cell_type": "code",
   "execution_count": 68,
   "metadata": {},
   "outputs": [
    {
     "name": "stdout",
     "output_type": "stream",
     "text": [
      "Counter({0: 64427, 1: 64427})\n"
     ]
    }
   ],
   "source": [
    "# рассмотрим новое распределение\n",
    "counter = Counter(Y)\n",
    "print(counter)"
   ]
  },
  {
   "cell_type": "code",
   "execution_count": 69,
   "metadata": {},
   "outputs": [
    {
     "data": {
      "image/png": "[encoded data removed]",
      "text/plain": [
       "<Figure size 432x288 with 1 Axes>"
      ]
     },
     "metadata": {
      "needs_background": "light"
     },
     "output_type": "display_data"
    }
   ],
   "source": [
    "# посмотрим на новый график\n",
    "for label, _ in counter.items():\n",
    "    row_ix = where(Y == label)[0]\n",
    "    pyplot.scatter(train_data[row_ix, 0],\n",
    "                   train_data[row_ix, 1], label=str(label))\n",
    "pyplot.legend()\n",
    "pyplot.show()"
   ]
  },
  {
   "cell_type": "code",
   "execution_count": 70,
   "metadata": {},
   "outputs": [],
   "source": [
    "# Разделим данные для обучения следующим образом:\n",
    "X_train, X_test, y_train, y_test = train_test_split(\n",
    "    train_data, Y, test_size=0.20, random_state=42)"
   ]
  },
  {
   "cell_type": "code",
   "execution_count": 71,
   "metadata": {},
   "outputs": [
    {
     "data": {
      "text/plain": [
       "LogisticRegression()"
      ]
     },
     "execution_count": 71,
     "metadata": {},
     "output_type": "execute_result"
    }
   ],
   "source": [
    "# Обучим модель на стандартных настройках логистической регрессии.\n",
    "model = LogisticRegression()\n",
    "model.fit(X_train, y_train)"
   ]
  },
  {
   "cell_type": "code",
   "execution_count": 72,
   "metadata": {},
   "outputs": [],
   "source": [
    "# предскажем значения\n",
    "Y_pred = model.predict(X_test)"
   ]
  },
  {
   "cell_type": "code",
   "execution_count": 73,
   "metadata": {},
   "outputs": [
    {
     "data": {
      "image/png": "[encoded data removed]",
      "text/plain": [
       "<Figure size 432x288 with 1 Axes>"
      ]
     },
     "metadata": {
      "needs_background": "light"
     },
     "output_type": "display_data"
    }
   ],
   "source": [
    "# В качестве методов оценки прогностической способности модели будем использовать ROC-анализ. Написав код для построения ROC AUС\n",
    "probs = model.predict_proba(X_test)\n",
    "probs = probs[:, 1]\n",
    "fpr, tpr, threshold = roc_curve(y_test, probs)\n",
    "roc_auc = roc_auc_score(y_test, probs)\n",
    "plt.figure()\n",
    "plt.plot([0, 1], label='Baseline', linestyle='--')\n",
    "plt.plot(fpr, tpr, label='Regression')\n",
    "plt.title('Logistic Regression ROC AUC = %0.3f' % roc_auc)\n",
    "plt.ylabel('True Positive Rate')\n",
    "plt.xlabel('False Positive Rate')\n",
    "plt.legend(loc='lower right')\n",
    "plt.show()"
   ]
  },
  {
   "cell_type": "code",
   "execution_count": 74,
   "metadata": {},
   "outputs": [
    {
     "data": {
      "image/png": "[encoded data removed]",
      "text/plain": [
       "<Figure size 432x288 with 2 Axes>"
      ]
     },
     "metadata": {
      "needs_background": "light"
     },
     "output_type": "display_data"
    },
    {
     "name": "stdout",
     "output_type": "stream",
     "text": [
      "0.684917154941601\n",
      "0.69683573755235\n",
      "0.6887696435415868\n"
     ]
    }
   ],
   "source": [
    "# вычислим также дополнительные показатели качества модели и confusion_matrix\n",
    "from sklearn.metrics import plot_confusion_matrix\n",
    "plot_confusion_matrix(model, X_test, y_test)\n",
    "plt.show()\n",
    "print(accuracy_score(y_test, Y_pred))\n",
    "print(recall_score(y_test, Y_pred))\n",
    "print(f1_score(y_test, Y_pred))"
   ]
  },
  {
   "cell_type": "code",
   "execution_count": 1185,
   "metadata": {},
   "outputs": [],
   "source": [
    "# по полученным метрикам видно улучшение модели после того, как сделали выборку сбалансированной"
   ]
  },
  {
   "cell_type": "code",
   "execution_count": 75,
   "metadata": {},
   "outputs": [],
   "source": [
    "# Найдем оптимальное значение параметра регуляризации для логистической регрессии (подобрав гиперпараметры параметры).\n",
    "# В scikit-learn есть два общих подхода к поиску: с помощью GridSearchCV  и RandomizedSearchCV.\n",
    "# В этом примере мы рассмотрим поиск гиперпараметров GridSearchCV при помощи перебора параметров по сетке с последующей кросс-валидацией\n",
    "from sklearn.model_selection import GridSearchCV"
   ]
  },
  {
   "cell_type": "code",
   "execution_count": 76,
   "metadata": {},
   "outputs": [],
   "source": [
    "import warnings\n",
    "warnings.filterwarnings('ignore')"
   ]
  },
  {
   "cell_type": "code",
   "execution_count": 77,
   "metadata": {},
   "outputs": [
    {
     "name": "stdout",
     "output_type": "stream",
     "text": [
      "Лучшее Penalty: l2\n",
      "Лучшее C: 0.004641588833612777\n"
     ]
    }
   ],
   "source": [
    "from sklearn.model_selection import GridSearchCV\n",
    "\n",
    "# Добавим типы регуляризации\n",
    "penalty = ['l1', 'l2']\n",
    "\n",
    "# Зададим ограничения для параметра регуляризации\n",
    "C = np.logspace(-3, 3, 10)\n",
    "\n",
    "# Создадим гиперпараметры\n",
    "hyperparameters = dict(C=C, penalty=penalty)\n",
    "\n",
    "model = LogisticRegression()\n",
    "model.fit(X_train, y_train)\n",
    "\n",
    "# Создаем сетку поиска с использованием 5-кратной перекрестной проверки\n",
    "clf = GridSearchCV(model, hyperparameters, cv=5, verbose=0)\n",
    "\n",
    "best_model = clf.fit(X_train, y_train)\n",
    "\n",
    "# View best hyperparameters\n",
    "print('Лучшее Penalty:', best_model.best_estimator_.get_params()['penalty'])\n",
    "print('Лучшее C:', best_model.best_estimator_.get_params()['C'])"
   ]
  },
  {
   "cell_type": "code",
   "execution_count": 80,
   "metadata": {},
   "outputs": [
    {
     "data": {
      "image/png": "[encoded data removed]",
      "text/plain": [
       "<Figure size 432x288 with 1 Axes>"
      ]
     },
     "metadata": {
      "needs_background": "light"
     },
     "output_type": "display_data"
    }
   ],
   "source": [
    "# построим ROC AUС\n",
    "probs = best_model.predict_proba(X_test)\n",
    "probs = probs[:, 1]\n",
    "fpr, tpr, threshold = roc_curve(y_test, probs)\n",
    "roc_auc = roc_auc_score(y_test, probs)\n",
    "plt.figure()\n",
    "plt.plot([0, 1], label='Baseline', linestyle='--')\n",
    "plt.plot(fpr, tpr, label='Regression')\n",
    "plt.title('Logistic Regression ROC AUC = %0.3f' % roc_auc)\n",
    "plt.ylabel('True Positive Rate')\n",
    "plt.xlabel('False Positive Rate')\n",
    "plt.legend(loc='lower right')\n",
    "plt.show()"
   ]
  },
  {
   "cell_type": "code",
   "execution_count": 82,
   "metadata": {},
   "outputs": [
    {
     "data": {
      "image/png": "[encoded data removed]",
      "text/plain": [
       "<Figure size 432x288 with 2 Axes>"
      ]
     },
     "metadata": {
      "needs_background": "light"
     },
     "output_type": "display_data"
    }
   ],
   "source": [
    "Y_predreg = best_model.predict(X_test)\n",
    "# вычислим также дополнительные показатели качества модели и confusion_matrix\n",
    "plot_confusion_matrix(best_model, X_test, y_test)\n",
    "plt.show()"
   ]
  },
  {
   "cell_type": "code",
   "execution_count": 83,
   "metadata": {},
   "outputs": [
    {
     "name": "stdout",
     "output_type": "stream",
     "text": [
      "0.6853051880020178\n",
      "0.6969908484566465\n",
      "0.6890814292286459\n"
     ]
    }
   ],
   "source": [
    "print(accuracy_score(y_test,Y_predreg))\n",
    "print(recall_score(y_test,Y_predreg))\n",
    "print(f1_score(y_test,Y_predreg))"
   ]
  },
  {
   "cell_type": "code",
   "execution_count": 84,
   "metadata": {},
   "outputs": [],
   "source": [
    "# сформируем predict_submission по построенной модели\n",
    "predict_submission = best_model.predict_proba(test_data)[:, 1]\n",
    "submission = pd.DataFrame(df_test['client_id'])\n",
    "submission['default'] = predict_submission\n",
    "submission.to_csv('p4_submission.csv', index=False)"
   ]
  }
 ],
 "metadata": {
  "kernelspec": {
   "display_name": "Python 3",
   "language": "python",
   "name": "python3"
  },
  "language_info": {
   "codemirror_mode": {
    "name": "ipython",
    "version": 3
   },
   "file_extension": ".py",
   "mimetype": "text/x-python",
   "name": "python",
   "nbconvert_exporter": "python",
   "pygments_lexer": "ipython3",
   "version": "3.8.3"
  }
 },
 "nbformat": 4,
 "nbformat_minor": 4
}
