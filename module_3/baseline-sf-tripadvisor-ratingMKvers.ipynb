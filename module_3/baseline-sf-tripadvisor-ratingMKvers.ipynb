{
 "cells": [
  {
   "cell_type": "markdown",
   "metadata": {},
   "source": [
    "![](https://www.pata.org/wp-content/uploads/2014/09/TripAdvisor_Logo-300x119.png)\n",
    "# Predict TripAdvisor Rating\n",
    "## В этом соревновании нам предстоит предсказать рейтинг ресторана в TripAdvisor\n",
    "**По ходу задачи:**\n",
    "* Прокачаем работу с pandas\n",
    "* Научимся работать с Kaggle Notebooks\n",
    "* Поймем как делать предобработку различных данных\n",
    "* Научимся работать с пропущенными данными (Nan)\n",
    "* Познакомимся с различными видами кодирования признаков\n",
    "* Немного попробуем [Feature Engineering](https://ru.wikipedia.org/wiki/Конструирование_признаков) (генерировать новые признаки)\n",
    "* И совсем немного затронем ML\n",
    "* И многое другое...   \n",
    "\n",
    "\n",
    "\n",
    "### И самое важное, все это вы сможете сделать самостоятельно!\n",
    "\n",
    "*Этот Ноутбук являетсся Примером/Шаблоном к этому соревнованию (Baseline) и не служит готовым решением!*   \n",
    "Вы можете использовать его как основу для построения своего решения.\n",
    "\n",
    "> что такое baseline решение, зачем оно нужно и почему предоставлять baseline к соревнованию стало важным стандартом на kaggle и других площадках.   \n",
    "**baseline** создается больше как шаблон, где можно посмотреть как происходит обращение с входящими данными и что нужно получить на выходе. При этом МЛ начинка может быть достаточно простой, просто для примера. Это помогает быстрее приступить к самому МЛ, а не тратить ценное время на чисто инженерные задачи. \n",
    "Также baseline являеться хорошей опорной точкой по метрике. Если твое решение хуже baseline - ты явно делаешь что-то не то и стоит попробовать другой путь) \n",
    "\n",
    "В контексте нашего соревнования baseline идет с небольшими примерами того, что можно делать с данными, и с инструкцией, что делать дальше, чтобы улучшить результат.  Вообще готовым решением это сложно назвать, так как используются всего 2 самых простых признака (а остальные исключаются)."
   ]
  },
  {
   "cell_type": "markdown",
   "metadata": {},
   "source": [
    "# import"
   ]
  },
  {
   "cell_type": "code",
   "execution_count": 983,
   "metadata": {
    "_cell_guid": "b1076dfc-b9ad-4769-8c92-a6c4dae69d19",
    "_uuid": "8f2839f25d086af736a60e9eeb907d3b93b6e0e5"
   },
   "outputs": [],
   "source": [
    "# This Python 3 environment comes with many helpful analytics libraries installed\n",
    "# It is defined by the kaggle/python docker image: https://github.com/kaggle/docker-python\n",
    "# For example, here's several helpful packages to load in\n",
    "\n",
    "import os\n",
    "from sklearn.model_selection import train_test_split\n",
    "import numpy as np  # linear algebra\n",
    "import pandas as pd  # data processing, CSV file I/O (e.g. pd.read_csv)\n",
    "import re\n",
    "import collections\n",
    "from datetime import datetime, timedelta\n",
    "\n",
    "import matplotlib.pyplot as plt\n",
    "import seaborn as sns\n",
    "%matplotlib inline\n",
    "\n",
    "# Загружаем специальный удобный инструмент для разделения датасета:\n",
    "\n",
    "# Input data files are available in the \"../input/\" directory.\n",
    "# For example, running this (by clicking run or pressing Shift+Enter) will list all files under the input directory\n",
    "\n",
    "for dirname, _, filenames in os.walk('/kaggle/input'):\n",
    "    for filename in filenames:\n",
    "        print(os.path.join(dirname, filename))\n",
    "\n",
    "# Any results you write to the current directory are saved as output."
   ]
  },
  {
   "cell_type": "code",
   "execution_count": 984,
   "metadata": {},
   "outputs": [],
   "source": [
    "# всегда фиксируйте RANDOM_SEED, чтобы ваши эксперименты были воспроизводимы!\n",
    "RANDOM_SEED = 42"
   ]
  },
  {
   "cell_type": "code",
   "execution_count": 985,
   "metadata": {},
   "outputs": [],
   "source": [
    "# зафиксируем версию пакетов, чтобы эксперименты были воспроизводимы:\n",
    "!pip freeze > requirements.txt"
   ]
  },
  {
   "cell_type": "markdown",
   "metadata": {},
   "source": [
    "# DATA"
   ]
  },
  {
   "cell_type": "code",
   "execution_count": 986,
   "metadata": {
    "_cell_guid": "79c7e3d0-c299-4dcb-8224-4455121ee9b0",
    "_uuid": "d629ff2d2480ee46fbb7e2d37f6b5fab8052498a"
   },
   "outputs": [],
   "source": [
    "DATA_DIR = '/kaggle/input/sf-dst-restaurant-rating'\n",
    "df_train = pd.read_csv('main_task.csv')\n",
    "df_test = pd.read_csv('kaggle_task.csv')\n",
    "sample_submission = pd.read_csv('sample_submission.csv')"
   ]
  },
  {
   "cell_type": "code",
   "execution_count": 987,
   "metadata": {},
   "outputs": [
    {
     "name": "stdout",
     "output_type": "stream",
     "text": [
      "<class 'pandas.core.frame.DataFrame'>\n",
      "RangeIndex: 40000 entries, 0 to 39999\n",
      "Data columns (total 10 columns):\n",
      " #   Column             Non-Null Count  Dtype  \n",
      "---  ------             --------------  -----  \n",
      " 0   Restaurant_id      40000 non-null  object \n",
      " 1   City               40000 non-null  object \n",
      " 2   Cuisine Style      30717 non-null  object \n",
      " 3   Ranking            40000 non-null  float64\n",
      " 4   Rating             40000 non-null  float64\n",
      " 5   Price Range        26114 non-null  object \n",
      " 6   Number of Reviews  37457 non-null  float64\n",
      " 7   Reviews            40000 non-null  object \n",
      " 8   URL_TA             40000 non-null  object \n",
      " 9   ID_TA              40000 non-null  object \n",
      "dtypes: float64(3), object(7)\n",
      "memory usage: 3.1+ MB\n"
     ]
    }
   ],
   "source": [
    "df_train.info()"
   ]
  },
  {
   "cell_type": "code",
   "execution_count": 988,
   "metadata": {},
   "outputs": [
    {
     "data": {
      "text/html": [
       "<div>\n",
       "<style scoped>\n",
       "    .dataframe tbody tr th:only-of-type {\n",
       "        vertical-align: middle;\n",
       "    }\n",
       "\n",
       "    .dataframe tbody tr th {\n",
       "        vertical-align: top;\n",
       "    }\n",
       "\n",
       "    .dataframe thead th {\n",
       "        text-align: right;\n",
       "    }\n",
       "</style>\n",
       "<table border=\"1\" class=\"dataframe\">\n",
       "  <thead>\n",
       "    <tr style=\"text-align: right;\">\n",
       "      <th></th>\n",
       "      <th>Restaurant_id</th>\n",
       "      <th>City</th>\n",
       "      <th>Cuisine Style</th>\n",
       "      <th>Ranking</th>\n",
       "      <th>Rating</th>\n",
       "      <th>Price Range</th>\n",
       "      <th>Number of Reviews</th>\n",
       "      <th>Reviews</th>\n",
       "      <th>URL_TA</th>\n",
       "      <th>ID_TA</th>\n",
       "    </tr>\n",
       "  </thead>\n",
       "  <tbody>\n",
       "    <tr>\n",
       "      <th>0</th>\n",
       "      <td>id_5569</td>\n",
       "      <td>Paris</td>\n",
       "      <td>['European', 'French', 'International']</td>\n",
       "      <td>5570.0</td>\n",
       "      <td>3.5</td>\n",
       "      <td>$$ - $$$</td>\n",
       "      <td>194.0</td>\n",
       "      <td>[['Good food at your doorstep', 'A good hotel ...</td>\n",
       "      <td>/Restaurant_Review-g187147-d1912643-Reviews-R_...</td>\n",
       "      <td>d1912643</td>\n",
       "    </tr>\n",
       "    <tr>\n",
       "      <th>1</th>\n",
       "      <td>id_1535</td>\n",
       "      <td>Stockholm</td>\n",
       "      <td>NaN</td>\n",
       "      <td>1537.0</td>\n",
       "      <td>4.0</td>\n",
       "      <td>NaN</td>\n",
       "      <td>10.0</td>\n",
       "      <td>[['Unique cuisine', 'Delicious Nepalese food']...</td>\n",
       "      <td>/Restaurant_Review-g189852-d7992032-Reviews-Bu...</td>\n",
       "      <td>d7992032</td>\n",
       "    </tr>\n",
       "    <tr>\n",
       "      <th>2</th>\n",
       "      <td>id_352</td>\n",
       "      <td>London</td>\n",
       "      <td>['Japanese', 'Sushi', 'Asian', 'Grill', 'Veget...</td>\n",
       "      <td>353.0</td>\n",
       "      <td>4.5</td>\n",
       "      <td>$$$$</td>\n",
       "      <td>688.0</td>\n",
       "      <td>[['Catch up with friends', 'Not exceptional'],...</td>\n",
       "      <td>/Restaurant_Review-g186338-d8632781-Reviews-RO...</td>\n",
       "      <td>d8632781</td>\n",
       "    </tr>\n",
       "    <tr>\n",
       "      <th>3</th>\n",
       "      <td>id_3456</td>\n",
       "      <td>Berlin</td>\n",
       "      <td>NaN</td>\n",
       "      <td>3458.0</td>\n",
       "      <td>5.0</td>\n",
       "      <td>NaN</td>\n",
       "      <td>3.0</td>\n",
       "      <td>[[], []]</td>\n",
       "      <td>/Restaurant_Review-g187323-d1358776-Reviews-Es...</td>\n",
       "      <td>d1358776</td>\n",
       "    </tr>\n",
       "    <tr>\n",
       "      <th>4</th>\n",
       "      <td>id_615</td>\n",
       "      <td>Munich</td>\n",
       "      <td>['German', 'Central European', 'Vegetarian Fri...</td>\n",
       "      <td>621.0</td>\n",
       "      <td>4.0</td>\n",
       "      <td>$$ - $$$</td>\n",
       "      <td>84.0</td>\n",
       "      <td>[['Best place to try a Bavarian food', 'Nice b...</td>\n",
       "      <td>/Restaurant_Review-g187309-d6864963-Reviews-Au...</td>\n",
       "      <td>d6864963</td>\n",
       "    </tr>\n",
       "  </tbody>\n",
       "</table>\n",
       "</div>"
      ],
      "text/plain": [
       "  Restaurant_id       City                                      Cuisine Style  \\\n",
       "0       id_5569      Paris            ['European', 'French', 'International']   \n",
       "1       id_1535  Stockholm                                                NaN   \n",
       "2        id_352     London  ['Japanese', 'Sushi', 'Asian', 'Grill', 'Veget...   \n",
       "3       id_3456     Berlin                                                NaN   \n",
       "4        id_615     Munich  ['German', 'Central European', 'Vegetarian Fri...   \n",
       "\n",
       "   Ranking  Rating Price Range  Number of Reviews  \\\n",
       "0   5570.0     3.5    $$ - $$$              194.0   \n",
       "1   1537.0     4.0         NaN               10.0   \n",
       "2    353.0     4.5        $$$$              688.0   \n",
       "3   3458.0     5.0         NaN                3.0   \n",
       "4    621.0     4.0    $$ - $$$               84.0   \n",
       "\n",
       "                                             Reviews  \\\n",
       "0  [['Good food at your doorstep', 'A good hotel ...   \n",
       "1  [['Unique cuisine', 'Delicious Nepalese food']...   \n",
       "2  [['Catch up with friends', 'Not exceptional'],...   \n",
       "3                                           [[], []]   \n",
       "4  [['Best place to try a Bavarian food', 'Nice b...   \n",
       "\n",
       "                                              URL_TA     ID_TA  \n",
       "0  /Restaurant_Review-g187147-d1912643-Reviews-R_...  d1912643  \n",
       "1  /Restaurant_Review-g189852-d7992032-Reviews-Bu...  d7992032  \n",
       "2  /Restaurant_Review-g186338-d8632781-Reviews-RO...  d8632781  \n",
       "3  /Restaurant_Review-g187323-d1358776-Reviews-Es...  d1358776  \n",
       "4  /Restaurant_Review-g187309-d6864963-Reviews-Au...  d6864963  "
      ]
     },
     "execution_count": 988,
     "metadata": {},
     "output_type": "execute_result"
    }
   ],
   "source": [
    "df_train.head(5)"
   ]
  },
  {
   "cell_type": "code",
   "execution_count": 989,
   "metadata": {},
   "outputs": [
    {
     "name": "stdout",
     "output_type": "stream",
     "text": [
      "<class 'pandas.core.frame.DataFrame'>\n",
      "RangeIndex: 10000 entries, 0 to 9999\n",
      "Data columns (total 9 columns):\n",
      " #   Column             Non-Null Count  Dtype  \n",
      "---  ------             --------------  -----  \n",
      " 0   Restaurant_id      10000 non-null  object \n",
      " 1   City               10000 non-null  object \n",
      " 2   Cuisine Style      7693 non-null   object \n",
      " 3   Ranking            10000 non-null  float64\n",
      " 4   Price Range        6525 non-null   object \n",
      " 5   Number of Reviews  9343 non-null   float64\n",
      " 6   Reviews            9998 non-null   object \n",
      " 7   URL_TA             10000 non-null  object \n",
      " 8   ID_TA              10000 non-null  object \n",
      "dtypes: float64(2), object(7)\n",
      "memory usage: 703.2+ KB\n"
     ]
    }
   ],
   "source": [
    "df_test.info()"
   ]
  },
  {
   "cell_type": "code",
   "execution_count": 990,
   "metadata": {},
   "outputs": [
    {
     "data": {
      "text/html": [
       "<div>\n",
       "<style scoped>\n",
       "    .dataframe tbody tr th:only-of-type {\n",
       "        vertical-align: middle;\n",
       "    }\n",
       "\n",
       "    .dataframe tbody tr th {\n",
       "        vertical-align: top;\n",
       "    }\n",
       "\n",
       "    .dataframe thead th {\n",
       "        text-align: right;\n",
       "    }\n",
       "</style>\n",
       "<table border=\"1\" class=\"dataframe\">\n",
       "  <thead>\n",
       "    <tr style=\"text-align: right;\">\n",
       "      <th></th>\n",
       "      <th>Restaurant_id</th>\n",
       "      <th>City</th>\n",
       "      <th>Cuisine Style</th>\n",
       "      <th>Ranking</th>\n",
       "      <th>Price Range</th>\n",
       "      <th>Number of Reviews</th>\n",
       "      <th>Reviews</th>\n",
       "      <th>URL_TA</th>\n",
       "      <th>ID_TA</th>\n",
       "    </tr>\n",
       "  </thead>\n",
       "  <tbody>\n",
       "    <tr>\n",
       "      <th>0</th>\n",
       "      <td>id_0</td>\n",
       "      <td>Paris</td>\n",
       "      <td>['Bar', 'Pub']</td>\n",
       "      <td>12963.0</td>\n",
       "      <td>$$ - $$$</td>\n",
       "      <td>4.0</td>\n",
       "      <td>[[], []]</td>\n",
       "      <td>/Restaurant_Review-g187147-d10746918-Reviews-L...</td>\n",
       "      <td>d10746918</td>\n",
       "    </tr>\n",
       "    <tr>\n",
       "      <th>1</th>\n",
       "      <td>id_1</td>\n",
       "      <td>Helsinki</td>\n",
       "      <td>['European', 'Scandinavian', 'Gluten Free Opti...</td>\n",
       "      <td>106.0</td>\n",
       "      <td>$$ - $$$</td>\n",
       "      <td>97.0</td>\n",
       "      <td>[['Very good reviews!', 'Fine dining in Hakani...</td>\n",
       "      <td>/Restaurant_Review-g189934-d6674944-Reviews-Ra...</td>\n",
       "      <td>d6674944</td>\n",
       "    </tr>\n",
       "    <tr>\n",
       "      <th>2</th>\n",
       "      <td>id_2</td>\n",
       "      <td>Edinburgh</td>\n",
       "      <td>['Vegetarian Friendly']</td>\n",
       "      <td>810.0</td>\n",
       "      <td>$$ - $$$</td>\n",
       "      <td>28.0</td>\n",
       "      <td>[['Better than the Links', 'Ivy Black'], ['12/...</td>\n",
       "      <td>/Restaurant_Review-g186525-d13129638-Reviews-B...</td>\n",
       "      <td>d13129638</td>\n",
       "    </tr>\n",
       "    <tr>\n",
       "      <th>3</th>\n",
       "      <td>id_3</td>\n",
       "      <td>London</td>\n",
       "      <td>['Italian', 'Mediterranean', 'European', 'Vege...</td>\n",
       "      <td>1669.0</td>\n",
       "      <td>$$$$</td>\n",
       "      <td>202.0</td>\n",
       "      <td>[['Most exquisite', 'Delicious and authentic']...</td>\n",
       "      <td>/Restaurant_Review-g186338-d680417-Reviews-Qui...</td>\n",
       "      <td>d680417</td>\n",
       "    </tr>\n",
       "    <tr>\n",
       "      <th>4</th>\n",
       "      <td>id_4</td>\n",
       "      <td>Bratislava</td>\n",
       "      <td>['Italian', 'Mediterranean', 'European', 'Seaf...</td>\n",
       "      <td>37.0</td>\n",
       "      <td>$$$$</td>\n",
       "      <td>162.0</td>\n",
       "      <td>[['Always the best in bratislava', 'Very good ...</td>\n",
       "      <td>/Restaurant_Review-g274924-d1112354-Reviews-Ma...</td>\n",
       "      <td>d1112354</td>\n",
       "    </tr>\n",
       "  </tbody>\n",
       "</table>\n",
       "</div>"
      ],
      "text/plain": [
       "  Restaurant_id        City  \\\n",
       "0          id_0       Paris   \n",
       "1          id_1    Helsinki   \n",
       "2          id_2   Edinburgh   \n",
       "3          id_3      London   \n",
       "4          id_4  Bratislava   \n",
       "\n",
       "                                       Cuisine Style  Ranking Price Range  \\\n",
       "0                                     ['Bar', 'Pub']  12963.0    $$ - $$$   \n",
       "1  ['European', 'Scandinavian', 'Gluten Free Opti...    106.0    $$ - $$$   \n",
       "2                            ['Vegetarian Friendly']    810.0    $$ - $$$   \n",
       "3  ['Italian', 'Mediterranean', 'European', 'Vege...   1669.0        $$$$   \n",
       "4  ['Italian', 'Mediterranean', 'European', 'Seaf...     37.0        $$$$   \n",
       "\n",
       "   Number of Reviews                                            Reviews  \\\n",
       "0                4.0                                           [[], []]   \n",
       "1               97.0  [['Very good reviews!', 'Fine dining in Hakani...   \n",
       "2               28.0  [['Better than the Links', 'Ivy Black'], ['12/...   \n",
       "3              202.0  [['Most exquisite', 'Delicious and authentic']...   \n",
       "4              162.0  [['Always the best in bratislava', 'Very good ...   \n",
       "\n",
       "                                              URL_TA      ID_TA  \n",
       "0  /Restaurant_Review-g187147-d10746918-Reviews-L...  d10746918  \n",
       "1  /Restaurant_Review-g189934-d6674944-Reviews-Ra...   d6674944  \n",
       "2  /Restaurant_Review-g186525-d13129638-Reviews-B...  d13129638  \n",
       "3  /Restaurant_Review-g186338-d680417-Reviews-Qui...    d680417  \n",
       "4  /Restaurant_Review-g274924-d1112354-Reviews-Ma...   d1112354  "
      ]
     },
     "execution_count": 990,
     "metadata": {},
     "output_type": "execute_result"
    }
   ],
   "source": [
    "df_test.head(5)"
   ]
  },
  {
   "cell_type": "code",
   "execution_count": 991,
   "metadata": {},
   "outputs": [
    {
     "data": {
      "text/html": [
       "<div>\n",
       "<style scoped>\n",
       "    .dataframe tbody tr th:only-of-type {\n",
       "        vertical-align: middle;\n",
       "    }\n",
       "\n",
       "    .dataframe tbody tr th {\n",
       "        vertical-align: top;\n",
       "    }\n",
       "\n",
       "    .dataframe thead th {\n",
       "        text-align: right;\n",
       "    }\n",
       "</style>\n",
       "<table border=\"1\" class=\"dataframe\">\n",
       "  <thead>\n",
       "    <tr style=\"text-align: right;\">\n",
       "      <th></th>\n",
       "      <th>Restaurant_id</th>\n",
       "      <th>Rating</th>\n",
       "    </tr>\n",
       "  </thead>\n",
       "  <tbody>\n",
       "    <tr>\n",
       "      <th>0</th>\n",
       "      <td>id_0</td>\n",
       "      <td>2.0</td>\n",
       "    </tr>\n",
       "    <tr>\n",
       "      <th>1</th>\n",
       "      <td>id_1</td>\n",
       "      <td>2.5</td>\n",
       "    </tr>\n",
       "    <tr>\n",
       "      <th>2</th>\n",
       "      <td>id_2</td>\n",
       "      <td>4.0</td>\n",
       "    </tr>\n",
       "    <tr>\n",
       "      <th>3</th>\n",
       "      <td>id_3</td>\n",
       "      <td>1.0</td>\n",
       "    </tr>\n",
       "    <tr>\n",
       "      <th>4</th>\n",
       "      <td>id_4</td>\n",
       "      <td>4.0</td>\n",
       "    </tr>\n",
       "  </tbody>\n",
       "</table>\n",
       "</div>"
      ],
      "text/plain": [
       "  Restaurant_id  Rating\n",
       "0          id_0     2.0\n",
       "1          id_1     2.5\n",
       "2          id_2     4.0\n",
       "3          id_3     1.0\n",
       "4          id_4     4.0"
      ]
     },
     "execution_count": 991,
     "metadata": {},
     "output_type": "execute_result"
    }
   ],
   "source": [
    "sample_submission.head(5)"
   ]
  },
  {
   "cell_type": "code",
   "execution_count": 992,
   "metadata": {},
   "outputs": [
    {
     "name": "stdout",
     "output_type": "stream",
     "text": [
      "<class 'pandas.core.frame.DataFrame'>\n",
      "RangeIndex: 10000 entries, 0 to 9999\n",
      "Data columns (total 2 columns):\n",
      " #   Column         Non-Null Count  Dtype  \n",
      "---  ------         --------------  -----  \n",
      " 0   Restaurant_id  10000 non-null  object \n",
      " 1   Rating         10000 non-null  float64\n",
      "dtypes: float64(1), object(1)\n",
      "memory usage: 156.4+ KB\n"
     ]
    }
   ],
   "source": [
    "sample_submission.info()"
   ]
  },
  {
   "cell_type": "code",
   "execution_count": 993,
   "metadata": {},
   "outputs": [],
   "source": [
    "# ВАЖНО! дря корректной обработки признаков объединяем трейн и тест в один датасет\n",
    "df_train['sample'] = 1  # помечаем где у нас трейн\n",
    "df_test['sample'] = 0  # помечаем где у нас тест\n",
    "# в тесте у нас нет значения Rating, мы его должны предсказать, по этому пока просто заполняем нулями\n",
    "df_test['Rating'] = 0\n",
    "\n",
    "data = df_test.append(df_train, sort=False).reset_index(\n",
    "    drop=True)  # объединяем"
   ]
  },
  {
   "cell_type": "code",
   "execution_count": 994,
   "metadata": {},
   "outputs": [
    {
     "name": "stdout",
     "output_type": "stream",
     "text": [
      "<class 'pandas.core.frame.DataFrame'>\n",
      "RangeIndex: 50000 entries, 0 to 49999\n",
      "Data columns (total 11 columns):\n",
      " #   Column             Non-Null Count  Dtype  \n",
      "---  ------             --------------  -----  \n",
      " 0   Restaurant_id      50000 non-null  object \n",
      " 1   City               50000 non-null  object \n",
      " 2   Cuisine Style      38410 non-null  object \n",
      " 3   Ranking            50000 non-null  float64\n",
      " 4   Price Range        32639 non-null  object \n",
      " 5   Number of Reviews  46800 non-null  float64\n",
      " 6   Reviews            49998 non-null  object \n",
      " 7   URL_TA             50000 non-null  object \n",
      " 8   ID_TA              50000 non-null  object \n",
      " 9   sample             50000 non-null  int64  \n",
      " 10  Rating             50000 non-null  float64\n",
      "dtypes: float64(3), int64(1), object(7)\n",
      "memory usage: 4.2+ MB\n"
     ]
    }
   ],
   "source": [
    "data.info()"
   ]
  },
  {
   "cell_type": "markdown",
   "metadata": {},
   "source": [
    "Подробнее по признакам:\n",
    "* City: Город \n",
    "* Cuisine Style: Кухня\n",
    "* Ranking: Ранг ресторана относительно других ресторанов в этом городе\n",
    "* Price Range: Цены в ресторане в 3 категориях\n",
    "* Number of Reviews: Количество отзывов\n",
    "* Reviews: 2 последних отзыва и даты этих отзывов\n",
    "* URL_TA: страница ресторана на 'www.tripadvisor.com' \n",
    "* ID_TA: ID ресторана в TripAdvisor\n",
    "* Rating: Рейтинг ресторана"
   ]
  },
  {
   "cell_type": "code",
   "execution_count": 995,
   "metadata": {},
   "outputs": [
    {
     "data": {
      "text/html": [
       "<div>\n",
       "<style scoped>\n",
       "    .dataframe tbody tr th:only-of-type {\n",
       "        vertical-align: middle;\n",
       "    }\n",
       "\n",
       "    .dataframe tbody tr th {\n",
       "        vertical-align: top;\n",
       "    }\n",
       "\n",
       "    .dataframe thead th {\n",
       "        text-align: right;\n",
       "    }\n",
       "</style>\n",
       "<table border=\"1\" class=\"dataframe\">\n",
       "  <thead>\n",
       "    <tr style=\"text-align: right;\">\n",
       "      <th></th>\n",
       "      <th>Restaurant_id</th>\n",
       "      <th>City</th>\n",
       "      <th>Cuisine Style</th>\n",
       "      <th>Ranking</th>\n",
       "      <th>Price Range</th>\n",
       "      <th>Number of Reviews</th>\n",
       "      <th>Reviews</th>\n",
       "      <th>URL_TA</th>\n",
       "      <th>ID_TA</th>\n",
       "      <th>sample</th>\n",
       "      <th>Rating</th>\n",
       "    </tr>\n",
       "  </thead>\n",
       "  <tbody>\n",
       "    <tr>\n",
       "      <th>26278</th>\n",
       "      <td>id_7004</td>\n",
       "      <td>Paris</td>\n",
       "      <td>NaN</td>\n",
       "      <td>7005.0</td>\n",
       "      <td>NaN</td>\n",
       "      <td>11.0</td>\n",
       "      <td>[['Great steak', 'Delicious Options'], ['11/12...</td>\n",
       "      <td>/Restaurant_Review-g187147-d11743155-Reviews-C...</td>\n",
       "      <td>d11743155</td>\n",
       "      <td>1</td>\n",
       "      <td>4.5</td>\n",
       "    </tr>\n",
       "    <tr>\n",
       "      <th>30396</th>\n",
       "      <td>id_383</td>\n",
       "      <td>Helsinki</td>\n",
       "      <td>NaN</td>\n",
       "      <td>384.0</td>\n",
       "      <td>NaN</td>\n",
       "      <td>32.0</td>\n",
       "      <td>[['Great place', 'Cool bar with great rum base...</td>\n",
       "      <td>/Restaurant_Review-g189934-d6164392-Reviews-Na...</td>\n",
       "      <td>d6164392</td>\n",
       "      <td>1</td>\n",
       "      <td>4.0</td>\n",
       "    </tr>\n",
       "    <tr>\n",
       "      <th>34314</th>\n",
       "      <td>id_3108</td>\n",
       "      <td>London</td>\n",
       "      <td>['Mediterranean', 'European', 'Turkish', 'Midd...</td>\n",
       "      <td>3114.0</td>\n",
       "      <td>$$ - $$$</td>\n",
       "      <td>124.0</td>\n",
       "      <td>[['Pricey', 'Very good'], ['08/01/2017', '06/1...</td>\n",
       "      <td>/Restaurant_Review-g186338-d2510577-Reviews-Fo...</td>\n",
       "      <td>d2510577</td>\n",
       "      <td>1</td>\n",
       "      <td>4.0</td>\n",
       "    </tr>\n",
       "    <tr>\n",
       "      <th>3638</th>\n",
       "      <td>id_3638</td>\n",
       "      <td>Madrid</td>\n",
       "      <td>['Mediterranean', 'Spanish']</td>\n",
       "      <td>2757.0</td>\n",
       "      <td>$$ - $$$</td>\n",
       "      <td>17.0</td>\n",
       "      <td>[[], []]</td>\n",
       "      <td>/Restaurant_Review-g187514-d12506736-Reviews-G...</td>\n",
       "      <td>d12506736</td>\n",
       "      <td>0</td>\n",
       "      <td>0.0</td>\n",
       "    </tr>\n",
       "    <tr>\n",
       "      <th>26966</th>\n",
       "      <td>id_1832</td>\n",
       "      <td>Budapest</td>\n",
       "      <td>['Japanese', 'Sushi']</td>\n",
       "      <td>1833.0</td>\n",
       "      <td>$$ - $$$</td>\n",
       "      <td>12.0</td>\n",
       "      <td>[['Still under the minimum of the minimums', '...</td>\n",
       "      <td>/Restaurant_Review-g274887-d6278408-Reviews-Ke...</td>\n",
       "      <td>d6278408</td>\n",
       "      <td>1</td>\n",
       "      <td>3.5</td>\n",
       "    </tr>\n",
       "  </tbody>\n",
       "</table>\n",
       "</div>"
      ],
      "text/plain": [
       "      Restaurant_id      City  \\\n",
       "26278       id_7004     Paris   \n",
       "30396        id_383  Helsinki   \n",
       "34314       id_3108    London   \n",
       "3638        id_3638    Madrid   \n",
       "26966       id_1832  Budapest   \n",
       "\n",
       "                                           Cuisine Style  Ranking Price Range  \\\n",
       "26278                                                NaN   7005.0         NaN   \n",
       "30396                                                NaN    384.0         NaN   \n",
       "34314  ['Mediterranean', 'European', 'Turkish', 'Midd...   3114.0    $$ - $$$   \n",
       "3638                        ['Mediterranean', 'Spanish']   2757.0    $$ - $$$   \n",
       "26966                              ['Japanese', 'Sushi']   1833.0    $$ - $$$   \n",
       "\n",
       "       Number of Reviews                                            Reviews  \\\n",
       "26278               11.0  [['Great steak', 'Delicious Options'], ['11/12...   \n",
       "30396               32.0  [['Great place', 'Cool bar with great rum base...   \n",
       "34314              124.0  [['Pricey', 'Very good'], ['08/01/2017', '06/1...   \n",
       "3638                17.0                                           [[], []]   \n",
       "26966               12.0  [['Still under the minimum of the minimums', '...   \n",
       "\n",
       "                                                  URL_TA      ID_TA  sample  \\\n",
       "26278  /Restaurant_Review-g187147-d11743155-Reviews-C...  d11743155       1   \n",
       "30396  /Restaurant_Review-g189934-d6164392-Reviews-Na...   d6164392       1   \n",
       "34314  /Restaurant_Review-g186338-d2510577-Reviews-Fo...   d2510577       1   \n",
       "3638   /Restaurant_Review-g187514-d12506736-Reviews-G...  d12506736       0   \n",
       "26966  /Restaurant_Review-g274887-d6278408-Reviews-Ke...   d6278408       1   \n",
       "\n",
       "       Rating  \n",
       "26278     4.5  \n",
       "30396     4.0  \n",
       "34314     4.0  \n",
       "3638      0.0  \n",
       "26966     3.5  "
      ]
     },
     "execution_count": 995,
     "metadata": {},
     "output_type": "execute_result"
    }
   ],
   "source": [
    "data.sample(5)"
   ]
  },
  {
   "cell_type": "code",
   "execution_count": 996,
   "metadata": {},
   "outputs": [
    {
     "data": {
      "text/plain": [
       "\"[['Very good reviews!', 'Fine dining in Hakaniemi'], ['12/05/2017', '10/29/2017']]\""
      ]
     },
     "execution_count": 996,
     "metadata": {},
     "output_type": "execute_result"
    }
   ],
   "source": [
    "data.Reviews[1]"
   ]
  },
  {
   "cell_type": "markdown",
   "metadata": {},
   "source": [
    "Как видим, большинство признаков у нас требует очистки и предварительной обработки."
   ]
  },
  {
   "cell_type": "markdown",
   "metadata": {},
   "source": [
    "# Cleaning and Prepping Data\n",
    "Обычно данные содержат в себе кучу мусора, который необходимо почистить, для того чтобы привести их в приемлемый формат. Чистка данных — это необходимый этап решения почти любой реальной задачи."
   ]
  },
  {
   "cell_type": "markdown",
   "metadata": {},
   "source": [
    "## 1. Обработка NAN \n",
    "У наличия пропусков могут быть разные причины, но пропуски нужно либо заполнить, либо исключить из набора полностью. Но с пропусками нужно быть внимательным, **даже отсутствие информации может быть важным признаком!**   \n",
    "По этому перед обработкой NAN лучше вынести информацию о наличии пропуска как отдельный признак "
   ]
  },
  {
   "cell_type": "code",
   "execution_count": 997,
   "metadata": {},
   "outputs": [],
   "source": [
    "# Всего имеем 4 столбца с пропусками для обработки: Cuisine Style, Price Range, Number of Reviews, Reviews\n",
    "# Вынесем информацию о наличии пропусков в данных как отдельные признаки для каждой переменной (кроме Reviews-всего 2 пропущенных значения) с целью дальнейшего анализа зависимостей\n",
    "data['Price Range_isNAN'] = pd.isna(data['Price Range']).astype('uint8')\n",
    "data['Number_of_Reviews_isNAN'] = pd.isna(data['Number of Reviews']).astype('uint8')"
   ]
  },
  {
   "cell_type": "code",
   "execution_count": 998,
   "metadata": {},
   "outputs": [
    {
     "data": {
      "text/plain": [
       "0    46800\n",
       "1     3200\n",
       "Name: Number_of_Reviews_isNAN, dtype: int64"
      ]
     },
     "execution_count": 998,
     "metadata": {},
     "output_type": "execute_result"
    }
   ],
   "source": [
    "data['Price Range_isNAN'].value_counts()\n",
    "data['Number_of_Reviews_isNAN'].value_counts()"
   ]
  },
  {
   "cell_type": "code",
   "execution_count": 999,
   "metadata": {},
   "outputs": [],
   "source": [
    "# Далее заполняем пропуски для каждой переменной:\n",
    "# Пропуски значений для переменной Cuisine Style  и Price Range можно заполнить данными с сайта, однако в этом случае есть риск\n",
    "# что это исказит модель, так как данные в исходном датасете неактуальные, а с сайта мы возьмем свежую информацию. За время сбора датасета рестораны\n",
    "# могли скорректировать свою политику и изменить меню и цены."
   ]
  },
  {
   "cell_type": "code",
   "execution_count": 1000,
   "metadata": {},
   "outputs": [],
   "source": [
    "# 1. Reviews\n",
    "data['Reviews'].value_counts()\n",
    "data[pd.isna(data['Reviews'])]\n",
    "# как мы видим, большинство значений Reviews - незаполненные отзывы - [[], []], для данной переменной есть только два пропуска,\n",
    "# заполним пропуски частым значением -  [[], []] для дальнейшей обработки\n",
    "data['Reviews'].fillna('[[], []]', inplace=True)"
   ]
  },
  {
   "cell_type": "code",
   "execution_count": 1001,
   "metadata": {},
   "outputs": [],
   "source": [
    "# создадим на основе столбца Reviews переменную Reviews_dates, содержащую даты отзывов. Для дальнейшего анализа пропусков Number of Reviews и создания новых переменных\n",
    "data['Reviews_dates']=data['Reviews'].apply(lambda x: re.findall(\"\\d{2}/\\d{2}/\\d{4}\",x))"
   ]
  },
  {
   "cell_type": "code",
   "execution_count": 1002,
   "metadata": {},
   "outputs": [],
   "source": [
    "# 2. Cuisine Style\n",
    "# в Reviews для части ресторанов с пропусками отражен тип кухни, можно провести opinion mining и извлечь необходимую информацию\n",
    "# Пока заменим пропуски на Nan\n",
    "data['Cuisine Style'].fillna('NaN', inplace=True)"
   ]
  },
  {
   "cell_type": "code",
   "execution_count": 1003,
   "metadata": {},
   "outputs": [],
   "source": [
    "# 3. Price Range\n",
    "# данные о ценах в ресторанах имеют градацию: $, $$ - $$$, $$$$, наиболее частое значение - средняя цена.\n",
    "# заменим пропуски наиболее частым значением\n",
    "data['Price Range'].value_counts()\n",
    "data['Price Range'].fillna('$$ - $$$', inplace=True)"
   ]
  },
  {
   "cell_type": "code",
   "execution_count": 1004,
   "metadata": {},
   "outputs": [
    {
     "data": {
      "text/plain": [
       "2.0       2403\n",
       "3.0       2042\n",
       "4.0       1707\n",
       "5.0       1471\n",
       "6.0       1258\n",
       "          ... \n",
       "5216.0       1\n",
       "1932.0       1\n",
       "1050.0       1\n",
       "1145.0       1\n",
       "1471.0       1\n",
       "Name: Number of Reviews, Length: 1573, dtype: int64"
      ]
     },
     "execution_count": 1004,
     "metadata": {},
     "output_type": "execute_result"
    },
    {
     "data": {
      "image/png": "[encoded data removed]",
      "text/plain": [
       "<Figure size 720x504 with 1 Axes>"
      ]
     },
     "metadata": {
      "needs_background": "light"
     },
     "output_type": "display_data"
    }
   ],
   "source": [
    "# 4. Number of Reviews\n",
    "# Числовой признак, посмотрим на распределение данных в нем:\n",
    "plt.rcParams['figure.figsize'] = (10, 7)\n",
    "data['Number of Reviews'].hist(bins=100)\n",
    "data['Number of Reviews'].value_counts()"
   ]
  },
  {
   "cell_type": "code",
   "execution_count": 1005,
   "metadata": {},
   "outputs": [],
   "source": [
    "# исходя из распеределения признака видим, что наиболее частое значение - 2, однако есть экстремально высокие значения, необходимо\n",
    "# очистить данные от возможных выбросов (например, заменив их на верхнию(нижнюю) границы IQR).\n",
    "# заполнение пропусков можно производить исходя из анализа созданной переменной - Reviews_dates\n",
    "# в случае, если данная переменная не содержит значений, можем заполнить пропуск для Number of Reviews на 0,\n",
    "# если содержит 1 отзыв, заполним пропуск - 1, иначе наиболее частым значением - 2, создадим для этого функцию.\n",
    "def fillna_rwsnum(row):\n",
    "    if pd.isna(row['Number of Reviews']):\n",
    "        return len(row['Reviews_dates'])\n",
    "    else:\n",
    "        return row['Number of Reviews']\n",
    "\n",
    "\n",
    "data['Number of Reviews'] = data.apply(lambda row: fillna_rwsnum(row), axis=1)"
   ]
  },
  {
   "cell_type": "code",
   "execution_count": 1006,
   "metadata": {},
   "outputs": [
    {
     "name": "stdout",
     "output_type": "stream",
     "text": [
      "<class 'pandas.core.frame.DataFrame'>\n",
      "RangeIndex: 50000 entries, 0 to 49999\n",
      "Data columns (total 14 columns):\n",
      " #   Column                   Non-Null Count  Dtype  \n",
      "---  ------                   --------------  -----  \n",
      " 0   Restaurant_id            50000 non-null  object \n",
      " 1   City                     50000 non-null  object \n",
      " 2   Cuisine Style            50000 non-null  object \n",
      " 3   Ranking                  50000 non-null  float64\n",
      " 4   Price Range              50000 non-null  object \n",
      " 5   Number of Reviews        50000 non-null  float64\n",
      " 6   Reviews                  50000 non-null  object \n",
      " 7   URL_TA                   50000 non-null  object \n",
      " 8   ID_TA                    50000 non-null  object \n",
      " 9   sample                   50000 non-null  int64  \n",
      " 10  Rating                   50000 non-null  float64\n",
      " 11  Price Range_isNAN        50000 non-null  uint8  \n",
      " 12  Number_of_Reviews_isNAN  50000 non-null  uint8  \n",
      " 13  Reviews_dates            50000 non-null  object \n",
      "dtypes: float64(3), int64(1), object(8), uint8(2)\n",
      "memory usage: 4.7+ MB\n"
     ]
    }
   ],
   "source": [
    "data.info()"
   ]
  },
  {
   "cell_type": "markdown",
   "metadata": {},
   "source": [
    "### 2. Обработка признаков\n",
    "Для начала посмотрим какие признаки у нас могут быть категориальными."
   ]
  },
  {
   "cell_type": "code",
   "execution_count": 1007,
   "metadata": {},
   "outputs": [],
   "source": [
    "# 1. Restaurant_id\n",
    "# по описанию данной переменной мы видим, что значения не уникальные и не являются id ресторана как таковым\n",
    "# для ресторанов из одной группы, объединенных по Restaurant_id очень близкие значения столбца Ranking\n",
    "# попробуем вывести среднее значение по рейтингу для этих групп:\n",
    "data.groupby(['Restaurant_id'])['Ranking'].mean().sort_values()\n",
    "# по результату видим, что Restaurant_id отражает рейтинг ресторанов по Rankig (есть смещение на 1).Между данными переменными есть сильная корреляция,\n",
    "# проверем это, переведя в числовые переменные:\n",
    "data['Restaurant_id'] = data['Restaurant_id'].apply(\n",
    "    lambda x: int(re.sub('id_', '', x)))\n",
    "data['Restaurant_id'].corr(data['Ranking'])\n",
    "# данную переменную необходимо удалить:\n",
    "data = data.drop(['Restaurant_id'], axis=1)"
   ]
  },
  {
   "cell_type": "code",
   "execution_count": 1008,
   "metadata": {},
   "outputs": [
    {
     "name": "stdout",
     "output_type": "stream",
     "text": [
      "<class 'pandas.core.frame.DataFrame'>\n",
      "RangeIndex: 50000 entries, 0 to 49999\n",
      "Data columns (total 13 columns):\n",
      " #   Column                   Non-Null Count  Dtype  \n",
      "---  ------                   --------------  -----  \n",
      " 0   City                     50000 non-null  object \n",
      " 1   Cuisine Style            50000 non-null  object \n",
      " 2   Ranking                  50000 non-null  float64\n",
      " 3   Price Range              50000 non-null  object \n",
      " 4   Number of Reviews        50000 non-null  float64\n",
      " 5   Reviews                  50000 non-null  object \n",
      " 6   URL_TA                   50000 non-null  object \n",
      " 7   ID_TA                    50000 non-null  object \n",
      " 8   sample                   50000 non-null  int64  \n",
      " 9   Rating                   50000 non-null  float64\n",
      " 10  Price Range_isNAN        50000 non-null  uint8  \n",
      " 11  Number_of_Reviews_isNAN  50000 non-null  uint8  \n",
      " 12  Reviews_dates            50000 non-null  object \n",
      "dtypes: float64(3), int64(1), object(7), uint8(2)\n",
      "memory usage: 4.3+ MB\n"
     ]
    }
   ],
   "source": [
    "data.info()"
   ]
  },
  {
   "cell_type": "code",
   "execution_count": 1009,
   "metadata": {},
   "outputs": [],
   "source": [
    "# 2. City\n",
    "# для One-Hot Encoding в pandas есть готовая функция - get_dummies. Особенно радует параметр dummy_na\n",
    "# задублируем City для удобства последующего анализа\n",
    "data['City_'] = data['City']\n",
    "data = pd.get_dummies(data, columns=['City', ], dummy_na=True)"
   ]
  },
  {
   "cell_type": "code",
   "execution_count": 1010,
   "metadata": {},
   "outputs": [
    {
     "name": "stdout",
     "output_type": "stream",
     "text": [
      "<class 'pandas.core.frame.DataFrame'>\n",
      "RangeIndex: 50000 entries, 0 to 49999\n",
      "Data columns (total 45 columns):\n",
      " #   Column                   Non-Null Count  Dtype  \n",
      "---  ------                   --------------  -----  \n",
      " 0   Cuisine Style            50000 non-null  object \n",
      " 1   Ranking                  50000 non-null  float64\n",
      " 2   Price Range              50000 non-null  object \n",
      " 3   Number of Reviews        50000 non-null  float64\n",
      " 4   Reviews                  50000 non-null  object \n",
      " 5   URL_TA                   50000 non-null  object \n",
      " 6   ID_TA                    50000 non-null  object \n",
      " 7   sample                   50000 non-null  int64  \n",
      " 8   Rating                   50000 non-null  float64\n",
      " 9   Price Range_isNAN        50000 non-null  uint8  \n",
      " 10  Number_of_Reviews_isNAN  50000 non-null  uint8  \n",
      " 11  Reviews_dates            50000 non-null  object \n",
      " 12  City_                    50000 non-null  object \n",
      " 13  City_Amsterdam           50000 non-null  uint8  \n",
      " 14  City_Athens              50000 non-null  uint8  \n",
      " 15  City_Barcelona           50000 non-null  uint8  \n",
      " 16  City_Berlin              50000 non-null  uint8  \n",
      " 17  City_Bratislava          50000 non-null  uint8  \n",
      " 18  City_Brussels            50000 non-null  uint8  \n",
      " 19  City_Budapest            50000 non-null  uint8  \n",
      " 20  City_Copenhagen          50000 non-null  uint8  \n",
      " 21  City_Dublin              50000 non-null  uint8  \n",
      " 22  City_Edinburgh           50000 non-null  uint8  \n",
      " 23  City_Geneva              50000 non-null  uint8  \n",
      " 24  City_Hamburg             50000 non-null  uint8  \n",
      " 25  City_Helsinki            50000 non-null  uint8  \n",
      " 26  City_Krakow              50000 non-null  uint8  \n",
      " 27  City_Lisbon              50000 non-null  uint8  \n",
      " 28  City_Ljubljana           50000 non-null  uint8  \n",
      " 29  City_London              50000 non-null  uint8  \n",
      " 30  City_Luxembourg          50000 non-null  uint8  \n",
      " 31  City_Lyon                50000 non-null  uint8  \n",
      " 32  City_Madrid              50000 non-null  uint8  \n",
      " 33  City_Milan               50000 non-null  uint8  \n",
      " 34  City_Munich              50000 non-null  uint8  \n",
      " 35  City_Oporto              50000 non-null  uint8  \n",
      " 36  City_Oslo                50000 non-null  uint8  \n",
      " 37  City_Paris               50000 non-null  uint8  \n",
      " 38  City_Prague              50000 non-null  uint8  \n",
      " 39  City_Rome                50000 non-null  uint8  \n",
      " 40  City_Stockholm           50000 non-null  uint8  \n",
      " 41  City_Vienna              50000 non-null  uint8  \n",
      " 42  City_Warsaw              50000 non-null  uint8  \n",
      " 43  City_Zurich              50000 non-null  uint8  \n",
      " 44  City_nan                 50000 non-null  uint8  \n",
      "dtypes: float64(3), int64(1), object(7), uint8(34)\n",
      "memory usage: 5.8+ MB\n"
     ]
    }
   ],
   "source": [
    "data.info()"
   ]
  },
  {
   "cell_type": "code",
   "execution_count": 1011,
   "metadata": {},
   "outputs": [],
   "source": [
    "# 3. Cuisine Style\n",
    "# для удобства обработки переведем значения столбца в списки:\n",
    "data['Cuisine Style'] = data['Cuisine Style'].apply(\n",
    "    lambda x: None if pd.isnull(x) else re.sub('\\s\\'|\\'|\\[|\\]', '', x).split(','))"
   ]
  },
  {
   "cell_type": "code",
   "execution_count": 1012,
   "metadata": {},
   "outputs": [
    {
     "data": {
      "text/plain": [
       "[('Vegetarian Friendly', 14021),\n",
       " ('European', 12561),\n",
       " ('NaN', 11590),\n",
       " ('Mediterranean', 7820),\n",
       " ('Italian', 7433),\n",
       " ('Vegan Options', 5684),\n",
       " ('Gluten Free Options', 5185),\n",
       " ('Bar', 4094),\n",
       " ('French', 3970),\n",
       " ('Asian', 3786),\n",
       " ('Pizza', 3502),\n",
       " ('Spanish', 3456),\n",
       " ('Pub', 3058),\n",
       " ('Cafe', 2883),\n",
       " ('Fast Food', 2122),\n",
       " ('British', 1992),\n",
       " ('International', 1966),\n",
       " ('Seafood', 1878),\n",
       " ('Japanese', 1860),\n",
       " ('Central European', 1727),\n",
       " ('American', 1642),\n",
       " ('Sushi', 1450),\n",
       " ('Chinese', 1446),\n",
       " ('Portuguese', 1385),\n",
       " ('Indian', 1328),\n",
       " ('Middle Eastern', 980),\n",
       " ('Thai', 923),\n",
       " ('Wine Bar', 877),\n",
       " ('German', 820),\n",
       " ('Halal', 773),\n",
       " ('Greek', 768),\n",
       " ('Healthy', 758),\n",
       " ('Fusion', 748),\n",
       " ('Czech', 745),\n",
       " ('Steakhouse', 729),\n",
       " ('Barbecue', 710),\n",
       " ('Contemporary', 652),\n",
       " ('Soups', 630),\n",
       " ('Eastern European', 629),\n",
       " ('Vietnamese', 622),\n",
       " ('Grill', 617),\n",
       " ('Gastropub', 608),\n",
       " ('Turkish', 574),\n",
       " ('Mexican', 572),\n",
       " ('South American', 490),\n",
       " ('Delicatessen', 473),\n",
       " ('Austrian', 462),\n",
       " ('Polish', 453),\n",
       " ('Scandinavian', 449),\n",
       " ('Hungarian', 444),\n",
       " ('Lebanese', 397),\n",
       " ('Diner', 375),\n",
       " ('Latin', 373),\n",
       " ('Dutch', 368),\n",
       " ('Irish', 352),\n",
       " ('Street Food', 336),\n",
       " ('Belgian', 335),\n",
       " ('Brew Pub', 299),\n",
       " ('Danish', 225),\n",
       " ('Swiss', 223),\n",
       " ('Swedish', 223),\n",
       " ('Argentinean', 214),\n",
       " ('Korean', 206),\n",
       " ('Scottish', 199),\n",
       " ('African', 193),\n",
       " ('Moroccan', 173),\n",
       " ('Central American', 168),\n",
       " ('Brazilian', 152),\n",
       " ('Pakistani', 140),\n",
       " ('Peruvian', 130),\n",
       " ('Caribbean', 124),\n",
       " ('Nepali', 121),\n",
       " ('Balti', 104),\n",
       " ('Bangladeshi', 100),\n",
       " ('Norwegian', 96),\n",
       " ('Israeli', 90),\n",
       " ('Slovenian', 85),\n",
       " ('Persian', 77),\n",
       " ('Indonesian', 71),\n",
       " ('Russian', 66),\n",
       " ('Arabic', 58),\n",
       " ('Kosher', 56),\n",
       " ('Ethiopian', 51),\n",
       " ('Venezuelan', 51),\n",
       " ('Malaysian', 38),\n",
       " ('Australian', 36),\n",
       " ('Jamaican', 36),\n",
       " ('Croatian', 33),\n",
       " ('Cuban', 32),\n",
       " ('Colombian', 30),\n",
       " ('Sri Lankan', 30),\n",
       " ('Taiwanese', 30),\n",
       " ('Tibetan', 29),\n",
       " ('Afghani', 27),\n",
       " ('Cajun & Creole', 27),\n",
       " ('Southwestern', 24),\n",
       " ('Egyptian', 24),\n",
       " ('Tunisian', 23),\n",
       " ('Hawaiian', 23),\n",
       " ('Cambodian', 22),\n",
       " ('Singaporean', 21),\n",
       " ('Mongolian', 20),\n",
       " ('Ukrainian', 20),\n",
       " ('Georgian', 18),\n",
       " ('Armenian', 17),\n",
       " ('Filipino', 17),\n",
       " ('Chilean', 16),\n",
       " ('Romanian', 13),\n",
       " ('Minority Chinese', 12),\n",
       " ('Central Asian', 12),\n",
       " ('Ecuadorean', 8),\n",
       " ('Albanian', 8),\n",
       " ('Canadian', 7),\n",
       " ('New Zealand', 7),\n",
       " ('Native American', 5),\n",
       " ('Uzbek', 5),\n",
       " ('Caucasian', 4),\n",
       " ('Welsh', 3),\n",
       " ('Azerbaijani', 3),\n",
       " ('Yunnan', 2),\n",
       " ('Polynesian', 2),\n",
       " ('Fujian', 2),\n",
       " ('Salvadoran', 1),\n",
       " ('Xinjiang', 1),\n",
       " ('Burmese', 1),\n",
       " ('Latvian', 1)]"
      ]
     },
     "execution_count": 1012,
     "metadata": {},
     "output_type": "execute_result"
    }
   ],
   "source": [
    "# составим словарь уникальных значений с количеством\n",
    "cus = collections.Counter()\n",
    "for i in data['Cuisine Style']:\n",
    "    if i is not None and len(i) != 0:\n",
    "        for j in i:\n",
    "            cus[j] += 1\n",
    "len(cus)\n",
    "cus.most_common()\n",
    "# как видим, наиболее частое значение - Vegetarian Friendly, также можно выделить группы кухонь из имеющихся значений"
   ]
  },
  {
   "cell_type": "code",
   "execution_count": 1013,
   "metadata": {},
   "outputs": [],
   "source": [
    "# сформируем dummy-переменные на основе значений и сформированного ранее списка Cuisine Style\n",
    "for i in cus.keys():\n",
    "    data['Cuisine_' +\n",
    "         i] = data['Cuisine Style'].apply(lambda x: 1 if i in x else 0)"
   ]
  },
  {
   "cell_type": "code",
   "execution_count": 1014,
   "metadata": {},
   "outputs": [
    {
     "data": {
      "text/plain": [
       "$$ - $$$    40402\n",
       "$            7816\n",
       "$$$$         1782\n",
       "Name: Price Range, dtype: int64"
      ]
     },
     "execution_count": 1014,
     "metadata": {},
     "output_type": "execute_result"
    }
   ],
   "source": [
    "# 4. Price Range\n",
    "data['Price Range'].value_counts()"
   ]
  },
  {
   "cell_type": "code",
   "execution_count": 1015,
   "metadata": {},
   "outputs": [],
   "source": [
    "# заменим значения в переменной Price Range на числовые: 1, 2, 3 в соответствии с уровнем цен:\n",
    "data['Price Range'] = data['Price Range'].apply(\n",
    "    lambda x: 1 if x == '$' else 2 if x == '$$ - $$$' else 3)"
   ]
  },
  {
   "cell_type": "code",
   "execution_count": 1016,
   "metadata": {},
   "outputs": [
    {
     "data": {
      "text/plain": [
       "2    40402\n",
       "1     7816\n",
       "3     1782\n",
       "Name: Price Range, dtype: int64"
      ]
     },
     "execution_count": 1016,
     "metadata": {},
     "output_type": "execute_result"
    }
   ],
   "source": [
    "data['Price Range'].value_counts()"
   ]
  },
  {
   "cell_type": "code",
   "execution_count": 1017,
   "metadata": {},
   "outputs": [],
   "source": [
    "# 5. ID_TA\n",
    "# предсаляет собой id ресторана, возможно будет полезен, так как косвено отражает то, насколько давно ресторан находится на сайте (в базе) tripadviser\n",
    "# т.е. чем ниже значение, тем дольше ресторан на сайте, может быть полезным, переведем в числовой:\n",
    "data['ID_TA'] = data['ID_TA'].apply(lambda x: int(x[1:]))"
   ]
  },
  {
   "cell_type": "code",
   "execution_count": 1018,
   "metadata": {},
   "outputs": [],
   "source": [
    "data['ID_TA'].value_counts()\n",
    "# обнаружили, что есть задублированные строки, посмотрим на них детальнее:\n",
    "ta = pd.DataFrame(data['ID_TA'].value_counts())\n",
    "ta = ta[ta['ID_TA'] > 1]\n",
    "# все значения одинаковые, кроме значения Ranking. Необходимо сгруппировать по ID_TA и вычислить среднее по Ranking, обновить даные средними значениями\n",
    "newrank = pd.DataFrame(data[data['ID_TA'].isin(ta.index)].groupby(\n",
    "    ['ID_TA'])['Ranking'].mean()).reset_index()\n",
    "# def fillrank_mean(row):\n",
    "#    if len(newrank[newrank['ID_TA']==row['ID_TA']])!=0:\n",
    "#        return newrank[newrank['ID_TA']==row['ID_TA']]['Ranking']\n",
    "#    else:\n",
    "#        return row['Ranking']\n",
    "# for i in newrank['ID_TA']:\n",
    "#    data['Ranking_new']=data.apply(lambda row: fillrank_mean(row), axis=1)"
   ]
  },
  {
   "cell_type": "code",
   "execution_count": 1019,
   "metadata": {},
   "outputs": [],
   "source": [
    "#прочие категориальные переменные - Reviews, URL_TA, Reviews_dates нужны для подготовки новых признаков. Удалим их позже "
   ]
  },
  {
   "cell_type": "code",
   "execution_count": 1020,
   "metadata": {},
   "outputs": [
    {
     "name": "stdout",
     "output_type": "stream",
     "text": [
      "Значения находятся в диапазоне от 0.0 до 9660.0\n",
      "Большая часть значений лежит между 7.0 и 105.0 (25-й перцентиль: 7.0, 75-й перцентиль: 105.0)\n",
      "IQR: 98.0,  Границы выбросов: [-140.0, 252.0].\n"
     ]
    }
   ],
   "source": [
    "# 6. Number of Reviews\n",
    "# Как уже отмечалось выше колличественный признак Number of Reviews содержит экстримально высокие\n",
    "# значения, попробуем очистить данные от возможных выбросов, поределим границы IQR).\n",
    "data['Number of Reviews'].value_counts()\n",
    "# зададим функцию поиска персентилей 25 и 75 и IQR\n",
    "\n",
    "\n",
    "def iqrdef(s):\n",
    "    # определение границ выбровсов для числовых переменных:\n",
    "    print('Значения находятся в диапазоне от', s.min(), 'до', s.max())\n",
    "    perc25 = s.quantile(0.25)\n",
    "    perc75 = s.quantile(0.75)\n",
    "    IQR = perc75 - perc25\n",
    "    l = perc75 + 1.5*IQR\n",
    "    f = perc25 - 1.5*IQR\n",
    "    print('Большая часть значений лежит между', perc25, 'и', perc75,\n",
    "          '(25-й перцентиль: {},'.format(perc25), '75-й перцентиль: {})'.format(perc75))\n",
    "    print('IQR: {}, '.format(IQR), 'Границы выбросов: [{}, {}].'.format(f, l))\n",
    "    return l\n",
    "\n",
    "\n",
    "m = iqrdef(data['Number of Reviews'])\n",
    "# верхняя граница - 252, однако выше нее лежит слишком много значений, нам она не подходит\n",
    "# вероятно такое распределение признака обусловлено разным размером городов (числом населения). Посмотрим более детально в след. разделе"
   ]
  },
  {
   "cell_type": "code",
   "execution_count": 1021,
   "metadata": {},
   "outputs": [
    {
     "name": "stdout",
     "output_type": "stream",
     "text": [
      "<class 'pandas.core.frame.DataFrame'>\n",
      "RangeIndex: 50000 entries, 0 to 49999\n",
      "Columns: 171 entries, Cuisine Style to Cuisine_Latvian\n",
      "dtypes: float64(3), int64(129), object(5), uint8(34)\n",
      "memory usage: 53.9+ MB\n"
     ]
    }
   ],
   "source": [
    "data.info()"
   ]
  },
  {
   "cell_type": "markdown",
   "metadata": {},
   "source": [
    "# EDA \n",
    "[Exploratory Data Analysis](https://ru.wikipedia.org/wiki/Разведочный_анализ_данных) - Анализ данных\n",
    "На этом этапе мы строим графики, ищем закономерности, аномалии, выбросы или связи между признаками.\n",
    "В общем цель этого этапа понять, что эти данные могут нам дать и как признаки могут быть взаимосвязаны между собой.\n",
    "Понимание изначальных признаков позволит сгенерировать новые, более сильные и, тем самым, сделать нашу модель лучше.\n",
    "![](https://miro.medium.com/max/2598/1*RXdMb7Uk6mGqWqPguHULaQ.png)"
   ]
  },
  {
   "cell_type": "markdown",
   "metadata": {},
   "source": [
    "### Посмотрим распределение признака"
   ]
  },
  {
   "cell_type": "code",
   "execution_count": 1022,
   "metadata": {},
   "outputs": [
    {
     "data": {
      "text/plain": [
       "<matplotlib.axes._subplots.AxesSubplot at 0x206b0c90b80>"
      ]
     },
     "execution_count": 1022,
     "metadata": {},
     "output_type": "execute_result"
    },
    {
     "data": {
      "image/png": "[encoded data removed]",
      "text/plain": [
       "<Figure size 720x504 with 1 Axes>"
      ]
     },
     "metadata": {
      "needs_background": "light"
     },
     "output_type": "display_data"
    }
   ],
   "source": [
    "plt.rcParams['figure.figsize'] = (10,7)\n",
    "df_train['Ranking'].hist(bins=100)"
   ]
  },
  {
   "cell_type": "markdown",
   "metadata": {},
   "source": [
    "У нас много ресторанов, которые не дотягивают и до 2500 места в своем городе, а что там по городам?"
   ]
  },
  {
   "cell_type": "code",
   "execution_count": 1023,
   "metadata": {},
   "outputs": [
    {
     "data": {
      "text/plain": [
       "<matplotlib.axes._subplots.AxesSubplot at 0x206b2057070>"
      ]
     },
     "execution_count": 1023,
     "metadata": {},
     "output_type": "execute_result"
    },
    {
     "data": {
      "image/png": "[encoded data removed]",
      "text/plain": [
       "<Figure size 720x504 with 1 Axes>"
      ]
     },
     "metadata": {
      "needs_background": "light"
     },
     "output_type": "display_data"
    }
   ],
   "source": [
    "df_train['City'].value_counts(ascending=True).plot(kind='barh')"
   ]
  },
  {
   "cell_type": "markdown",
   "metadata": {},
   "source": [
    "А кто-то говорил, что французы любят поесть=) Посмотрим, как изменится распределение в большом городе:"
   ]
  },
  {
   "cell_type": "code",
   "execution_count": 1024,
   "metadata": {},
   "outputs": [
    {
     "data": {
      "text/plain": [
       "<matplotlib.axes._subplots.AxesSubplot at 0x206b4d82a00>"
      ]
     },
     "execution_count": 1024,
     "metadata": {},
     "output_type": "execute_result"
    },
    {
     "data": {
      "image/png": "[encoded data removed]",
      "text/plain": [
       "<Figure size 720x504 with 1 Axes>"
      ]
     },
     "metadata": {
      "needs_background": "light"
     },
     "output_type": "display_data"
    }
   ],
   "source": [
    "df_train['Ranking'][df_train['City'] =='London'].hist(bins=100)"
   ]
  },
  {
   "cell_type": "code",
   "execution_count": 1025,
   "metadata": {},
   "outputs": [
    {
     "data": {
      "image/png": "[encoded data removed]",
      "text/plain": [
       "<Figure size 720x504 with 1 Axes>"
      ]
     },
     "metadata": {
      "needs_background": "light"
     },
     "output_type": "display_data"
    }
   ],
   "source": [
    "# посмотрим на топ 10 городов\n",
    "for x in (df_train['City'].value_counts())[0:10].index:\n",
    "    df_train['Ranking'][df_train['City'] == x].hist(bins=100)\n",
    "plt.show()"
   ]
  },
  {
   "cell_type": "markdown",
   "metadata": {},
   "source": [
    "Получается, что Ranking имеет нормальное распределение, просто в больших городах больше ресторанов, из-за мы этого имеем смещение.\n",
    "\n",
    ">Подумайте как из этого можно сделать признак для вашей модели. Я покажу вам пример, как визуализация помогает находить взаимосвязи. А далее действуйте без подсказок =) \n"
   ]
  },
  {
   "cell_type": "code",
   "execution_count": 952,
   "metadata": {},
   "outputs": [],
   "source": [
    "# Введем дополнительные переменные:"
   ]
  },
  {
   "cell_type": "code",
   "execution_count": 1026,
   "metadata": {},
   "outputs": [],
   "source": [
    "# 1. Ranking в отношении к общему числу ресторанов в городе - для решения проблемы с Ranking, описанной выше\n",
    "# словарь с данными об общем количестве ресторанов с tripadviser\n",
    "total_count = {'London': 19978, 'Paris': 17121, 'Madrid': 11298, 'Barcelona': 9497, 'Berlin': 6494, 'Milan': 7422, 'Rome': 10916, 'Prague': 5391, 'Lisbon': 4885, 'Vienna': 4120, 'Amsterdam': 3979, 'Brussels': 3610, 'Hamburg': 3290, 'Munich': 3150, 'Lyon': 2783,\n",
    "               'Stockholm': 2998, 'Budapest': 3055, 'Warsaw': 3227, 'Dublin': 2341, 'Copenhagen': 2329, 'Athens': 2543, 'Edinburgh': 1889, 'Zurich': 1859, 'Oporto': 1986, 'Geneva': 1684, 'Krakow': 1749, 'Oslo': 1273, 'Helsinki': 1491, 'Bratislava': 1262, 'Luxembourg': 736, 'Ljubljana': 599}\n",
    "# создаем относительную переменную\n",
    "\n",
    "\n",
    "def fillnew_rank(row):\n",
    "    if row['City_'] in total_count.keys():\n",
    "        return row['Ranking']/total_count.get(row['City_'])\n",
    "    else:\n",
    "        return None\n",
    "\n",
    "\n",
    "data['Ranking_per_total_restcnt'] = data.apply(\n",
    "    lambda row: fillnew_rank(row), axis=1)"
   ]
  },
  {
   "cell_type": "code",
   "execution_count": 1027,
   "metadata": {},
   "outputs": [
    {
     "data": {
      "text/plain": [
       "<matplotlib.axes._subplots.AxesSubplot at 0x206b36a0d00>"
      ]
     },
     "execution_count": 1027,
     "metadata": {},
     "output_type": "execute_result"
    },
    {
     "data": {
      "image/png": "[encoded data removed]",
      "text/plain": [
       "<Figure size 720x504 with 1 Axes>"
      ]
     },
     "metadata": {
      "needs_background": "light"
     },
     "output_type": "display_data"
    }
   ],
   "source": [
    "# посмотрим на распределение нового признака:\n",
    "plt.rcParams['figure.figsize'] = (10, 7)\n",
    "data['Ranking_per_total_restcnt'].hist(bins=100)\n",
    "# мы видим,что новые данные распредены более нормально нежели старый признак."
   ]
  },
  {
   "cell_type": "code",
   "execution_count": 1028,
   "metadata": {},
   "outputs": [],
   "source": [
    "# 2. Численность наседения в городах City_population\n",
    "# создадим словарь с данными о численности населения\n",
    "pop = {'London': 8908081, 'Paris': 2148327, 'Madrid': 3266126, 'Barcelona': 1664182, 'Berlin': 3644826, 'Milan': 1378689, 'Rome': 2870500, 'Prague': 1301132, 'Lisbon': 505526, 'Vienna': 1897491, 'Amsterdam': 872757, 'Brussels': 179277, 'Hamburg': 1841179, 'Munich': 1471508, 'Lyon': 506615, 'Stockholm': 961609,\n",
    "       'Budapest': 1752286, 'Warsaw': 1790658, 'Dublin': 1173179, 'Copenhagen': 615993, 'Athens': 664046, 'Edinburgh': 488100, 'Zurich': 428737, 'Oporto': 237591, 'Geneva': 200548, 'Krakow': 779115, 'Oslo': 673469, 'Helsinki': 655281, 'Bratislava': 437725, 'Luxembourg': 115227, 'Ljubljana': 284355}\n",
    "# добавим столбец по численности населения в городах\n",
    "data['City_population'] = data['City_'].apply(lambda x: pop.get(x))"
   ]
  },
  {
   "cell_type": "code",
   "execution_count": 1029,
   "metadata": {},
   "outputs": [],
   "source": [
    "# 3.Количество (разнообразие) кухонь в ресторане Cuisine_cnt на основе данных 'Cuisine Style'\n",
    "data['Cuisine_cnt'] = data['Cuisine Style'].apply(\n",
    "    lambda x: None if x is None else int(len(x)))"
   ]
  },
  {
   "cell_type": "code",
   "execution_count": 1030,
   "metadata": {},
   "outputs": [],
   "source": [
    "# 4. Количество ревью по ресторану на общую численность населения в городе\n",
    "# проанализируем распределение 'Number of Reviews' относительно городов:\n",
    "data['Revies_per_population'] = data['Number of Reviews']/data['City_population']"
   ]
  },
  {
   "cell_type": "code",
   "execution_count": 1031,
   "metadata": {},
   "outputs": [],
   "source": [
    "# 5. Количество дней со дня последнего ревью Days_from_las_revie\n",
    "def maxdate(lst):\n",
    "    l = []\n",
    "    now = datetime.now()\n",
    "    if len(lst) != 0:\n",
    "        for i in lst:\n",
    "            l.append(datetime.strptime(i, '%m/%d/%Y'))\n",
    "        return (now-max(l)).days\n",
    "    else:\n",
    "        return -1\n",
    "\n",
    "\n",
    "data['Days_from_las_revie'] = data['Reviews_dates'].apply(lambda x: maxdate(x))"
   ]
  },
  {
   "cell_type": "code",
   "execution_count": 1032,
   "metadata": {},
   "outputs": [
    {
     "data": {
      "text/plain": [
       "<matplotlib.axes._subplots.AxesSubplot at 0x206bb656bb0>"
      ]
     },
     "execution_count": 1032,
     "metadata": {},
     "output_type": "execute_result"
    },
    {
     "data": {
      "image/png": "[encoded data removed]",
      "text/plain": [
       "<Figure size 720x504 with 1 Axes>"
      ]
     },
     "metadata": {
      "needs_background": "light"
     },
     "output_type": "display_data"
    }
   ],
   "source": [
    "data['Days_from_las_revie'].hist()"
   ]
  },
  {
   "cell_type": "code",
   "execution_count": 1033,
   "metadata": {},
   "outputs": [],
   "source": [
    "# 6. Количество дней между двумя последними ревью\n",
    "def difdate(lst):\n",
    "    if len(lst) == 2:\n",
    "        d = (datetime.strptime(lst[0], '%m/%d/%Y') -\n",
    "             datetime.strptime(lst[1], '%m/%d/%Y')).days\n",
    "        return d\n",
    "    else:\n",
    "        return -1\n",
    "\n",
    "\n",
    "data['Dif_date_revie'] = data['Reviews_dates'].apply(lambda x: difdate(x))"
   ]
  },
  {
   "cell_type": "code",
   "execution_count": 1034,
   "metadata": {},
   "outputs": [
    {
     "data": {
      "text/plain": [
       "-1       13809\n",
       " 1         814\n",
       " 0         631\n",
       " 2         618\n",
       " 3         594\n",
       "         ...  \n",
       " 948         1\n",
       " 884         1\n",
       " 692         1\n",
       " 2374        1\n",
       " 1727        1\n",
       "Name: Dif_date_revie, Length: 1650, dtype: int64"
      ]
     },
     "execution_count": 1034,
     "metadata": {},
     "output_type": "execute_result"
    }
   ],
   "source": [
    "data['Dif_date_revie'].value_counts()"
   ]
  },
  {
   "cell_type": "markdown",
   "metadata": {},
   "source": [
    "### Посмотрим распределение целевой переменной"
   ]
  },
  {
   "cell_type": "code",
   "execution_count": 1035,
   "metadata": {},
   "outputs": [
    {
     "data": {
      "text/plain": [
       "<matplotlib.axes._subplots.AxesSubplot at 0x206bb0d1a60>"
      ]
     },
     "execution_count": 1035,
     "metadata": {},
     "output_type": "execute_result"
    },
    {
     "data": {
      "image/png": "[encoded data removed]",
      "text/plain": [
       "<Figure size 720x504 with 1 Axes>"
      ]
     },
     "metadata": {
      "needs_background": "light"
     },
     "output_type": "display_data"
    }
   ],
   "source": [
    "df_train['Rating'].value_counts(ascending=True).plot(kind='barh')"
   ]
  },
  {
   "cell_type": "markdown",
   "metadata": {},
   "source": [
    "### Посмотрим распределение целевой переменной относительно признака"
   ]
  },
  {
   "cell_type": "code",
   "execution_count": 1036,
   "metadata": {},
   "outputs": [
    {
     "data": {
      "text/plain": [
       "<matplotlib.axes._subplots.AxesSubplot at 0x206bb12cb20>"
      ]
     },
     "execution_count": 1036,
     "metadata": {},
     "output_type": "execute_result"
    },
    {
     "data": {
      "image/png": "[encoded data removed]",
      "text/plain": [
       "<Figure size 720x504 with 1 Axes>"
      ]
     },
     "metadata": {
      "needs_background": "light"
     },
     "output_type": "display_data"
    }
   ],
   "source": [
    "df_train['Ranking'][df_train['Rating'] == 5].hist(bins=100)"
   ]
  },
  {
   "cell_type": "code",
   "execution_count": 1037,
   "metadata": {},
   "outputs": [
    {
     "data": {
      "text/plain": [
       "<matplotlib.axes._subplots.AxesSubplot at 0x206bb5cce20>"
      ]
     },
     "execution_count": 1037,
     "metadata": {},
     "output_type": "execute_result"
    },
    {
     "data": {
      "image/png": "[encoded data removed]",
      "text/plain": [
       "<Figure size 720x504 with 1 Axes>"
      ]
     },
     "metadata": {
      "needs_background": "light"
     },
     "output_type": "display_data"
    }
   ],
   "source": [
    "df_train['Ranking'][df_train['Rating'] < 4].hist(bins=100)"
   ]
  },
  {
   "cell_type": "markdown",
   "metadata": {},
   "source": [
    "### И один из моих любимых - [корреляция признаков](https://ru.wikipedia.org/wiki/Корреляция)\n",
    "На этом графике уже сейчас вы сможете заметить, как признаки связаны между собой и с целевой переменной."
   ]
  },
  {
   "cell_type": "code",
   "execution_count": 796,
   "metadata": {},
   "outputs": [
    {
     "data": {
      "text/plain": [
       "<matplotlib.axes._subplots.AxesSubplot at 0x206a101d640>"
      ]
     },
     "execution_count": 796,
     "metadata": {},
     "output_type": "execute_result"
    },
    {
     "data": {
      "image/png": "[encoded data removed]",
      "text/plain": [
       "<Figure size 1080x720 with 2 Axes>"
      ]
     },
     "metadata": {
      "needs_background": "light"
     },
     "output_type": "display_data"
    }
   ],
   "source": [
    "plt.rcParams['figure.figsize'] = (15,10)\n",
    "sns.heatmap(data.drop(['sample'], axis=1).corr(),)"
   ]
  },
  {
   "cell_type": "markdown",
   "metadata": {},
   "source": [
    "Вообще благодаря визуализации в этом датасете можно узнать много интересных фактов, например:\n",
    "* где больше Пицерий в Мадриде или Лондоне?\n",
    "* в каком городе кухня ресторанов более разнообразна?\n",
    "\n",
    "придумайте свои вопрос и найдите на него ответ в данных)"
   ]
  },
  {
   "cell_type": "markdown",
   "metadata": {},
   "source": [
    "# Data Preprocessing\n",
    "Теперь, для удобства и воспроизводимости кода, завернем всю обработку в одну большую функцию."
   ]
  },
  {
   "cell_type": "code",
   "execution_count": 1038,
   "metadata": {},
   "outputs": [
    {
     "name": "stdout",
     "output_type": "stream",
     "text": [
      "<class 'pandas.core.frame.DataFrame'>\n",
      "RangeIndex: 50000 entries, 0 to 49999\n",
      "Data columns (total 11 columns):\n",
      " #   Column             Non-Null Count  Dtype  \n",
      "---  ------             --------------  -----  \n",
      " 0   Restaurant_id      50000 non-null  object \n",
      " 1   City               50000 non-null  object \n",
      " 2   Cuisine Style      38410 non-null  object \n",
      " 3   Ranking            50000 non-null  float64\n",
      " 4   Price Range        32639 non-null  object \n",
      " 5   Number of Reviews  46800 non-null  float64\n",
      " 6   Reviews            49998 non-null  object \n",
      " 7   URL_TA             50000 non-null  object \n",
      " 8   ID_TA              50000 non-null  object \n",
      " 9   sample             50000 non-null  int64  \n",
      " 10  Rating             50000 non-null  float64\n",
      "dtypes: float64(3), int64(1), object(7)\n",
      "memory usage: 4.2+ MB\n"
     ]
    }
   ],
   "source": [
    "# на всякий случай, заново подгружаем данные\n",
    "df_train = pd.read_csv('main_task.csv')\n",
    "df_test = pd.read_csv('kaggle_task.csv')\n",
    "df_train['sample'] = 1  # помечаем где у нас трейн\n",
    "df_test['sample'] = 0  # помечаем где у нас тест\n",
    "# в тесте у нас нет значения Rating, мы его должны предсказать, по этому пока просто заполняем нулями\n",
    "df_test['Rating'] = 0\n",
    "\n",
    "data = df_test.append(df_train, sort=False).reset_index(\n",
    "    drop=True)  # объединяем\n",
    "data.info()"
   ]
  },
  {
   "cell_type": "code",
   "execution_count": 1039,
   "metadata": {},
   "outputs": [],
   "source": [
    "def preproc_data(df_input):\n",
    "    '''includes several functions to pre-process the predictor data.'''\n",
    "\n",
    "    df_output = df_input.copy()\n",
    "\n",
    "    # ################### 1. Предобработка ##############################################################\n",
    "    # убираем не нужные для модели признаки\n",
    "    df_output.drop(['Restaurant_id', 'URL_TA'], axis=1, inplace=True)\n",
    "\n",
    "    # ################### 2. NAN ##############################################################\n",
    "    # Далее заполняем пропуски, вы можете попробовать заполнением средним или средним по городу и тд...\n",
    "\n",
    "    # 0. формируем переменные для хранения ин-ции о пропусках\n",
    "    df_output['Price Range_isNAN'] = pd.isna(\n",
    "        df_output['Price Range']).astype('uint8')\n",
    "    df_output['Number_of_Reviews_isNAN'] = pd.isna(\n",
    "        df_output['Number of Reviews']).astype('uint8')\n",
    "\n",
    "    # 1. Reviews\n",
    "    df_output['Reviews'].fillna('[[], []]', inplace=True)\n",
    "    df_output['Reviews_dates'] = df_output['Reviews'].apply(\n",
    "        lambda x: re.findall(\"\\d{2}/\\d{2}/\\d{4}\", x))\n",
    "\n",
    "    # 2. Cuisine Style\n",
    "    df_output['Cuisine Style'].fillna('NaN', inplace=True)\n",
    "\n",
    "    # 3. Price Range\n",
    "    df_output['Price Range'].fillna('$$ - $$$', inplace=True)\n",
    "\n",
    "    # 4. Number of Reviews\n",
    "    def fillna_rwsnum(row):\n",
    "        if pd.isna(row['Number of Reviews']):\n",
    "            return len(row['Reviews_dates'])\n",
    "        else:\n",
    "            return row['Number of Reviews']\n",
    "    df_output['Number of Reviews'] = df_output.apply(\n",
    "        lambda row: fillna_rwsnum(row), axis=1)\n",
    "\n",
    "    # ################### 3. Encoding ##############################################################\n",
    "    # для One-Hot Encoding в pandas есть готовая функция - get_dummies. Особенно радует параметр dummy_na\n",
    "    # 2. City\n",
    "    df_output['City_'] = df_output['City']\n",
    "    df_output = pd.get_dummies(df_output, columns=['City', ], dummy_na=True)\n",
    "    # 3. Cuisine Style\n",
    "    df_output['Cuisine Style'] = df_output['Cuisine Style'].apply(\n",
    "        lambda x: None if pd.isnull(x) else re.sub('\\s\\'|\\'|\\[|\\]', '', x).split(','))\n",
    "    cus = collections.Counter()\n",
    "    for i in df_output['Cuisine Style']:\n",
    "        if i is not None and len(i) != 0:\n",
    "            for j in i:\n",
    "                cus[j] += 1\n",
    "    # сформируем dummy-переменные на основе значений и сформированного ранее списка Cuisine Style\n",
    "    for i in cus.keys():\n",
    "        df_output['Cuisine_' +\n",
    "                  i] = df_output['Cuisine Style'].apply(lambda x: 1 if i in x else 0)\n",
    "\n",
    "    # 4. Price Range\n",
    "    # заменим значения в переменной Price Range на числовые: 1, 2, 3 в соответствии с уровнем цен:\n",
    "    df_output['Price Range'] = df_output['Price Range'].apply(\n",
    "        lambda x: 1 if x == '$' else 2 if x == '$$ - $$$' else 3)\n",
    "\n",
    "    # 5. ID_TA\n",
    "    # трансформируем в числовую переменную - ухудшает модель,пока убрали\n",
    "    df_output['ID_TA'] = df_output['ID_TA'].apply(lambda x: int(x[1:]))\n",
    "\n",
    "    # ################### 4. Feature Engineering ####################################################\n",
    "    # 1. Ranking в отношении к общему числу ресторанов в городе - для решения проблемы с Ranking\n",
    "    # словарь с данными об общем количестве ресторанов с tripadviser\n",
    "    total_count = {'London': 19978, 'Paris': 17121, 'Madrid': 11298, 'Barcelona': 9497, 'Berlin': 6494, 'Milan': 7422, 'Rome': 10916, 'Prague': 5391, 'Lisbon': 4885, 'Vienna': 4120, 'Amsterdam': 3979, 'Brussels': 3610, 'Hamburg': 3290, 'Munich': 3150, 'Lyon': 2783,\n",
    "                   'Stockholm': 2998, 'Budapest': 3055, 'Warsaw': 3227, 'Dublin': 2341, 'Copenhagen': 2329, 'Athens': 2543, 'Edinburgh': 1889, 'Zurich': 1859, 'Oporto': 1986, 'Geneva': 1684, 'Krakow': 1749, 'Oslo': 1273, 'Helsinki': 1491, 'Bratislava': 1262, 'Luxembourg': 736, 'Ljubljana': 599}\n",
    "    # создаем относительную переменную\n",
    "\n",
    "    def fillnew_rank(row):\n",
    "        if row['City_'] in total_count.keys():\n",
    "            return row['Ranking']/total_count.get(row['City_'])\n",
    "        else:\n",
    "            return None\n",
    "    df_output['Ranking_per_total_restcnt'] = df_output.apply(\n",
    "        lambda row: fillnew_rank(row), axis=1)\n",
    "\n",
    "    # 2. Численность наседения в городах City_population\n",
    "    # создадим словарь с данными о численности населения\n",
    "    pop = {'London': 8908081, 'Paris': 2148327, 'Madrid': 3266126, 'Barcelona': 1664182, 'Berlin': 3644826, 'Milan': 1378689, 'Rome': 2870500, 'Prague': 1301132, 'Lisbon': 505526, 'Vienna': 1897491, 'Amsterdam': 872757, 'Brussels': 179277, 'Hamburg': 1841179, 'Munich': 1471508, 'Lyon': 506615, 'Stockholm': 961609,\n",
    "           'Budapest': 1752286, 'Warsaw': 1790658, 'Dublin': 1173179, 'Copenhagen': 615993, 'Athens': 664046, 'Edinburgh': 488100, 'Zurich': 428737, 'Oporto': 237591, 'Geneva': 200548, 'Krakow': 779115, 'Oslo': 673469, 'Helsinki': 655281, 'Bratislava': 437725, 'Luxembourg': 115227, 'Ljubljana': 284355}\n",
    "    # добавим столбец по численности населения в городах\n",
    "    df_output['City_population'] = df_output['City_'].apply(\n",
    "        lambda x: pop.get(x))\n",
    "\n",
    "    # 3.Количество (разнообразие) кухонь в ресторане Cuisine_cnt на основе данных 'Cuisine Style' - ухудшает модел\n",
    "    df_output['Cuisine_cnt'] = df_output['Cuisine Style'].apply(\n",
    "        lambda x: None if x is None else int(len(x)))\n",
    "\n",
    "    # 4. Количество ревью по ресторану на общую численность населения в городе - ухудшает модель\n",
    "    df_output['Revies_per_population'] = df_output['Number of Reviews'] / \\\n",
    "        df_output['City_population']\n",
    "\n",
    "    # 5. Количество дней со дня последнего ревью Days_from_las_revie\n",
    "    def maxdate(lst):\n",
    "        l = []\n",
    "        now = datetime.now()\n",
    "        if len(lst) != 0:\n",
    "            for i in lst:\n",
    "                l.append(datetime.strptime(i, '%m/%d/%Y'))\n",
    "                return (now-max(l)).days\n",
    "        else:\n",
    "            return -1\n",
    "    df_output['Days_from_las_revie'] = df_output['Reviews_dates'].apply(\n",
    "        lambda x: maxdate(x))\n",
    "\n",
    "    # 6. Количество дней между двумя последними ревью\n",
    "    def difdate(lst):\n",
    "        if len(lst) == 2:\n",
    "            d = (datetime.strptime(lst[0], '%m/%d/%Y') -\n",
    "                 datetime.strptime(lst[1], '%m/%d/%Y')).days\n",
    "            return d\n",
    "        else:\n",
    "            return -1\n",
    "    df_output['Dif_date_revie'] = df_output['Reviews_dates'].apply(\n",
    "        lambda x: difdate(x))\n",
    "\n",
    "    # ################### 5. Clean ####################################################\n",
    "    # убираем признаки которые еще не успели обработать,\n",
    "    # модель на признаках с dtypes \"object\" обучаться не будет, просто выберим их и удалим\n",
    "    object_columns = [\n",
    "        s for s in df_output.columns if df_output[s].dtypes == 'object']\n",
    "    df_output.drop(object_columns, axis=1, inplace=True)\n",
    "\n",
    "    return df_output"
   ]
  },
  {
   "cell_type": "markdown",
   "metadata": {},
   "source": [
    ">По хорошему, можно было бы перевести эту большую функцию в класс и разбить на подфункции (согласно ООП). "
   ]
  },
  {
   "cell_type": "code",
   "execution_count": 1040,
   "metadata": {},
   "outputs": [
    {
     "name": "stdout",
     "output_type": "stream",
     "text": [
      "<class 'pandas.core.frame.DataFrame'>\n",
      "RangeIndex: 50000 entries, 0 to 49999\n",
      "Data columns (total 11 columns):\n",
      " #   Column             Non-Null Count  Dtype  \n",
      "---  ------             --------------  -----  \n",
      " 0   Restaurant_id      50000 non-null  object \n",
      " 1   City               50000 non-null  object \n",
      " 2   Cuisine Style      38410 non-null  object \n",
      " 3   Ranking            50000 non-null  float64\n",
      " 4   Price Range        32639 non-null  object \n",
      " 5   Number of Reviews  46800 non-null  float64\n",
      " 6   Reviews            49998 non-null  object \n",
      " 7   URL_TA             50000 non-null  object \n",
      " 8   ID_TA              50000 non-null  object \n",
      " 9   sample             50000 non-null  int64  \n",
      " 10  Rating             50000 non-null  float64\n",
      "dtypes: float64(3), int64(1), object(7)\n",
      "memory usage: 4.2+ MB\n"
     ]
    }
   ],
   "source": [
    "data.info()"
   ]
  },
  {
   "cell_type": "markdown",
   "metadata": {},
   "source": [
    "#### Запускаем и проверяем что получилось"
   ]
  },
  {
   "cell_type": "code",
   "execution_count": 1041,
   "metadata": {},
   "outputs": [
    {
     "data": {
      "text/html": [
       "<div>\n",
       "<style scoped>\n",
       "    .dataframe tbody tr th:only-of-type {\n",
       "        vertical-align: middle;\n",
       "    }\n",
       "\n",
       "    .dataframe tbody tr th {\n",
       "        vertical-align: top;\n",
       "    }\n",
       "\n",
       "    .dataframe thead th {\n",
       "        text-align: right;\n",
       "    }\n",
       "</style>\n",
       "<table border=\"1\" class=\"dataframe\">\n",
       "  <thead>\n",
       "    <tr style=\"text-align: right;\">\n",
       "      <th></th>\n",
       "      <th>Ranking</th>\n",
       "      <th>Price Range</th>\n",
       "      <th>Number of Reviews</th>\n",
       "      <th>ID_TA</th>\n",
       "      <th>sample</th>\n",
       "      <th>Rating</th>\n",
       "      <th>Price Range_isNAN</th>\n",
       "      <th>Number_of_Reviews_isNAN</th>\n",
       "      <th>City_Amsterdam</th>\n",
       "      <th>City_Athens</th>\n",
       "      <th>...</th>\n",
       "      <th>Cuisine_Xinjiang</th>\n",
       "      <th>Cuisine_Burmese</th>\n",
       "      <th>Cuisine_Fujian</th>\n",
       "      <th>Cuisine_Latvian</th>\n",
       "      <th>Ranking_per_total_restcnt</th>\n",
       "      <th>City_population</th>\n",
       "      <th>Cuisine_cnt</th>\n",
       "      <th>Revies_per_population</th>\n",
       "      <th>Days_from_las_revie</th>\n",
       "      <th>Dif_date_revie</th>\n",
       "    </tr>\n",
       "  </thead>\n",
       "  <tbody>\n",
       "    <tr>\n",
       "      <th>5389</th>\n",
       "      <td>2613.0</td>\n",
       "      <td>2</td>\n",
       "      <td>21.0</td>\n",
       "      <td>8277103</td>\n",
       "      <td>0</td>\n",
       "      <td>0.0</td>\n",
       "      <td>1</td>\n",
       "      <td>0</td>\n",
       "      <td>0</td>\n",
       "      <td>0</td>\n",
       "      <td>...</td>\n",
       "      <td>0</td>\n",
       "      <td>0</td>\n",
       "      <td>0</td>\n",
       "      <td>0</td>\n",
       "      <td>0.352061</td>\n",
       "      <td>1378689</td>\n",
       "      <td>1</td>\n",
       "      <td>0.000015</td>\n",
       "      <td>-1</td>\n",
       "      <td>-1</td>\n",
       "    </tr>\n",
       "    <tr>\n",
       "      <th>41326</th>\n",
       "      <td>1286.0</td>\n",
       "      <td>2</td>\n",
       "      <td>12.0</td>\n",
       "      <td>5822505</td>\n",
       "      <td>1</td>\n",
       "      <td>4.5</td>\n",
       "      <td>1</td>\n",
       "      <td>0</td>\n",
       "      <td>0</td>\n",
       "      <td>0</td>\n",
       "      <td>...</td>\n",
       "      <td>0</td>\n",
       "      <td>0</td>\n",
       "      <td>0</td>\n",
       "      <td>0</td>\n",
       "      <td>0.408254</td>\n",
       "      <td>1471508</td>\n",
       "      <td>1</td>\n",
       "      <td>0.000008</td>\n",
       "      <td>1184</td>\n",
       "      <td>94</td>\n",
       "    </tr>\n",
       "    <tr>\n",
       "      <th>48842</th>\n",
       "      <td>3187.0</td>\n",
       "      <td>2</td>\n",
       "      <td>4.0</td>\n",
       "      <td>13190687</td>\n",
       "      <td>1</td>\n",
       "      <td>5.0</td>\n",
       "      <td>0</td>\n",
       "      <td>0</td>\n",
       "      <td>0</td>\n",
       "      <td>0</td>\n",
       "      <td>...</td>\n",
       "      <td>0</td>\n",
       "      <td>0</td>\n",
       "      <td>0</td>\n",
       "      <td>0</td>\n",
       "      <td>0.335580</td>\n",
       "      <td>1664182</td>\n",
       "      <td>4</td>\n",
       "      <td>0.000002</td>\n",
       "      <td>1128</td>\n",
       "      <td>13</td>\n",
       "    </tr>\n",
       "    <tr>\n",
       "      <th>49551</th>\n",
       "      <td>10451.0</td>\n",
       "      <td>2</td>\n",
       "      <td>14.0</td>\n",
       "      <td>12954608</td>\n",
       "      <td>1</td>\n",
       "      <td>3.5</td>\n",
       "      <td>0</td>\n",
       "      <td>0</td>\n",
       "      <td>0</td>\n",
       "      <td>0</td>\n",
       "      <td>...</td>\n",
       "      <td>0</td>\n",
       "      <td>0</td>\n",
       "      <td>0</td>\n",
       "      <td>0</td>\n",
       "      <td>0.523125</td>\n",
       "      <td>8908081</td>\n",
       "      <td>2</td>\n",
       "      <td>0.000002</td>\n",
       "      <td>1111</td>\n",
       "      <td>24</td>\n",
       "    </tr>\n",
       "    <tr>\n",
       "      <th>40693</th>\n",
       "      <td>266.0</td>\n",
       "      <td>1</td>\n",
       "      <td>449.0</td>\n",
       "      <td>4565320</td>\n",
       "      <td>1</td>\n",
       "      <td>4.5</td>\n",
       "      <td>0</td>\n",
       "      <td>0</td>\n",
       "      <td>0</td>\n",
       "      <td>0</td>\n",
       "      <td>...</td>\n",
       "      <td>0</td>\n",
       "      <td>0</td>\n",
       "      <td>0</td>\n",
       "      <td>0</td>\n",
       "      <td>0.013315</td>\n",
       "      <td>8908081</td>\n",
       "      <td>4</td>\n",
       "      <td>0.000050</td>\n",
       "      <td>1107</td>\n",
       "      <td>2</td>\n",
       "    </tr>\n",
       "    <tr>\n",
       "      <th>41604</th>\n",
       "      <td>867.0</td>\n",
       "      <td>2</td>\n",
       "      <td>319.0</td>\n",
       "      <td>3948247</td>\n",
       "      <td>1</td>\n",
       "      <td>4.5</td>\n",
       "      <td>0</td>\n",
       "      <td>0</td>\n",
       "      <td>0</td>\n",
       "      <td>0</td>\n",
       "      <td>...</td>\n",
       "      <td>0</td>\n",
       "      <td>0</td>\n",
       "      <td>0</td>\n",
       "      <td>0</td>\n",
       "      <td>0.050640</td>\n",
       "      <td>2148327</td>\n",
       "      <td>5</td>\n",
       "      <td>0.000148</td>\n",
       "      <td>1150</td>\n",
       "      <td>26</td>\n",
       "    </tr>\n",
       "    <tr>\n",
       "      <th>27942</th>\n",
       "      <td>152.0</td>\n",
       "      <td>2</td>\n",
       "      <td>17.0</td>\n",
       "      <td>8274292</td>\n",
       "      <td>1</td>\n",
       "      <td>4.5</td>\n",
       "      <td>0</td>\n",
       "      <td>0</td>\n",
       "      <td>0</td>\n",
       "      <td>0</td>\n",
       "      <td>...</td>\n",
       "      <td>0</td>\n",
       "      <td>0</td>\n",
       "      <td>0</td>\n",
       "      <td>0</td>\n",
       "      <td>0.120444</td>\n",
       "      <td>437725</td>\n",
       "      <td>4</td>\n",
       "      <td>0.000039</td>\n",
       "      <td>1369</td>\n",
       "      <td>-1</td>\n",
       "    </tr>\n",
       "    <tr>\n",
       "      <th>22637</th>\n",
       "      <td>2275.0</td>\n",
       "      <td>2</td>\n",
       "      <td>7.0</td>\n",
       "      <td>10622174</td>\n",
       "      <td>1</td>\n",
       "      <td>5.0</td>\n",
       "      <td>0</td>\n",
       "      <td>0</td>\n",
       "      <td>0</td>\n",
       "      <td>0</td>\n",
       "      <td>...</td>\n",
       "      <td>0</td>\n",
       "      <td>0</td>\n",
       "      <td>0</td>\n",
       "      <td>0</td>\n",
       "      <td>0.350323</td>\n",
       "      <td>3644826</td>\n",
       "      <td>5</td>\n",
       "      <td>0.000002</td>\n",
       "      <td>1205</td>\n",
       "      <td>-1</td>\n",
       "    </tr>\n",
       "    <tr>\n",
       "      <th>41179</th>\n",
       "      <td>323.0</td>\n",
       "      <td>2</td>\n",
       "      <td>102.0</td>\n",
       "      <td>2723610</td>\n",
       "      <td>1</td>\n",
       "      <td>4.5</td>\n",
       "      <td>0</td>\n",
       "      <td>0</td>\n",
       "      <td>0</td>\n",
       "      <td>0</td>\n",
       "      <td>...</td>\n",
       "      <td>0</td>\n",
       "      <td>0</td>\n",
       "      <td>0</td>\n",
       "      <td>0</td>\n",
       "      <td>0.116062</td>\n",
       "      <td>506615</td>\n",
       "      <td>4</td>\n",
       "      <td>0.000201</td>\n",
       "      <td>1748</td>\n",
       "      <td>323</td>\n",
       "    </tr>\n",
       "    <tr>\n",
       "      <th>19012</th>\n",
       "      <td>13097.0</td>\n",
       "      <td>2</td>\n",
       "      <td>82.0</td>\n",
       "      <td>10115118</td>\n",
       "      <td>1</td>\n",
       "      <td>3.0</td>\n",
       "      <td>0</td>\n",
       "      <td>0</td>\n",
       "      <td>0</td>\n",
       "      <td>0</td>\n",
       "      <td>...</td>\n",
       "      <td>0</td>\n",
       "      <td>0</td>\n",
       "      <td>0</td>\n",
       "      <td>0</td>\n",
       "      <td>0.764967</td>\n",
       "      <td>2148327</td>\n",
       "      <td>3</td>\n",
       "      <td>0.000038</td>\n",
       "      <td>1178</td>\n",
       "      <td>57</td>\n",
       "    </tr>\n",
       "  </tbody>\n",
       "</table>\n",
       "<p>10 rows × 172 columns</p>\n",
       "</div>"
      ],
      "text/plain": [
       "       Ranking  Price Range  Number of Reviews     ID_TA  sample  Rating  \\\n",
       "5389    2613.0            2               21.0   8277103       0     0.0   \n",
       "41326   1286.0            2               12.0   5822505       1     4.5   \n",
       "48842   3187.0            2                4.0  13190687       1     5.0   \n",
       "49551  10451.0            2               14.0  12954608       1     3.5   \n",
       "40693    266.0            1              449.0   4565320       1     4.5   \n",
       "41604    867.0            2              319.0   3948247       1     4.5   \n",
       "27942    152.0            2               17.0   8274292       1     4.5   \n",
       "22637   2275.0            2                7.0  10622174       1     5.0   \n",
       "41179    323.0            2              102.0   2723610       1     4.5   \n",
       "19012  13097.0            2               82.0  10115118       1     3.0   \n",
       "\n",
       "       Price Range_isNAN  Number_of_Reviews_isNAN  City_Amsterdam  \\\n",
       "5389                   1                        0               0   \n",
       "41326                  1                        0               0   \n",
       "48842                  0                        0               0   \n",
       "49551                  0                        0               0   \n",
       "40693                  0                        0               0   \n",
       "41604                  0                        0               0   \n",
       "27942                  0                        0               0   \n",
       "22637                  0                        0               0   \n",
       "41179                  0                        0               0   \n",
       "19012                  0                        0               0   \n",
       "\n",
       "       City_Athens  ...  Cuisine_Xinjiang  Cuisine_Burmese  Cuisine_Fujian  \\\n",
       "5389             0  ...                 0                0               0   \n",
       "41326            0  ...                 0                0               0   \n",
       "48842            0  ...                 0                0               0   \n",
       "49551            0  ...                 0                0               0   \n",
       "40693            0  ...                 0                0               0   \n",
       "41604            0  ...                 0                0               0   \n",
       "27942            0  ...                 0                0               0   \n",
       "22637            0  ...                 0                0               0   \n",
       "41179            0  ...                 0                0               0   \n",
       "19012            0  ...                 0                0               0   \n",
       "\n",
       "       Cuisine_Latvian  Ranking_per_total_restcnt  City_population  \\\n",
       "5389                 0                   0.352061          1378689   \n",
       "41326                0                   0.408254          1471508   \n",
       "48842                0                   0.335580          1664182   \n",
       "49551                0                   0.523125          8908081   \n",
       "40693                0                   0.013315          8908081   \n",
       "41604                0                   0.050640          2148327   \n",
       "27942                0                   0.120444           437725   \n",
       "22637                0                   0.350323          3644826   \n",
       "41179                0                   0.116062           506615   \n",
       "19012                0                   0.764967          2148327   \n",
       "\n",
       "       Cuisine_cnt  Revies_per_population  Days_from_las_revie  Dif_date_revie  \n",
       "5389             1               0.000015                   -1              -1  \n",
       "41326            1               0.000008                 1184              94  \n",
       "48842            4               0.000002                 1128              13  \n",
       "49551            2               0.000002                 1111              24  \n",
       "40693            4               0.000050                 1107               2  \n",
       "41604            5               0.000148                 1150              26  \n",
       "27942            4               0.000039                 1369              -1  \n",
       "22637            5               0.000002                 1205              -1  \n",
       "41179            4               0.000201                 1748             323  \n",
       "19012            3               0.000038                 1178              57  \n",
       "\n",
       "[10 rows x 172 columns]"
      ]
     },
     "execution_count": 1041,
     "metadata": {},
     "output_type": "execute_result"
    }
   ],
   "source": [
    "df_preproc = preproc_data(data)\n",
    "df_preproc.sample(10)"
   ]
  },
  {
   "cell_type": "code",
   "execution_count": 1042,
   "metadata": {},
   "outputs": [
    {
     "name": "stdout",
     "output_type": "stream",
     "text": [
      "<class 'pandas.core.frame.DataFrame'>\n",
      "RangeIndex: 50000 entries, 0 to 49999\n",
      "Columns: 172 entries, Ranking to Dif_date_revie\n",
      "dtypes: float64(5), int64(133), uint8(34)\n",
      "memory usage: 54.3 MB\n"
     ]
    }
   ],
   "source": [
    "df_preproc.info()"
   ]
  },
  {
   "cell_type": "code",
   "execution_count": 1043,
   "metadata": {},
   "outputs": [],
   "source": [
    "# Теперь выделим тестовую часть\n",
    "train_data = df_preproc.query('sample == 1').drop(['sample'], axis=1)\n",
    "test_data = df_preproc.query('sample == 0').drop(['sample'], axis=1)\n",
    "\n",
    "y = train_data.Rating.values            # наш таргет\n",
    "X = train_data.drop(['Rating'], axis=1)"
   ]
  },
  {
   "cell_type": "markdown",
   "metadata": {},
   "source": [
    "**Перед тем как отправлять наши данные на обучение, разделим данные на еще один тест и трейн, для валидации. \n",
    "Это поможет нам проверить, как хорошо наша модель работает, до отправки submissiona на kaggle.**"
   ]
  },
  {
   "cell_type": "code",
   "execution_count": 1044,
   "metadata": {},
   "outputs": [],
   "source": [
    "# Воспользуемся специальной функцие train_test_split для разбивки тестовых данных\n",
    "# выделим 20% данных на валидацию (параметр test_size)\n",
    "X_train, X_test, y_train, y_test = train_test_split(X, y, test_size=0.2, random_state=RANDOM_SEED)"
   ]
  },
  {
   "cell_type": "code",
   "execution_count": 1045,
   "metadata": {},
   "outputs": [
    {
     "data": {
      "text/plain": [
       "((10000, 171), (40000, 171), (40000, 170), (32000, 170), (8000, 170))"
      ]
     },
     "execution_count": 1045,
     "metadata": {},
     "output_type": "execute_result"
    }
   ],
   "source": [
    "# проверяем\n",
    "test_data.shape, train_data.shape, X.shape, X_train.shape, X_test.shape"
   ]
  },
  {
   "cell_type": "markdown",
   "metadata": {},
   "source": [
    "# Model \n",
    "Сам ML"
   ]
  },
  {
   "cell_type": "code",
   "execution_count": 1046,
   "metadata": {},
   "outputs": [],
   "source": [
    "# Импортируем необходимые библиотеки:\n",
    "from sklearn.ensemble import RandomForestRegressor # инструмент для создания и обучения модели\n",
    "from sklearn import metrics # инструменты для оценки точности модели"
   ]
  },
  {
   "cell_type": "code",
   "execution_count": 1047,
   "metadata": {},
   "outputs": [],
   "source": [
    "# Создаём модель (НАСТРОЙКИ НЕ ТРОГАЕМ)\n",
    "model = RandomForestRegressor(n_estimators=100, verbose=1, n_jobs=-1, random_state=RANDOM_SEED)"
   ]
  },
  {
   "cell_type": "code",
   "execution_count": 1048,
   "metadata": {},
   "outputs": [
    {
     "name": "stderr",
     "output_type": "stream",
     "text": [
      "[Parallel(n_jobs=-1)]: Using backend ThreadingBackend with 4 concurrent workers.\n",
      "[Parallel(n_jobs=-1)]: Done  42 tasks      | elapsed:   11.9s\n",
      "[Parallel(n_jobs=-1)]: Done 100 out of 100 | elapsed:   27.0s finished\n",
      "[Parallel(n_jobs=4)]: Using backend ThreadingBackend with 4 concurrent workers.\n",
      "[Parallel(n_jobs=4)]: Done  42 tasks      | elapsed:    0.0s\n",
      "[Parallel(n_jobs=4)]: Done 100 out of 100 | elapsed:    0.0s finished\n"
     ]
    }
   ],
   "source": [
    "# Обучаем модель на тестовом наборе данных\n",
    "model.fit(X_train, y_train)\n",
    "\n",
    "# Используем обученную модель для предсказания рейтинга ресторанов в тестовой выборке.\n",
    "# Предсказанные значения записываем в переменную y_pred\n",
    "y_pred = model.predict(X_test)"
   ]
  },
  {
   "cell_type": "code",
   "execution_count": 1049,
   "metadata": {},
   "outputs": [
    {
     "name": "stdout",
     "output_type": "stream",
     "text": [
      "MAE: 0.19916999999999999\n"
     ]
    }
   ],
   "source": [
    "# Сравниваем предсказанные значения (y_pred) с реальными (y_test), и смотрим насколько они в среднем отличаются\n",
    "# Метрика называется Mean Absolute Error (MAE) и показывает среднее отклонение предсказанных значений от фактических.\n",
    "print('MAE:', metrics.mean_absolute_error(y_test, y_pred))"
   ]
  },
  {
   "cell_type": "code",
   "execution_count": 1050,
   "metadata": {},
   "outputs": [
    {
     "data": {
      "text/plain": [
       "<matplotlib.axes._subplots.AxesSubplot at 0x206b1e43df0>"
      ]
     },
     "execution_count": 1050,
     "metadata": {},
     "output_type": "execute_result"
    },
    {
     "data": {
      "image/png": "[encoded data removed]",
      "text/plain": [
       "<Figure size 720x720 with 1 Axes>"
      ]
     },
     "metadata": {
      "needs_background": "light"
     },
     "output_type": "display_data"
    }
   ],
   "source": [
    "# в RandomForestRegressor есть возможность вывести самые важные признаки для модели\n",
    "plt.rcParams['figure.figsize'] = (10,10)\n",
    "feat_importances = pd.Series(model.feature_importances_, index=X.columns)\n",
    "feat_importances.nlargest(15).plot(kind='barh')"
   ]
  },
  {
   "cell_type": "markdown",
   "metadata": {},
   "source": [
    "# Submission\n",
    "Если все устраевает - готовим Submission на кагл"
   ]
  },
  {
   "cell_type": "code",
   "execution_count": 1051,
   "metadata": {},
   "outputs": [
    {
     "data": {
      "text/html": [
       "<div>\n",
       "<style scoped>\n",
       "    .dataframe tbody tr th:only-of-type {\n",
       "        vertical-align: middle;\n",
       "    }\n",
       "\n",
       "    .dataframe tbody tr th {\n",
       "        vertical-align: top;\n",
       "    }\n",
       "\n",
       "    .dataframe thead th {\n",
       "        text-align: right;\n",
       "    }\n",
       "</style>\n",
       "<table border=\"1\" class=\"dataframe\">\n",
       "  <thead>\n",
       "    <tr style=\"text-align: right;\">\n",
       "      <th></th>\n",
       "      <th>Ranking</th>\n",
       "      <th>Price Range</th>\n",
       "      <th>Number of Reviews</th>\n",
       "      <th>ID_TA</th>\n",
       "      <th>Rating</th>\n",
       "      <th>Price Range_isNAN</th>\n",
       "      <th>Number_of_Reviews_isNAN</th>\n",
       "      <th>City_Amsterdam</th>\n",
       "      <th>City_Athens</th>\n",
       "      <th>City_Barcelona</th>\n",
       "      <th>...</th>\n",
       "      <th>Cuisine_Xinjiang</th>\n",
       "      <th>Cuisine_Burmese</th>\n",
       "      <th>Cuisine_Fujian</th>\n",
       "      <th>Cuisine_Latvian</th>\n",
       "      <th>Ranking_per_total_restcnt</th>\n",
       "      <th>City_population</th>\n",
       "      <th>Cuisine_cnt</th>\n",
       "      <th>Revies_per_population</th>\n",
       "      <th>Days_from_las_revie</th>\n",
       "      <th>Dif_date_revie</th>\n",
       "    </tr>\n",
       "  </thead>\n",
       "  <tbody>\n",
       "    <tr>\n",
       "      <th>87</th>\n",
       "      <td>7928.0</td>\n",
       "      <td>2</td>\n",
       "      <td>3.0</td>\n",
       "      <td>12921076</td>\n",
       "      <td>0.0</td>\n",
       "      <td>0</td>\n",
       "      <td>0</td>\n",
       "      <td>0</td>\n",
       "      <td>0</td>\n",
       "      <td>0</td>\n",
       "      <td>...</td>\n",
       "      <td>0</td>\n",
       "      <td>0</td>\n",
       "      <td>0</td>\n",
       "      <td>0</td>\n",
       "      <td>0.463057</td>\n",
       "      <td>2148327</td>\n",
       "      <td>2</td>\n",
       "      <td>0.000001</td>\n",
       "      <td>1165</td>\n",
       "      <td>-1</td>\n",
       "    </tr>\n",
       "    <tr>\n",
       "      <th>3691</th>\n",
       "      <td>1801.0</td>\n",
       "      <td>1</td>\n",
       "      <td>8.0</td>\n",
       "      <td>806662</td>\n",
       "      <td>0.0</td>\n",
       "      <td>0</td>\n",
       "      <td>0</td>\n",
       "      <td>0</td>\n",
       "      <td>0</td>\n",
       "      <td>0</td>\n",
       "      <td>...</td>\n",
       "      <td>0</td>\n",
       "      <td>0</td>\n",
       "      <td>0</td>\n",
       "      <td>0</td>\n",
       "      <td>0.334075</td>\n",
       "      <td>1301132</td>\n",
       "      <td>1</td>\n",
       "      <td>0.000006</td>\n",
       "      <td>1256</td>\n",
       "      <td>20</td>\n",
       "    </tr>\n",
       "    <tr>\n",
       "      <th>6842</th>\n",
       "      <td>1964.0</td>\n",
       "      <td>1</td>\n",
       "      <td>0.0</td>\n",
       "      <td>11956653</td>\n",
       "      <td>0.0</td>\n",
       "      <td>0</td>\n",
       "      <td>1</td>\n",
       "      <td>0</td>\n",
       "      <td>0</td>\n",
       "      <td>0</td>\n",
       "      <td>...</td>\n",
       "      <td>0</td>\n",
       "      <td>0</td>\n",
       "      <td>0</td>\n",
       "      <td>0</td>\n",
       "      <td>0.608615</td>\n",
       "      <td>1790658</td>\n",
       "      <td>1</td>\n",
       "      <td>0.000000</td>\n",
       "      <td>-1</td>\n",
       "      <td>-1</td>\n",
       "    </tr>\n",
       "    <tr>\n",
       "      <th>433</th>\n",
       "      <td>471.0</td>\n",
       "      <td>2</td>\n",
       "      <td>65.0</td>\n",
       "      <td>8736974</td>\n",
       "      <td>0.0</td>\n",
       "      <td>0</td>\n",
       "      <td>0</td>\n",
       "      <td>0</td>\n",
       "      <td>0</td>\n",
       "      <td>0</td>\n",
       "      <td>...</td>\n",
       "      <td>0</td>\n",
       "      <td>0</td>\n",
       "      <td>0</td>\n",
       "      <td>0</td>\n",
       "      <td>0.072528</td>\n",
       "      <td>3644826</td>\n",
       "      <td>3</td>\n",
       "      <td>0.000018</td>\n",
       "      <td>1113</td>\n",
       "      <td>1</td>\n",
       "    </tr>\n",
       "    <tr>\n",
       "      <th>5504</th>\n",
       "      <td>1381.0</td>\n",
       "      <td>2</td>\n",
       "      <td>5.0</td>\n",
       "      <td>11955151</td>\n",
       "      <td>0.0</td>\n",
       "      <td>1</td>\n",
       "      <td>0</td>\n",
       "      <td>0</td>\n",
       "      <td>0</td>\n",
       "      <td>0</td>\n",
       "      <td>...</td>\n",
       "      <td>0</td>\n",
       "      <td>0</td>\n",
       "      <td>0</td>\n",
       "      <td>0</td>\n",
       "      <td>0.256168</td>\n",
       "      <td>1301132</td>\n",
       "      <td>1</td>\n",
       "      <td>0.000004</td>\n",
       "      <td>1171</td>\n",
       "      <td>69</td>\n",
       "    </tr>\n",
       "    <tr>\n",
       "      <th>5303</th>\n",
       "      <td>537.0</td>\n",
       "      <td>3</td>\n",
       "      <td>35.0</td>\n",
       "      <td>4296323</td>\n",
       "      <td>0.0</td>\n",
       "      <td>0</td>\n",
       "      <td>0</td>\n",
       "      <td>0</td>\n",
       "      <td>0</td>\n",
       "      <td>0</td>\n",
       "      <td>...</td>\n",
       "      <td>0</td>\n",
       "      <td>0</td>\n",
       "      <td>0</td>\n",
       "      <td>0</td>\n",
       "      <td>0.318884</td>\n",
       "      <td>200548</td>\n",
       "      <td>7</td>\n",
       "      <td>0.000175</td>\n",
       "      <td>1324</td>\n",
       "      <td>111</td>\n",
       "    </tr>\n",
       "    <tr>\n",
       "      <th>7603</th>\n",
       "      <td>1392.0</td>\n",
       "      <td>2</td>\n",
       "      <td>318.0</td>\n",
       "      <td>1125552</td>\n",
       "      <td>0.0</td>\n",
       "      <td>0</td>\n",
       "      <td>0</td>\n",
       "      <td>0</td>\n",
       "      <td>0</td>\n",
       "      <td>0</td>\n",
       "      <td>...</td>\n",
       "      <td>0</td>\n",
       "      <td>0</td>\n",
       "      <td>0</td>\n",
       "      <td>0</td>\n",
       "      <td>0.127519</td>\n",
       "      <td>2870500</td>\n",
       "      <td>4</td>\n",
       "      <td>0.000111</td>\n",
       "      <td>1266</td>\n",
       "      <td>64</td>\n",
       "    </tr>\n",
       "    <tr>\n",
       "      <th>7089</th>\n",
       "      <td>1172.0</td>\n",
       "      <td>2</td>\n",
       "      <td>2.0</td>\n",
       "      <td>11960922</td>\n",
       "      <td>0.0</td>\n",
       "      <td>1</td>\n",
       "      <td>0</td>\n",
       "      <td>0</td>\n",
       "      <td>0</td>\n",
       "      <td>0</td>\n",
       "      <td>...</td>\n",
       "      <td>0</td>\n",
       "      <td>0</td>\n",
       "      <td>0</td>\n",
       "      <td>0</td>\n",
       "      <td>0.670097</td>\n",
       "      <td>779115</td>\n",
       "      <td>1</td>\n",
       "      <td>0.000003</td>\n",
       "      <td>-1</td>\n",
       "      <td>-1</td>\n",
       "    </tr>\n",
       "    <tr>\n",
       "      <th>1227</th>\n",
       "      <td>1718.0</td>\n",
       "      <td>2</td>\n",
       "      <td>8.0</td>\n",
       "      <td>4149186</td>\n",
       "      <td>0.0</td>\n",
       "      <td>1</td>\n",
       "      <td>0</td>\n",
       "      <td>0</td>\n",
       "      <td>0</td>\n",
       "      <td>0</td>\n",
       "      <td>...</td>\n",
       "      <td>0</td>\n",
       "      <td>0</td>\n",
       "      <td>0</td>\n",
       "      <td>0</td>\n",
       "      <td>0.416990</td>\n",
       "      <td>1897491</td>\n",
       "      <td>1</td>\n",
       "      <td>0.000004</td>\n",
       "      <td>1666</td>\n",
       "      <td>619</td>\n",
       "    </tr>\n",
       "    <tr>\n",
       "      <th>2313</th>\n",
       "      <td>7247.0</td>\n",
       "      <td>2</td>\n",
       "      <td>19.0</td>\n",
       "      <td>1156130</td>\n",
       "      <td>0.0</td>\n",
       "      <td>0</td>\n",
       "      <td>0</td>\n",
       "      <td>0</td>\n",
       "      <td>0</td>\n",
       "      <td>1</td>\n",
       "      <td>...</td>\n",
       "      <td>0</td>\n",
       "      <td>0</td>\n",
       "      <td>0</td>\n",
       "      <td>0</td>\n",
       "      <td>0.763083</td>\n",
       "      <td>1664182</td>\n",
       "      <td>1</td>\n",
       "      <td>0.000011</td>\n",
       "      <td>1270</td>\n",
       "      <td>348</td>\n",
       "    </tr>\n",
       "  </tbody>\n",
       "</table>\n",
       "<p>10 rows × 171 columns</p>\n",
       "</div>"
      ],
      "text/plain": [
       "      Ranking  Price Range  Number of Reviews     ID_TA  Rating  \\\n",
       "87     7928.0            2                3.0  12921076     0.0   \n",
       "3691   1801.0            1                8.0    806662     0.0   \n",
       "6842   1964.0            1                0.0  11956653     0.0   \n",
       "433     471.0            2               65.0   8736974     0.0   \n",
       "5504   1381.0            2                5.0  11955151     0.0   \n",
       "5303    537.0            3               35.0   4296323     0.0   \n",
       "7603   1392.0            2              318.0   1125552     0.0   \n",
       "7089   1172.0            2                2.0  11960922     0.0   \n",
       "1227   1718.0            2                8.0   4149186     0.0   \n",
       "2313   7247.0            2               19.0   1156130     0.0   \n",
       "\n",
       "      Price Range_isNAN  Number_of_Reviews_isNAN  City_Amsterdam  City_Athens  \\\n",
       "87                    0                        0               0            0   \n",
       "3691                  0                        0               0            0   \n",
       "6842                  0                        1               0            0   \n",
       "433                   0                        0               0            0   \n",
       "5504                  1                        0               0            0   \n",
       "5303                  0                        0               0            0   \n",
       "7603                  0                        0               0            0   \n",
       "7089                  1                        0               0            0   \n",
       "1227                  1                        0               0            0   \n",
       "2313                  0                        0               0            0   \n",
       "\n",
       "      City_Barcelona  ...  Cuisine_Xinjiang  Cuisine_Burmese  Cuisine_Fujian  \\\n",
       "87                 0  ...                 0                0               0   \n",
       "3691               0  ...                 0                0               0   \n",
       "6842               0  ...                 0                0               0   \n",
       "433                0  ...                 0                0               0   \n",
       "5504               0  ...                 0                0               0   \n",
       "5303               0  ...                 0                0               0   \n",
       "7603               0  ...                 0                0               0   \n",
       "7089               0  ...                 0                0               0   \n",
       "1227               0  ...                 0                0               0   \n",
       "2313               1  ...                 0                0               0   \n",
       "\n",
       "      Cuisine_Latvian  Ranking_per_total_restcnt  City_population  \\\n",
       "87                  0                   0.463057          2148327   \n",
       "3691                0                   0.334075          1301132   \n",
       "6842                0                   0.608615          1790658   \n",
       "433                 0                   0.072528          3644826   \n",
       "5504                0                   0.256168          1301132   \n",
       "5303                0                   0.318884           200548   \n",
       "7603                0                   0.127519          2870500   \n",
       "7089                0                   0.670097           779115   \n",
       "1227                0                   0.416990          1897491   \n",
       "2313                0                   0.763083          1664182   \n",
       "\n",
       "      Cuisine_cnt  Revies_per_population  Days_from_las_revie  Dif_date_revie  \n",
       "87              2               0.000001                 1165              -1  \n",
       "3691            1               0.000006                 1256              20  \n",
       "6842            1               0.000000                   -1              -1  \n",
       "433             3               0.000018                 1113               1  \n",
       "5504            1               0.000004                 1171              69  \n",
       "5303            7               0.000175                 1324             111  \n",
       "7603            4               0.000111                 1266              64  \n",
       "7089            1               0.000003                   -1              -1  \n",
       "1227            1               0.000004                 1666             619  \n",
       "2313            1               0.000011                 1270             348  \n",
       "\n",
       "[10 rows x 171 columns]"
      ]
     },
     "execution_count": 1051,
     "metadata": {},
     "output_type": "execute_result"
    }
   ],
   "source": [
    "test_data.sample(10)"
   ]
  },
  {
   "cell_type": "code",
   "execution_count": 1052,
   "metadata": {},
   "outputs": [],
   "source": [
    "test_data = test_data.drop(['Rating'], axis=1)"
   ]
  },
  {
   "cell_type": "code",
   "execution_count": 1053,
   "metadata": {},
   "outputs": [
    {
     "data": {
      "text/html": [
       "<div>\n",
       "<style scoped>\n",
       "    .dataframe tbody tr th:only-of-type {\n",
       "        vertical-align: middle;\n",
       "    }\n",
       "\n",
       "    .dataframe tbody tr th {\n",
       "        vertical-align: top;\n",
       "    }\n",
       "\n",
       "    .dataframe thead th {\n",
       "        text-align: right;\n",
       "    }\n",
       "</style>\n",
       "<table border=\"1\" class=\"dataframe\">\n",
       "  <thead>\n",
       "    <tr style=\"text-align: right;\">\n",
       "      <th></th>\n",
       "      <th>Restaurant_id</th>\n",
       "      <th>Rating</th>\n",
       "    </tr>\n",
       "  </thead>\n",
       "  <tbody>\n",
       "    <tr>\n",
       "      <th>0</th>\n",
       "      <td>id_0</td>\n",
       "      <td>2.0</td>\n",
       "    </tr>\n",
       "    <tr>\n",
       "      <th>1</th>\n",
       "      <td>id_1</td>\n",
       "      <td>2.5</td>\n",
       "    </tr>\n",
       "    <tr>\n",
       "      <th>2</th>\n",
       "      <td>id_2</td>\n",
       "      <td>4.0</td>\n",
       "    </tr>\n",
       "    <tr>\n",
       "      <th>3</th>\n",
       "      <td>id_3</td>\n",
       "      <td>1.0</td>\n",
       "    </tr>\n",
       "    <tr>\n",
       "      <th>4</th>\n",
       "      <td>id_4</td>\n",
       "      <td>4.0</td>\n",
       "    </tr>\n",
       "    <tr>\n",
       "      <th>...</th>\n",
       "      <td>...</td>\n",
       "      <td>...</td>\n",
       "    </tr>\n",
       "    <tr>\n",
       "      <th>9995</th>\n",
       "      <td>id_9995</td>\n",
       "      <td>3.0</td>\n",
       "    </tr>\n",
       "    <tr>\n",
       "      <th>9996</th>\n",
       "      <td>id_9996</td>\n",
       "      <td>1.5</td>\n",
       "    </tr>\n",
       "    <tr>\n",
       "      <th>9997</th>\n",
       "      <td>id_9997</td>\n",
       "      <td>4.5</td>\n",
       "    </tr>\n",
       "    <tr>\n",
       "      <th>9998</th>\n",
       "      <td>id_9998</td>\n",
       "      <td>1.0</td>\n",
       "    </tr>\n",
       "    <tr>\n",
       "      <th>9999</th>\n",
       "      <td>id_9999</td>\n",
       "      <td>2.5</td>\n",
       "    </tr>\n",
       "  </tbody>\n",
       "</table>\n",
       "<p>10000 rows × 2 columns</p>\n",
       "</div>"
      ],
      "text/plain": [
       "     Restaurant_id  Rating\n",
       "0             id_0     2.0\n",
       "1             id_1     2.5\n",
       "2             id_2     4.0\n",
       "3             id_3     1.0\n",
       "4             id_4     4.0\n",
       "...            ...     ...\n",
       "9995       id_9995     3.0\n",
       "9996       id_9996     1.5\n",
       "9997       id_9997     4.5\n",
       "9998       id_9998     1.0\n",
       "9999       id_9999     2.5\n",
       "\n",
       "[10000 rows x 2 columns]"
      ]
     },
     "execution_count": 1053,
     "metadata": {},
     "output_type": "execute_result"
    }
   ],
   "source": [
    "sample_submission"
   ]
  },
  {
   "cell_type": "code",
   "execution_count": 1054,
   "metadata": {},
   "outputs": [
    {
     "name": "stderr",
     "output_type": "stream",
     "text": [
      "[Parallel(n_jobs=4)]: Using backend ThreadingBackend with 4 concurrent workers.\n",
      "[Parallel(n_jobs=4)]: Done  42 tasks      | elapsed:    0.0s\n",
      "[Parallel(n_jobs=4)]: Done 100 out of 100 | elapsed:    0.0s finished\n"
     ]
    }
   ],
   "source": [
    "predict_submission = model.predict(test_data)"
   ]
  },
  {
   "cell_type": "code",
   "execution_count": 1055,
   "metadata": {},
   "outputs": [
    {
     "data": {
      "text/plain": [
       "array([3.025, 4.21 , 4.21 , ..., 2.99 , 4.49 , 4.395])"
      ]
     },
     "execution_count": 1055,
     "metadata": {},
     "output_type": "execute_result"
    }
   ],
   "source": [
    "predict_submission"
   ]
  },
  {
   "cell_type": "code",
   "execution_count": 1056,
   "metadata": {},
   "outputs": [
    {
     "data": {
      "text/html": [
       "<div>\n",
       "<style scoped>\n",
       "    .dataframe tbody tr th:only-of-type {\n",
       "        vertical-align: middle;\n",
       "    }\n",
       "\n",
       "    .dataframe tbody tr th {\n",
       "        vertical-align: top;\n",
       "    }\n",
       "\n",
       "    .dataframe thead th {\n",
       "        text-align: right;\n",
       "    }\n",
       "</style>\n",
       "<table border=\"1\" class=\"dataframe\">\n",
       "  <thead>\n",
       "    <tr style=\"text-align: right;\">\n",
       "      <th></th>\n",
       "      <th>Restaurant_id</th>\n",
       "      <th>Rating</th>\n",
       "    </tr>\n",
       "  </thead>\n",
       "  <tbody>\n",
       "    <tr>\n",
       "      <th>0</th>\n",
       "      <td>id_0</td>\n",
       "      <td>3.025</td>\n",
       "    </tr>\n",
       "    <tr>\n",
       "      <th>1</th>\n",
       "      <td>id_1</td>\n",
       "      <td>4.210</td>\n",
       "    </tr>\n",
       "    <tr>\n",
       "      <th>2</th>\n",
       "      <td>id_2</td>\n",
       "      <td>4.210</td>\n",
       "    </tr>\n",
       "    <tr>\n",
       "      <th>3</th>\n",
       "      <td>id_3</td>\n",
       "      <td>4.375</td>\n",
       "    </tr>\n",
       "    <tr>\n",
       "      <th>4</th>\n",
       "      <td>id_4</td>\n",
       "      <td>4.500</td>\n",
       "    </tr>\n",
       "    <tr>\n",
       "      <th>5</th>\n",
       "      <td>id_5</td>\n",
       "      <td>4.515</td>\n",
       "    </tr>\n",
       "    <tr>\n",
       "      <th>6</th>\n",
       "      <td>id_6</td>\n",
       "      <td>1.850</td>\n",
       "    </tr>\n",
       "    <tr>\n",
       "      <th>7</th>\n",
       "      <td>id_7</td>\n",
       "      <td>2.875</td>\n",
       "    </tr>\n",
       "    <tr>\n",
       "      <th>8</th>\n",
       "      <td>id_8</td>\n",
       "      <td>4.375</td>\n",
       "    </tr>\n",
       "    <tr>\n",
       "      <th>9</th>\n",
       "      <td>id_9</td>\n",
       "      <td>4.625</td>\n",
       "    </tr>\n",
       "  </tbody>\n",
       "</table>\n",
       "</div>"
      ],
      "text/plain": [
       "  Restaurant_id  Rating\n",
       "0          id_0   3.025\n",
       "1          id_1   4.210\n",
       "2          id_2   4.210\n",
       "3          id_3   4.375\n",
       "4          id_4   4.500\n",
       "5          id_5   4.515\n",
       "6          id_6   1.850\n",
       "7          id_7   2.875\n",
       "8          id_8   4.375\n",
       "9          id_9   4.625"
      ]
     },
     "execution_count": 1056,
     "metadata": {},
     "output_type": "execute_result"
    }
   ],
   "source": [
    "sample_submission['Rating'] = predict_submission\n",
    "sample_submission.to_csv('submission.csv', index=False)\n",
    "sample_submission.head(10)"
   ]
  },
  {
   "cell_type": "markdown",
   "metadata": {},
   "source": [
    "# What's next?\n",
    "Или что делать, чтоб улучшить результат:\n",
    "* Обработать оставшиеся признаки в понятный для машины формат\n",
    "* Посмотреть, что еще можно извлечь из признаков\n",
    "* Сгенерировать новые признаки\n",
    "* Подгрузить дополнительные данные, например: по населению или благосостоянию городов\n",
    "* Подобрать состав признаков\n",
    "\n",
    "В общем, процесс творческий и весьма увлекательный! Удачи в соревновании!\n"
   ]
  },
  {
   "cell_type": "code",
   "execution_count": null,
   "metadata": {},
   "outputs": [],
   "source": []
  }
 ],
 "metadata": {
  "kernelspec": {
   "display_name": "Python 3",
   "language": "python",
   "name": "python3"
  },
  "language_info": {
   "codemirror_mode": {
    "name": "ipython",
    "version": 3
   },
   "file_extension": ".py",
   "mimetype": "text/x-python",
   "name": "python",
   "nbconvert_exporter": "python",
   "pygments_lexer": "ipython3",
   "version": "3.8.3"
  }
 },
 "nbformat": 4,
 "nbformat_minor": 1
}
